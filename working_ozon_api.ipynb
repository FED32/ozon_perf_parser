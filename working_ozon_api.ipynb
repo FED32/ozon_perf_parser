{
 "cells": [
  {
   "cell_type": "markdown",
   "id": "656981c9",
   "metadata": {},
   "source": [
    "https://docs.ozon.ru/api/seller/"
   ]
  },
  {
   "cell_type": "code",
   "execution_count": 1,
   "id": "809802e6",
   "metadata": {},
   "outputs": [],
   "source": [
    "import requests\n",
    "import json"
   ]
  },
  {
   "cell_type": "code",
   "execution_count": 2,
   "id": "d592db3a",
   "metadata": {},
   "outputs": [],
   "source": [
    "class Ozon_working:\n",
    "    def __init__(self, url_ = 'https://api-seller.ozon.ru'):\n",
    "        self.url = url_\n",
    "        \n",
    "    def get_actions_list(self, client_id, api_key, \n",
    "                         method = '/v1/actions'):\n",
    "        self.head = {\n",
    "            \"Client-Id\": client_id,\n",
    "            \"Api-Key\": api_key, \n",
    "            \"Content-Type\": \"application/json\"\n",
    "        }\n",
    "        response = requests.get(self.url + method, headers=self.head)\n",
    "        try:\n",
    "            return response.json()[\"result\"]\n",
    "        except KeyError:\n",
    "                print('KeyError')\n",
    "                return response.json()\n",
    "          \n",
    "    def get_candidates(self, client_id, api_key, action_id,\n",
    "                       method = '/v1/actions/candidates',\n",
    "                       limit = 100):\n",
    "        offset = 0\n",
    "        res = []\n",
    "        while True:\n",
    "            body = {\"action_id\": action_id, \"limit\": limit, \"offset\": offset}\n",
    "            response = requests.post(self.url + method, headers=self.head, data=json.dumps(body))\n",
    "            try:\n",
    "                if len(response.json()[\"result\"][\"products\"]) > 0:\n",
    "                    res.append(response.json()[\"result\"][\"products\"])\n",
    "                    offset += limit\n",
    "                else:\n",
    "                    break\n",
    "                return set(res)\n",
    "            except KeyError:\n",
    "                print('KeyError')\n",
    "                return response.json()\n",
    "                break\n",
    "                   \n",
    "#         res = []\n",
    "#         for i in range(0, 1000, limit):\n",
    "#             offset = i\n",
    "#             body = {\"action_id\": action_id, \"limit\": limit, \"offset\": offset}\n",
    "#             response = requests.post(self.url + method, headers=self.head, data=json.dumps(body))\n",
    "#             try:\n",
    "#                 res.append(response.json()[\"result\"][\"products\"])\n",
    "#                 return set(res)\n",
    "#             except KeyError:\n",
    "#                 print('KeyError')\n",
    "#                 return response.json()\n",
    " \n",
    "    \n",
    "    def del_product(self, client_id, api_key, action_id, product_ids,\n",
    "                    method = '/v1/actions/products/deactivate'):\n",
    "        body = {\n",
    "            \"action_id\": action_id,\n",
    "            \"product_ids\": product_ids\n",
    "        }        \n",
    "        response = requests.post(self.url + method, headers=self.head, data=json.dumps(body))\n",
    "        try:\n",
    "            return response.json()[\"result\"]\n",
    "        except KeyError:\n",
    "            print('KeyError')\n",
    "            return response.json()\n",
    "    \n",
    "        "
   ]
  },
  {
   "cell_type": "code",
   "execution_count": 3,
   "id": "6c108647",
   "metadata": {},
   "outputs": [],
   "source": [
    "ozon = Ozon_working()"
   ]
  },
  {
   "cell_type": "code",
   "execution_count": 4,
   "id": "e571876b",
   "metadata": {},
   "outputs": [
    {
     "data": {
      "text/plain": [
       "'https://api-seller.ozon.ru'"
      ]
     },
     "execution_count": 4,
     "metadata": {},
     "output_type": "execute_result"
    }
   ],
   "source": [
    "ozon.url"
   ]
  },
  {
   "cell_type": "code",
   "execution_count": 5,
   "id": "ddae728b",
   "metadata": {},
   "outputs": [],
   "source": [
    "client_id = '836'\n",
    "api_key = '0296d4f2-70a1-4c09-b507-904fd05567b9'\n",
    "\n",
    "# client_id = '812'\n",
    "# api_key = '04c1d-a754-4c7f-aa2c-8d14e256'"
   ]
  },
  {
   "cell_type": "code",
   "execution_count": 6,
   "id": "096e61af",
   "metadata": {},
   "outputs": [
    {
     "name": "stdout",
     "output_type": "stream",
     "text": [
      "KeyError\n"
     ]
    },
    {
     "data": {
      "text/plain": [
       "{'code': 7,\n",
       " 'message': 'Invalid Api-Key, please contact support',\n",
       " 'details': []}"
      ]
     },
     "execution_count": 6,
     "metadata": {},
     "output_type": "execute_result"
    }
   ],
   "source": [
    "ozon.get_actions_list(client_id = client_id, api_key = api_key)"
   ]
  },
  {
   "cell_type": "code",
   "execution_count": 7,
   "id": "a7d747ce",
   "metadata": {},
   "outputs": [
    {
     "name": "stdout",
     "output_type": "stream",
     "text": [
      "KeyError\n"
     ]
    },
    {
     "data": {
      "text/plain": [
       "{'code': 7,\n",
       " 'message': 'Invalid Api-Key, please contact support',\n",
       " 'details': []}"
      ]
     },
     "execution_count": 7,
     "metadata": {},
     "output_type": "execute_result"
    }
   ],
   "source": [
    "ozon.get_candidates(client_id = 'swe', api_key = 'we', action_id = '568')"
   ]
  },
  {
   "cell_type": "code",
   "execution_count": 8,
   "id": "87c95850",
   "metadata": {},
   "outputs": [
    {
     "name": "stdout",
     "output_type": "stream",
     "text": [
      "KeyError\n"
     ]
    },
    {
     "data": {
      "text/plain": [
       "{'code': 7,\n",
       " 'message': 'Invalid Api-Key, please contact support',\n",
       " 'details': []}"
      ]
     },
     "execution_count": 8,
     "metadata": {},
     "output_type": "execute_result"
    }
   ],
   "source": [
    "ozon.del_product(client_id = client_id, api_key = api_key, action_id = '598', product_ids = ['458', '894'])"
   ]
  },
  {
   "cell_type": "code",
   "execution_count": null,
   "id": "4b07fec9",
   "metadata": {},
   "outputs": [],
   "source": []
  },
  {
   "cell_type": "code",
   "execution_count": null,
   "id": "bf637fef",
   "metadata": {},
   "outputs": [],
   "source": []
  },
  {
   "cell_type": "code",
   "execution_count": null,
   "id": "35ea5c15",
   "metadata": {},
   "outputs": [],
   "source": []
  }
 ],
 "metadata": {
  "kernelspec": {
   "display_name": "Python 3 (ipykernel)",
   "language": "python",
   "name": "python3"
  },
  "language_info": {
   "codemirror_mode": {
    "name": "ipython",
    "version": 3
   },
   "file_extension": ".py",
   "mimetype": "text/x-python",
   "name": "python",
   "nbconvert_exporter": "python",
   "pygments_lexer": "ipython3",
   "version": "3.8.11"
  }
 },
 "nbformat": 4,
 "nbformat_minor": 5
}
