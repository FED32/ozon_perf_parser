{
 "cells": [
  {
   "cell_type": "code",
   "execution_count": 1,
   "id": "809802e6",
   "metadata": {},
   "outputs": [],
   "source": [
    "import requests\n",
    "import json"
   ]
  },
  {
   "cell_type": "code",
   "execution_count": 2,
   "id": "d592db3a",
   "metadata": {},
   "outputs": [],
   "source": [
    "class Ozon_working:\n",
    "    def __init__(self, url_ = 'https://api-seller.ozon.ru'):\n",
    "        self.url = url_\n",
    "        \n",
    "    def get_actions_list(self, client_id, api_key, \n",
    "                         method = '/v1/actions'):\n",
    "        self.head = {\n",
    "            \"Client-Id\": client_id,\n",
    "            \"Api-Key\": api_key, \n",
    "            \"Content-Type\": \"application/json\"\n",
    "        }\n",
    "        response = requests.get(self.url + method, params=json.dumps(self.head))\n",
    "        try:\n",
    "            return response.json()[\"result\"]\n",
    "        except KeyError:\n",
    "                print('KeyError')\n",
    "                return response.json()\n",
    "          \n",
    "    def get_candidates(self, client_id, api_key, action_id,\n",
    "                       method = '/v1/actions/candidates',\n",
    "                       limit = 100):        \n",
    "        res = []\n",
    "        for i in range(0, 1000, limit):\n",
    "            offset = i\n",
    "            body = {\"action_id\": action_id, \"limit\": limit, \"offset\": offset}\n",
    "            response = requests.post(self.url + method, headers=self.head, data=json.dumps(body))\n",
    "            try:\n",
    "                res.append(response.json()[\"result\"][\"products\"])\n",
    "                return set(res)\n",
    "            except KeyError:\n",
    "                print('KeyError')\n",
    "                return response.json()\n",
    " \n",
    "    \n",
    "    def del_product(self, client_id, api_key, action_id, product_ids,\n",
    "                    method = '/v1/actions/products/deactivate'):\n",
    "        body = {\n",
    "            \"action_id\": action_id,\n",
    "            \"product_ids\": product_ids\n",
    "        }        \n",
    "        response = requests.post(self.url + method, headers=self.head, data=json.dumps(body))\n",
    "        try:\n",
    "            return response.json()[\"result\"]\n",
    "        except KeyError:\n",
    "            print('KeyError')\n",
    "            return response.json()\n",
    "    \n",
    "        "
   ]
  },
  {
   "cell_type": "code",
   "execution_count": 3,
   "id": "6c108647",
   "metadata": {},
   "outputs": [],
   "source": [
    "ozon = Ozon_working()"
   ]
  },
  {
   "cell_type": "code",
   "execution_count": 4,
   "id": "e571876b",
   "metadata": {},
   "outputs": [
    {
     "data": {
      "text/plain": [
       "'https://api-seller.ozon.ru'"
      ]
     },
     "execution_count": 4,
     "metadata": {},
     "output_type": "execute_result"
    }
   ],
   "source": [
    "ozon.url"
   ]
  },
  {
   "cell_type": "code",
   "execution_count": 5,
   "id": "096e61af",
   "metadata": {},
   "outputs": [
    {
     "name": "stdout",
     "output_type": "stream",
     "text": [
      "KeyError\n"
     ]
    },
    {
     "data": {
      "text/plain": [
       "{'code': 16, 'message': 'Client-Id and Api-Key headers are required'}"
      ]
     },
     "execution_count": 5,
     "metadata": {},
     "output_type": "execute_result"
    }
   ],
   "source": [
    "ozon.get_actions_list(client_id = 'fdf', api_key = 's')"
   ]
  },
  {
   "cell_type": "code",
   "execution_count": 6,
   "id": "a7d747ce",
   "metadata": {},
   "outputs": [
    {
     "name": "stdout",
     "output_type": "stream",
     "text": [
      "KeyError\n"
     ]
    },
    {
     "data": {
      "text/plain": [
       "{'code': 16, 'message': 'Client-Id and Api-Key headers are required'}"
      ]
     },
     "execution_count": 6,
     "metadata": {},
     "output_type": "execute_result"
    }
   ],
   "source": [
    "ozon.get_candidates(client_id = 'swe', api_key = 'we', action_id = 'wewe')"
   ]
  },
  {
   "cell_type": "code",
   "execution_count": 7,
   "id": "87c95850",
   "metadata": {},
   "outputs": [
    {
     "name": "stdout",
     "output_type": "stream",
     "text": [
      "KeyError\n"
     ]
    },
    {
     "data": {
      "text/plain": [
       "{'code': 16, 'message': 'Client-Id and Api-Key headers are required'}"
      ]
     },
     "execution_count": 7,
     "metadata": {},
     "output_type": "execute_result"
    }
   ],
   "source": [
    "ozon.del_product(client_id = 'swe', api_key = 'we', action_id = 'wewe', product_ids = ['458', '894'])"
   ]
  },
  {
   "cell_type": "code",
   "execution_count": null,
   "id": "4b07fec9",
   "metadata": {},
   "outputs": [],
   "source": []
  }
 ],
 "metadata": {
  "kernelspec": {
   "display_name": "Python 3 (ipykernel)",
   "language": "python",
   "name": "python3"
  },
  "language_info": {
   "codemirror_mode": {
    "name": "ipython",
    "version": 3
   },
   "file_extension": ".py",
   "mimetype": "text/x-python",
   "name": "python",
   "nbconvert_exporter": "python",
   "pygments_lexer": "ipython3",
   "version": "3.8.11"
  }
 },
 "nbformat": 4,
 "nbformat_minor": 5
}
