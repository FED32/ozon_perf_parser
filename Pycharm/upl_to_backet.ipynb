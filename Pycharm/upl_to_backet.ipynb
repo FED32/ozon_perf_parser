{
 "cells": [
  {
   "cell_type": "markdown",
   "id": "7efdead0",
   "metadata": {},
   "source": [
    "https://cloud.yandex.ru/docs/storage/tools/boto\n",
    "\n",
    "https://boto3.amazonaws.com/v1/documentation/api/latest/guide/s3-uploading-files.html"
   ]
  },
  {
   "cell_type": "code",
   "execution_count": 1,
   "id": "b51cba3d",
   "metadata": {},
   "outputs": [],
   "source": [
    "import logging\n",
    "import boto3\n",
    "from botocore.exceptions import ClientError\n",
    "import os\n",
    "import sys\n",
    "import threading"
   ]
  },
  {
   "cell_type": "code",
   "execution_count": 2,
   "id": "bbaa441b",
   "metadata": {},
   "outputs": [],
   "source": [
    "session = boto3.session.Session()"
   ]
  },
  {
   "cell_type": "code",
   "execution_count": 3,
   "id": "853d3072",
   "metadata": {},
   "outputs": [],
   "source": [
    "s3 = session.client(\n",
    "    service_name='s3',\n",
    "    endpoint_url='https://storage.yandexcloud.net'\n",
    ")"
   ]
  },
  {
   "cell_type": "code",
   "execution_count": 4,
   "id": "7bf67306",
   "metadata": {},
   "outputs": [
    {
     "name": "stdout",
     "output_type": "stream",
     "text": [
      "Existing buckets:\n",
      "  ecomru.tmpfs\n"
     ]
    }
   ],
   "source": [
    "response = s3.list_buckets()\n",
    "print('Existing buckets:')\n",
    "for bucket in response['Buckets']:\n",
    "    print(f'  {bucket[\"Name\"]}')"
   ]
  },
  {
   "cell_type": "code",
   "execution_count": 5,
   "id": "cfd7058d",
   "metadata": {},
   "outputs": [],
   "source": [
    "# s3.put_object(Bucket='ecomru.tmpfs', Key='YCAJEcf7xCvFmawEmP7NQxPN0', Body='TEST', StorageClass='COLD')"
   ]
  },
  {
   "cell_type": "code",
   "execution_count": 6,
   "id": "81f6d581",
   "metadata": {},
   "outputs": [],
   "source": [
    "def upload_file(file_name, bucket, object_name=None):\n",
    "    \"\"\"Upload a file to an S3 bucket\n",
    "\n",
    "    :param file_name: File to upload\n",
    "    :param bucket: Bucket to upload to\n",
    "    :param object_name: S3 object name. If not specified then file_name is used\n",
    "    :return: True if file was uploaded, else False\n",
    "    \"\"\"\n",
    "\n",
    "    # If S3 object_name was not specified, use file_name\n",
    "    if object_name is None:\n",
    "        object_name = os.path.basename(file_name)\n",
    "\n",
    "    # Upload the file\n",
    "    try:\n",
    "        response = s3.upload_file(file_name, bucket, object_name, Callback=ProgressPercentage(file_name))\n",
    "    except ClientError as e:\n",
    "        logging.error(e)\n",
    "        return False\n",
    "    return True"
   ]
  },
  {
   "cell_type": "code",
   "execution_count": 7,
   "id": "eda71c05",
   "metadata": {},
   "outputs": [],
   "source": [
    "class ProgressPercentage(object):\n",
    "\n",
    "    def __init__(self, filename):\n",
    "        self._filename = filename\n",
    "        self._size = float(os.path.getsize(filename))\n",
    "        self._seen_so_far = 0\n",
    "        self._lock = threading.Lock()\n",
    "\n",
    "    def __call__(self, bytes_amount):\n",
    "        # To simplify, assume this is hooked up to a single filename\n",
    "        with self._lock:\n",
    "            self._seen_so_far += bytes_amount\n",
    "            percentage = (self._seen_so_far / self._size) * 100\n",
    "            sys.stdout.write(\n",
    "                \"\\r%s  %s / %s  (%.2f%%)\" % (\n",
    "                    self._filename, self._seen_so_far, self._size,\n",
    "                    percentage))\n",
    "            sys.stdout.flush()"
   ]
  },
  {
   "cell_type": "code",
   "execution_count": 8,
   "id": "b39a3424",
   "metadata": {},
   "outputs": [],
   "source": [
    "path = ''\n",
    "files = ['ozon_performance.py', 'Parser.py']"
   ]
  },
  {
   "cell_type": "code",
   "execution_count": 9,
   "id": "6a4995c0",
   "metadata": {},
   "outputs": [
    {
     "name": "stdout",
     "output_type": "stream",
     "text": [
      "Parser.py  4319 / 4319.0  (100.00%)0  (100.00%)"
     ]
    }
   ],
   "source": [
    "for f in files:\n",
    "#     print(path+f)\n",
    "    file = path+f\n",
    "    upload_file(file, 'ecomru.tmpfs')    "
   ]
  },
  {
   "cell_type": "code",
   "execution_count": 10,
   "id": "ea8b3d13",
   "metadata": {},
   "outputs": [
    {
     "name": "stdout",
     "output_type": "stream",
     "text": [
      "Parser.py\n",
      "ozon_performance.py\n"
     ]
    }
   ],
   "source": [
    "# Получить список объектов в бакете\n",
    "for key in s3.list_objects(Bucket='ecomru.tmpfs')['Contents']:\n",
    "    print(key['Key'])"
   ]
  },
  {
   "cell_type": "code",
   "execution_count": null,
   "id": "ff2bdea8",
   "metadata": {},
   "outputs": [],
   "source": []
  },
  {
   "cell_type": "code",
   "execution_count": null,
   "id": "65674516",
   "metadata": {},
   "outputs": [],
   "source": []
  },
  {
   "cell_type": "code",
   "execution_count": null,
   "id": "708993bd",
   "metadata": {},
   "outputs": [],
   "source": []
  },
  {
   "cell_type": "code",
   "execution_count": null,
   "id": "d8484dd2",
   "metadata": {},
   "outputs": [],
   "source": []
  },
  {
   "cell_type": "code",
   "execution_count": null,
   "id": "abc1bc1d",
   "metadata": {},
   "outputs": [],
   "source": []
  }
 ],
 "metadata": {
  "kernelspec": {
   "display_name": "Python 3 (ipykernel)",
   "language": "python",
   "name": "python3"
  },
  "language_info": {
   "codemirror_mode": {
    "name": "ipython",
    "version": 3
   },
   "file_extension": ".py",
   "mimetype": "text/x-python",
   "name": "python",
   "nbconvert_exporter": "python",
   "pygments_lexer": "ipython3",
   "version": "3.8.11"
  }
 },
 "nbformat": 4,
 "nbformat_minor": 5
}
