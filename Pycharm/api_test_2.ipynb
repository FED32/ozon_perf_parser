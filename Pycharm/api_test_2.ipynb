{
 "cells": [
  {
   "cell_type": "code",
   "execution_count": 1,
   "id": "0b79af87-561e-4a5c-b0b2-bb90584d47fa",
   "metadata": {},
   "outputs": [],
   "source": [
    "import requests\n",
    "import json\n",
    "import pandas as pd\n",
    "import numpy as np"
   ]
  },
  {
   "cell_type": "code",
   "execution_count": 2,
   "id": "8cc1a248-480a-4efe-afbf-7f5985a87dbb",
   "metadata": {},
   "outputs": [],
   "source": [
    "account_id = '163'\n",
    "client_id = '2566935-1658915426925@advertising.performance.ozon.ru'\n",
    "client_secret = 'pJ83birNdgT_oglv1pYjE-IEwqxJMBN7lTITeT5gv_rRXKnELCwGrwZcSBV-Fc2VipUMciLLue9iLhudow'"
   ]
  },
  {
   "cell_type": "code",
   "execution_count": 3,
   "id": "7332d8d9-ded9-4ec9-81bf-2720c2e7e0d5",
   "metadata": {},
   "outputs": [],
   "source": [
    "url1 = \"http://127.0.0.1:3000\"\n",
    "url2 = \"http://'api.ecomru.ru':5000\""
   ]
  },
  {
   "cell_type": "markdown",
   "id": "affab9fd-d27e-4952-8cf3-562dc2f2df91",
   "metadata": {},
   "source": [
    "### Запрос кампаний\n",
    "\n",
    "POST\n",
    "\n",
    "/ozonperformance/campaigns"
   ]
  },
  {
   "cell_type": "code",
   "execution_count": 6,
   "id": "a85935a0-d5d8-4090-92be-3a3f1486e74e",
   "metadata": {},
   "outputs": [
    {
     "data": {
      "text/plain": [
       "<Response [200]>"
      ]
     },
     "execution_count": 6,
     "metadata": {},
     "output_type": "execute_result"
    }
   ],
   "source": [
    "body = {\"client_id\": client_id, \n",
    "        \"client_secret\": client_secret}\n",
    "\n",
    "head = {\"Content-Type\": \"application/json\"}\n",
    "\n",
    "url = url1 + \"/ozonperformance/campaigns\"\n",
    "request = requests.post(url, headers=head, \n",
    "                        data=json.dumps(body)\n",
    "                        # data={}\n",
    "                       )\n",
    "request"
   ]
  },
  {
   "cell_type": "code",
   "execution_count": 7,
   "id": "0731b4ec-90e1-456b-ae6c-7983238d63db",
   "metadata": {},
   "outputs": [
    {
     "data": {
      "text/plain": [
       "{'result': [{'advObjectType': 'SKU',\n",
       "   'autopilot': {'categoryId': '0', 'maxBid': '0'},\n",
       "   'budget': '0',\n",
       "   'createdAt': '2022-10-08T21:53:22.404332Z',\n",
       "   'dailyBudget': '500000000',\n",
       "   'fromDate': '2022-10-09',\n",
       "   'id': '1674651',\n",
       "   'placement': ['PLACEMENT_SEARCH_AND_CATEGORY'],\n",
       "   'productAutopilotStrategy': 'NO_AUTO_STRATEGY',\n",
       "   'productCampaignMode': 'PRODUCT_CAMPAIGN_MODE_AUTO',\n",
       "   'state': 'CAMPAIGN_STATE_INACTIVE',\n",
       "   'title': 'тестовая api 6',\n",
       "   'toDate': '',\n",
       "   'updatedAt': '2022-10-08T21:53:22.404332Z'},\n",
       "  {'advObjectType': 'SKU',\n",
       "   'autopilot': {'categoryId': '0', 'maxBid': '0'},\n",
       "   'budget': '0',\n",
       "   'createdAt': '2022-10-04T21:30:23.390420Z',\n",
       "   'dailyBudget': '500000000',\n",
       "   'fromDate': '2022-10-05',\n",
       "   'id': '1658881',\n",
       "   'placement': ['PLACEMENT_SEARCH_AND_CATEGORY'],\n",
       "   'productAutopilotStrategy': 'NO_AUTO_STRATEGY',\n",
       "   'productCampaignMode': 'PRODUCT_CAMPAIGN_MODE_AUTO',\n",
       "   'state': 'CAMPAIGN_STATE_INACTIVE',\n",
       "   'title': 'тестовая api 6',\n",
       "   'toDate': '',\n",
       "   'updatedAt': '2022-10-04T21:30:23.390420Z'},\n",
       "  {'advObjectType': 'SKU',\n",
       "   'autopilot': {'categoryId': '0', 'maxBid': '0'},\n",
       "   'budget': '0',\n",
       "   'createdAt': '2022-10-02T19:31:27.056771Z',\n",
       "   'dailyBudget': '500000000',\n",
       "   'fromDate': '2022-10-02',\n",
       "   'id': '1649220',\n",
       "   'placement': ['PLACEMENT_SEARCH_AND_CATEGORY'],\n",
       "   'productAutopilotStrategy': 'NO_AUTO_STRATEGY',\n",
       "   'productCampaignMode': 'PRODUCT_CAMPAIGN_MODE_AUTO',\n",
       "   'state': 'CAMPAIGN_STATE_INACTIVE',\n",
       "   'title': 'тестовая api 5',\n",
       "   'toDate': '',\n",
       "   'updatedAt': '2022-10-02T19:31:27.056771Z'},\n",
       "  {'advObjectType': 'SKU',\n",
       "   'autopilot': {'categoryId': '0', 'maxBid': '0'},\n",
       "   'budget': '0',\n",
       "   'createdAt': '2022-10-01T22:11:11.204940Z',\n",
       "   'dailyBudget': '500000000',\n",
       "   'fromDate': '2022-10-02',\n",
       "   'id': '1647020',\n",
       "   'placement': ['PLACEMENT_SEARCH_AND_CATEGORY'],\n",
       "   'productAutopilotStrategy': 'NO_AUTO_STRATEGY',\n",
       "   'productCampaignMode': 'PRODUCT_CAMPAIGN_MODE_AUTO',\n",
       "   'state': 'CAMPAIGN_STATE_INACTIVE',\n",
       "   'title': 'тестовая api 5',\n",
       "   'toDate': '',\n",
       "   'updatedAt': '2022-10-01T22:11:11.204940Z'},\n",
       "  {'advObjectType': 'SKU',\n",
       "   'autopilot': {'categoryId': '0', 'maxBid': '0'},\n",
       "   'budget': '0',\n",
       "   'createdAt': '2022-10-01T22:08:37.022533Z',\n",
       "   'dailyBudget': '500000000',\n",
       "   'fromDate': '2022-10-02',\n",
       "   'id': '1647014',\n",
       "   'placement': ['PLACEMENT_SEARCH_AND_CATEGORY'],\n",
       "   'productAutopilotStrategy': 'NO_AUTO_STRATEGY',\n",
       "   'productCampaignMode': 'PRODUCT_CAMPAIGN_MODE_AUTO',\n",
       "   'state': 'CAMPAIGN_STATE_INACTIVE',\n",
       "   'title': 'тестовая api 4',\n",
       "   'toDate': '',\n",
       "   'updatedAt': '2022-10-01T22:08:37.022533Z'},\n",
       "  {'advObjectType': 'SKU',\n",
       "   'autopilot': {'categoryId': '0', 'maxBid': '0'},\n",
       "   'budget': '0',\n",
       "   'createdAt': '2022-10-01T22:08:26.832464Z',\n",
       "   'dailyBudget': '500000000',\n",
       "   'fromDate': '2022-10-02',\n",
       "   'id': '1647013',\n",
       "   'placement': ['PLACEMENT_SEARCH_AND_CATEGORY'],\n",
       "   'productAutopilotStrategy': 'NO_AUTO_STRATEGY',\n",
       "   'productCampaignMode': 'PRODUCT_CAMPAIGN_MODE_AUTO',\n",
       "   'state': 'CAMPAIGN_STATE_INACTIVE',\n",
       "   'title': 'тестовая api 3',\n",
       "   'toDate': '',\n",
       "   'updatedAt': '2022-10-01T22:08:26.832464Z'},\n",
       "  {'advObjectType': 'SKU',\n",
       "   'autopilot': {'categoryId': '0', 'maxBid': '0'},\n",
       "   'budget': '0',\n",
       "   'createdAt': '2022-10-01T21:45:43.758558Z',\n",
       "   'dailyBudget': '500000000',\n",
       "   'fromDate': '2022-10-02',\n",
       "   'id': '1646987',\n",
       "   'placement': ['PLACEMENT_SEARCH_AND_CATEGORY'],\n",
       "   'productAutopilotStrategy': 'NO_AUTO_STRATEGY',\n",
       "   'productCampaignMode': 'PRODUCT_CAMPAIGN_MODE_AUTO',\n",
       "   'state': 'CAMPAIGN_STATE_INACTIVE',\n",
       "   'title': 'тестовая api 3',\n",
       "   'toDate': '',\n",
       "   'updatedAt': '2022-10-01T21:45:43.758558Z'},\n",
       "  {'advObjectType': 'SKU',\n",
       "   'autopilot': {'categoryId': '0', 'maxBid': '0'},\n",
       "   'budget': '0',\n",
       "   'createdAt': '2022-10-01T21:44:16.803205Z',\n",
       "   'dailyBudget': '500000000',\n",
       "   'fromDate': '2022-10-02',\n",
       "   'id': '1646986',\n",
       "   'placement': ['PLACEMENT_SEARCH_AND_CATEGORY'],\n",
       "   'productAutopilotStrategy': 'NO_AUTO_STRATEGY',\n",
       "   'productCampaignMode': 'PRODUCT_CAMPAIGN_MODE_AUTO',\n",
       "   'state': 'CAMPAIGN_STATE_INACTIVE',\n",
       "   'title': 'тестовая api 3',\n",
       "   'toDate': '',\n",
       "   'updatedAt': '2022-10-01T21:44:16.803205Z'},\n",
       "  {'advObjectType': 'SKU',\n",
       "   'autopilot': {'categoryId': '0', 'maxBid': '0'},\n",
       "   'budget': '0',\n",
       "   'createdAt': '2022-10-01T21:44:03.578410Z',\n",
       "   'dailyBudget': '500000000',\n",
       "   'fromDate': '2022-10-02',\n",
       "   'id': '1646985',\n",
       "   'placement': ['PLACEMENT_SEARCH_AND_CATEGORY'],\n",
       "   'productAutopilotStrategy': 'NO_AUTO_STRATEGY',\n",
       "   'productCampaignMode': 'PRODUCT_CAMPAIGN_MODE_AUTO',\n",
       "   'state': 'CAMPAIGN_STATE_INACTIVE',\n",
       "   'title': 'тестовая api 1',\n",
       "   'toDate': '',\n",
       "   'updatedAt': '2022-10-01T21:44:03.578410Z'},\n",
       "  {'advObjectType': 'SKU',\n",
       "   'autopilot': {'categoryId': '0', 'maxBid': '0'},\n",
       "   'budget': '0',\n",
       "   'createdAt': '2022-10-01T19:41:43.032813Z',\n",
       "   'dailyBudget': '500000000',\n",
       "   'fromDate': '2022-10-01',\n",
       "   'id': '1646823',\n",
       "   'placement': ['PLACEMENT_SEARCH_AND_CATEGORY'],\n",
       "   'productAutopilotStrategy': 'NO_AUTO_STRATEGY',\n",
       "   'productCampaignMode': 'PRODUCT_CAMPAIGN_MODE_AUTO',\n",
       "   'state': 'CAMPAIGN_STATE_INACTIVE',\n",
       "   'title': 'тестовая api 1',\n",
       "   'toDate': '',\n",
       "   'updatedAt': '2022-10-08T22:11:11.617964Z'},\n",
       "  {'advObjectType': 'SKU',\n",
       "   'autopilot': {'categoryId': '0', 'maxBid': '0'},\n",
       "   'budget': '0',\n",
       "   'createdAt': '2022-09-29T18:56:10.153790Z',\n",
       "   'dailyBudget': '1000000000',\n",
       "   'fromDate': '2022-10-01',\n",
       "   'id': '1639751',\n",
       "   'placement': ['PLACEMENT_SEARCH_AND_CATEGORY'],\n",
       "   'productAutopilotStrategy': 'NO_AUTO_STRATEGY',\n",
       "   'productCampaignMode': 'PRODUCT_CAMPAIGN_MODE_AUTO',\n",
       "   'state': 'CAMPAIGN_STATE_FINISHED',\n",
       "   'title': 'тестовая api 1',\n",
       "   'toDate': '2022-10-05',\n",
       "   'updatedAt': '2022-10-01T22:25:57.720946Z'},\n",
       "  {'advObjectType': 'SKU',\n",
       "   'autopilot': {'categoryId': '0', 'maxBid': '0'},\n",
       "   'budget': '0',\n",
       "   'createdAt': '2022-07-27T20:45:02.439420Z',\n",
       "   'dailyBudget': '500000000',\n",
       "   'fromDate': '2022-07-30',\n",
       "   'id': '1368475',\n",
       "   'placement': ['PLACEMENT_SEARCH_AND_CATEGORY'],\n",
       "   'productAutopilotStrategy': 'NO_AUTO_STRATEGY',\n",
       "   'productCampaignMode': 'PRODUCT_CAMPAIGN_MODE_AUTO',\n",
       "   'state': 'CAMPAIGN_STATE_FINISHED',\n",
       "   'title': 'Моя новая кампания',\n",
       "   'toDate': '2022-08-10',\n",
       "   'updatedAt': '2022-07-27T21:00:28.353155Z'},\n",
       "  {'advObjectType': 'SKU',\n",
       "   'autopilot': {'categoryId': '0', 'maxBid': '0'},\n",
       "   'budget': '0',\n",
       "   'createdAt': '2022-07-27T20:30:53.129355Z',\n",
       "   'dailyBudget': '0',\n",
       "   'fromDate': '2022-07-30',\n",
       "   'id': '1368450',\n",
       "   'placement': ['PLACEMENT_SEARCH_AND_CATEGORY'],\n",
       "   'productAutopilotStrategy': 'NO_AUTO_STRATEGY',\n",
       "   'productCampaignMode': 'PRODUCT_CAMPAIGN_MODE_AUTO',\n",
       "   'state': 'CAMPAIGN_STATE_FINISHED',\n",
       "   'title': 'Моя новая кампания',\n",
       "   'toDate': '2022-08-10',\n",
       "   'updatedAt': '2022-07-27T20:45:50.039581Z'},\n",
       "  {'advObjectType': 'SEARCH_PROMO',\n",
       "   'autopilot': {'categoryId': '0', 'maxBid': '0'},\n",
       "   'budget': '0',\n",
       "   'createdAt': '2022-05-31T08:44:56.486175Z',\n",
       "   'dailyBudget': '0',\n",
       "   'fromDate': '',\n",
       "   'id': '1124262',\n",
       "   'placement': [],\n",
       "   'productAutopilotStrategy': 'NO_AUTO_STRATEGY',\n",
       "   'productCampaignMode': 'PRODUCT_CAMPAIGN_MODE_MANUAL',\n",
       "   'state': 'CAMPAIGN_STATE_RUNNING',\n",
       "   'title': '2',\n",
       "   'toDate': '',\n",
       "   'updatedAt': '2022-05-31T08:44:56.486175Z'},\n",
       "  {'advObjectType': 'SEARCH_PROMO',\n",
       "   'autopilot': {'categoryId': '0', 'maxBid': '0'},\n",
       "   'budget': '0',\n",
       "   'createdAt': '2021-03-02T21:43:11.620339Z',\n",
       "   'dailyBudget': '0',\n",
       "   'fromDate': '2021-07-26',\n",
       "   'id': '166386',\n",
       "   'placement': [],\n",
       "   'productAutopilotStrategy': 'NO_AUTO_STRATEGY',\n",
       "   'productCampaignMode': 'PRODUCT_CAMPAIGN_MODE_MANUAL',\n",
       "   'state': 'CAMPAIGN_STATE_RUNNING',\n",
       "   'title': 'Продвижение в поиске',\n",
       "   'toDate': '',\n",
       "   'updatedAt': '2021-03-02T21:43:11.620339Z'},\n",
       "  {'advObjectType': 'SKU',\n",
       "   'autopilot': {'categoryId': '0', 'maxBid': '0'},\n",
       "   'budget': '0',\n",
       "   'createdAt': '2021-01-22T12:30:58.222536Z',\n",
       "   'dailyBudget': '0',\n",
       "   'fromDate': '2021-01-22',\n",
       "   'id': '130561',\n",
       "   'placement': ['PLACEMENT_SEARCH_AND_CATEGORY'],\n",
       "   'productAutopilotStrategy': 'NO_AUTO_STRATEGY',\n",
       "   'productCampaignMode': 'PRODUCT_CAMPAIGN_MODE_AUTO',\n",
       "   'state': 'CAMPAIGN_STATE_INACTIVE',\n",
       "   'title': 'Реклама товаров - Поиск',\n",
       "   'toDate': '',\n",
       "   'updatedAt': '2021-02-26T17:33:27.190413Z'}]}"
      ]
     },
     "execution_count": 7,
     "metadata": {},
     "output_type": "execute_result"
    }
   ],
   "source": [
    "request.json()"
   ]
  },
  {
   "cell_type": "code",
   "execution_count": null,
   "id": "45c3970f-4f1b-452f-8e46-9a3d533c8c4d",
   "metadata": {},
   "outputs": [],
   "source": []
  },
  {
   "cell_type": "markdown",
   "id": "2bdb1430-e9fc-4e6d-8b0d-9a9bd237fc15",
   "metadata": {},
   "source": [
    "### Запрос объектов\n",
    "\n",
    "POST\n",
    "\n",
    "/ozonperformance/objects"
   ]
  },
  {
   "cell_type": "code",
   "execution_count": 14,
   "id": "de0c2a1b-470b-4baa-94e5-274a2c8c09ca",
   "metadata": {},
   "outputs": [
    {
     "data": {
      "text/plain": [
       "<Response [200]>"
      ]
     },
     "execution_count": 14,
     "metadata": {},
     "output_type": "execute_result"
    }
   ],
   "source": [
    "body = {\"client_id\": client_id, \n",
    "        \"client_secret\": client_secret,\n",
    "        \"campaign_id\": '130561'}\n",
    "\n",
    "url = url1 + \"/ozonperformance/objects\"\n",
    "request = requests.post(url, headers=head, data=json.dumps(body))\n",
    "request"
   ]
  },
  {
   "cell_type": "code",
   "execution_count": 15,
   "id": "58a36c22-af4f-48ad-88de-7d4a3183aa64",
   "metadata": {},
   "outputs": [
    {
     "data": {
      "text/plain": [
       "{'result': [{'id': '172471703'},\n",
       "  {'id': '172471706'},\n",
       "  {'id': '162996534'},\n",
       "  {'id': '162994148'},\n",
       "  {'id': '163002266'},\n",
       "  {'id': '163002265'},\n",
       "  {'id': '163048029'},\n",
       "  {'id': '160318877'},\n",
       "  {'id': '159010180'},\n",
       "  {'id': '159020138'},\n",
       "  {'id': '158554677'},\n",
       "  {'id': '158554676'},\n",
       "  {'id': '158624990'},\n",
       "  {'id': '160309794'},\n",
       "  {'id': '160309793'},\n",
       "  {'id': '160309792'},\n",
       "  {'id': '159004243'},\n",
       "  {'id': '158624416'},\n",
       "  {'id': '158554666'},\n",
       "  {'id': '158523712'},\n",
       "  {'id': '158625839'},\n",
       "  {'id': '158554539'},\n",
       "  {'id': '159000748'},\n",
       "  {'id': '159001087'},\n",
       "  {'id': '158553520'},\n",
       "  {'id': '159001086'},\n",
       "  {'id': '158506037'},\n",
       "  {'id': '158506036'},\n",
       "  {'id': '158624984'},\n",
       "  {'id': '158523700'},\n",
       "  {'id': '159001085'},\n",
       "  {'id': '159001488'},\n",
       "  {'id': '160309639'},\n",
       "  {'id': '160309638'},\n",
       "  {'id': '156334554'},\n",
       "  {'id': '155960667'},\n",
       "  {'id': '156400983'},\n",
       "  {'id': '154370900'},\n",
       "  {'id': '154356445'},\n",
       "  {'id': '154366901'},\n",
       "  {'id': '154358840'},\n",
       "  {'id': '154370740'},\n",
       "  {'id': '154366835'},\n",
       "  {'id': '154360888'},\n",
       "  {'id': '154371015'},\n",
       "  {'id': '154358767'},\n",
       "  {'id': '154371114'},\n",
       "  {'id': '154358995'},\n",
       "  {'id': '154371113'},\n",
       "  {'id': '154359810'},\n",
       "  {'id': '154367327'},\n",
       "  {'id': '154371589'},\n",
       "  {'id': '154359675'},\n",
       "  {'id': '154366553'},\n",
       "  {'id': '154360101'},\n",
       "  {'id': '154360100'},\n",
       "  {'id': '154370899'},\n",
       "  {'id': '154358994'},\n",
       "  {'id': '154359243'},\n",
       "  {'id': '154360229'},\n",
       "  {'id': '154370898'},\n",
       "  {'id': '154072233'},\n",
       "  {'id': '154072312'},\n",
       "  {'id': '154072232'},\n",
       "  {'id': '154072311'},\n",
       "  {'id': '154072231'},\n",
       "  {'id': '154072310'},\n",
       "  {'id': '154072309'},\n",
       "  {'id': '154072308'},\n",
       "  {'id': '154072307'},\n",
       "  {'id': '154072306'},\n",
       "  {'id': '154072305'},\n",
       "  {'id': '154072304'},\n",
       "  {'id': '154072230'},\n",
       "  {'id': '154072303'},\n",
       "  {'id': '154072302'},\n",
       "  {'id': '154072229'},\n",
       "  {'id': '150732935'},\n",
       "  {'id': '150732466'},\n",
       "  {'id': '150732205'},\n",
       "  {'id': '150732204'},\n",
       "  {'id': '150732203'},\n",
       "  {'id': '150732934'},\n",
       "  {'id': '150732465'},\n",
       "  {'id': '150732933'},\n",
       "  {'id': '150732464'},\n",
       "  {'id': '150732463'},\n",
       "  {'id': '150732462'},\n",
       "  {'id': '150732461'},\n",
       "  {'id': '150732457'},\n",
       "  {'id': '150732931'},\n",
       "  {'id': '150732456'},\n",
       "  {'id': '150732201'},\n",
       "  {'id': '150732200'},\n",
       "  {'id': '150732455'},\n",
       "  {'id': '150480344'},\n",
       "  {'id': '150480343'},\n",
       "  {'id': '150480184'},\n",
       "  {'id': '150480342'},\n",
       "  {'id': '150480341'},\n",
       "  {'id': '150480340'},\n",
       "  {'id': '150478725'},\n",
       "  {'id': '150478942'},\n",
       "  {'id': '150478941'},\n",
       "  {'id': '150478724'},\n",
       "  {'id': '150478723'},\n",
       "  {'id': '150478919'},\n",
       "  {'id': '150478670'},\n",
       "  {'id': '150478918'},\n",
       "  {'id': '150478917'},\n",
       "  {'id': '150478669'},\n",
       "  {'id': '150478915'},\n",
       "  {'id': '150479076'},\n",
       "  {'id': '150478988'},\n",
       "  {'id': '150478914'},\n",
       "  {'id': '150478913'},\n",
       "  {'id': '150302977'},\n",
       "  {'id': '150309835'},\n",
       "  {'id': '150309834'},\n",
       "  {'id': '150309833'},\n",
       "  {'id': '150309832'},\n",
       "  {'id': '150309894'},\n",
       "  {'id': '150309831'},\n",
       "  {'id': '150309830'},\n",
       "  {'id': '150309829'},\n",
       "  {'id': '150309893'},\n",
       "  {'id': '150309828'},\n",
       "  {'id': '150309827'},\n",
       "  {'id': '150309826'},\n",
       "  {'id': '150309825'},\n",
       "  {'id': '150309824'},\n",
       "  {'id': '150309823'},\n",
       "  {'id': '150309892'},\n",
       "  {'id': '150309822'},\n",
       "  {'id': '150309891'},\n",
       "  {'id': '150309821'},\n",
       "  {'id': '150309820'},\n",
       "  {'id': '150309819'},\n",
       "  {'id': '150309818'},\n",
       "  {'id': '150309817'},\n",
       "  {'id': '150309816'},\n",
       "  {'id': '150309815'},\n",
       "  {'id': '150310936'},\n",
       "  {'id': '150310935'},\n",
       "  {'id': '150310934'},\n",
       "  {'id': '150310933'},\n",
       "  {'id': '150310932'},\n",
       "  {'id': '150129738'},\n",
       "  {'id': '150129737'},\n",
       "  {'id': '150129736'},\n",
       "  {'id': '150129735'},\n",
       "  {'id': '150129406'},\n",
       "  {'id': '150129952'},\n",
       "  {'id': '150129405'},\n",
       "  {'id': '150129951'},\n",
       "  {'id': '150129950'},\n",
       "  {'id': '150129949'},\n",
       "  {'id': '150129404'},\n",
       "  {'id': '150129948'},\n",
       "  {'id': '150129120'},\n",
       "  {'id': '150129947'},\n",
       "  {'id': '149540363'},\n",
       "  {'id': '149552985'},\n",
       "  {'id': '149552669'},\n",
       "  {'id': '149540360'},\n",
       "  {'id': '149540355'},\n",
       "  {'id': '149552984'},\n",
       "  {'id': '149540354'},\n",
       "  {'id': '149540353'},\n",
       "  {'id': '149560076'},\n",
       "  {'id': '149376429'},\n",
       "  {'id': '149376430'},\n",
       "  {'id': '149376431'},\n",
       "  {'id': '149363140'},\n",
       "  {'id': '149363142'},\n",
       "  {'id': '149363144'},\n",
       "  {'id': '149363173'},\n",
       "  {'id': '149363170'},\n",
       "  {'id': '149363169'},\n",
       "  {'id': '149363166'},\n",
       "  {'id': '149363184'},\n",
       "  {'id': '149363187'},\n",
       "  {'id': '149363208'},\n",
       "  {'id': '149363213'},\n",
       "  {'id': '149363218'},\n",
       "  {'id': '149363223'},\n",
       "  {'id': '149362593'},\n",
       "  {'id': '149363226'},\n",
       "  {'id': '149363230'},\n",
       "  {'id': '149363233'},\n",
       "  {'id': '149363237'},\n",
       "  {'id': '149363239'},\n",
       "  {'id': '149363240'},\n",
       "  {'id': '149363243'},\n",
       "  {'id': '149363245'},\n",
       "  {'id': '149363246'},\n",
       "  {'id': '149363255'},\n",
       "  {'id': '149362592'},\n",
       "  {'id': '149363257'},\n",
       "  {'id': '149363258'},\n",
       "  {'id': '149363262'},\n",
       "  {'id': '149362591'},\n",
       "  {'id': '149363266'},\n",
       "  {'id': '149362590'},\n",
       "  {'id': '149310268'},\n",
       "  {'id': '149310267'},\n",
       "  {'id': '149310266'},\n",
       "  {'id': '149310265'},\n",
       "  {'id': '149308562'},\n",
       "  {'id': '149310264'},\n",
       "  {'id': '149310226'},\n",
       "  {'id': '149310225'},\n",
       "  {'id': '149310224'},\n",
       "  {'id': '149310223'},\n",
       "  {'id': '149310222'},\n",
       "  {'id': '149310221'},\n",
       "  {'id': '149310220'},\n",
       "  {'id': '149308561'},\n",
       "  {'id': '149310219'},\n",
       "  {'id': '149308560'},\n",
       "  {'id': '149308559'},\n",
       "  {'id': '149308558'},\n",
       "  {'id': '149308557'},\n",
       "  {'id': '149310210'},\n",
       "  {'id': '149310178'},\n",
       "  {'id': '149310177'},\n",
       "  {'id': '149310176'},\n",
       "  {'id': '149310175'},\n",
       "  {'id': '149310174'},\n",
       "  {'id': '149308556'},\n",
       "  {'id': '149308555'},\n",
       "  {'id': '149308554'},\n",
       "  {'id': '149308553'},\n",
       "  {'id': '149308552'},\n",
       "  {'id': '149308551'},\n",
       "  {'id': '149308550'},\n",
       "  {'id': '149308549'},\n",
       "  {'id': '149308548'},\n",
       "  {'id': '149363278'}]}"
      ]
     },
     "execution_count": 15,
     "metadata": {},
     "output_type": "execute_result"
    }
   ],
   "source": [
    "request.json()"
   ]
  },
  {
   "cell_type": "code",
   "execution_count": null,
   "id": "a857ccb6-2c97-4041-b627-3308a99c0f77",
   "metadata": {},
   "outputs": [],
   "source": []
  },
  {
   "cell_type": "markdown",
   "id": "6a33dbec-3755-4e22-90b2-b112d1213c7d",
   "metadata": {},
   "source": [
    "### Доступные режимы создания рекламных кампаний\n",
    "\n",
    "POST\n",
    "\n",
    "/ozonperformance/available"
   ]
  },
  {
   "cell_type": "code",
   "execution_count": 16,
   "id": "ac71476d-ccc9-4895-85bd-6d97c908066a",
   "metadata": {},
   "outputs": [
    {
     "data": {
      "text/plain": [
       "<Response [200]>"
      ]
     },
     "execution_count": 16,
     "metadata": {},
     "output_type": "execute_result"
    }
   ],
   "source": [
    "body = {\"client_id\": client_id, \n",
    "        \"client_secret\": client_secret}\n",
    "\n",
    "head = {\"Content-Type\": \"application/json\"}\n",
    "\n",
    "url = url1 + \"/ozonperformance/available\"\n",
    "request = requests.post(url, headers=head, data=json.dumps(body))\n",
    "request"
   ]
  },
  {
   "cell_type": "code",
   "execution_count": 17,
   "id": "06f5a602-d5b4-4eda-8111-530bc2a8cdcd",
   "metadata": {},
   "outputs": [
    {
     "data": {
      "text/plain": [
       "{'result': {'productCampaignMode': ['PRODUCT_CAMPAIGN_MODE_AUTO']}}"
      ]
     },
     "execution_count": 17,
     "metadata": {},
     "output_type": "execute_result"
    }
   ],
   "source": [
    "request.json()"
   ]
  },
  {
   "cell_type": "code",
   "execution_count": null,
   "id": "a805ca56-baa7-4eaf-8879-98b4b46d4e28",
   "metadata": {},
   "outputs": [],
   "source": []
  },
  {
   "cell_type": "markdown",
   "id": "e49fbc8b-7f20-4249-a166-600aae01ca62",
   "metadata": {},
   "source": [
    "### Создание кампании\n",
    "\n",
    "POST\n",
    "\n",
    "/ozonperformance/addcamp"
   ]
  },
  {
   "cell_type": "code",
   "execution_count": 20,
   "id": "543f8ab3-cb3b-44d1-be9d-b997a5e8800f",
   "metadata": {},
   "outputs": [
    {
     "data": {
      "text/plain": [
       "<Response [200]>"
      ]
     },
     "execution_count": 20,
     "metadata": {},
     "output_type": "execute_result"
    }
   ],
   "source": [
    "body = {\"client_id\": client_id, \n",
    "        \"client_secret\": client_secret,\n",
    "        \"title\": \"тестовая api 6\",\n",
    "        \"from_date\": None,\n",
    "        \"to_date\": None,\n",
    "        \"daily_budget\": str(500*1e6),\n",
    "        \"exp_strategy\": None,\n",
    "        \"placement\": 'PLACEMENT_SEARCH_AND_CATEGORY',\n",
    "        # \"placement\": 'PLACEMENT_PDP',\n",
    "        \"product_autopilot_strategy\": None,\n",
    "        \"autopilot\": None,\n",
    "        \"pcm\": None\n",
    "       }\n",
    "\n",
    "head = {\"Content-Type\": \"application/json\"}\n",
    "\n",
    "url = url1 + \"/ozonperformance/addcamp\"\n",
    "request = requests.post(url, headers=head, data=json.dumps(body))\n",
    "request"
   ]
  },
  {
   "cell_type": "code",
   "execution_count": 21,
   "id": "dfcb99a5-8d25-4c7d-ba08-cdb423524aa5",
   "metadata": {},
   "outputs": [
    {
     "data": {
      "text/plain": [
       "{'message': 'Кампания создана', 'result': {'campaignId': '1674651'}}"
      ]
     },
     "execution_count": 21,
     "metadata": {},
     "output_type": "execute_result"
    }
   ],
   "source": [
    "request.json()"
   ]
  },
  {
   "cell_type": "code",
   "execution_count": null,
   "id": "8c28222e-1659-490a-ba83-9e1d45984827",
   "metadata": {},
   "outputs": [],
   "source": []
  },
  {
   "cell_type": "markdown",
   "id": "93e99061-80b1-4e5b-a643-209223f99c13",
   "metadata": {},
   "source": [
    "### Активировать кампанию\n",
    "\n",
    "POST\n",
    "\n",
    "/ozonperformance/activate"
   ]
  },
  {
   "cell_type": "code",
   "execution_count": 22,
   "id": "9066b194-c550-4157-8d57-4b2e3a6424b9",
   "metadata": {},
   "outputs": [
    {
     "data": {
      "text/plain": [
       "<Response [200]>"
      ]
     },
     "execution_count": 22,
     "metadata": {},
     "output_type": "execute_result"
    }
   ],
   "source": [
    "body = {\"client_id\": client_id, \n",
    "        \"client_secret\": client_secret,\n",
    "        \"campaign_id\": '1646823'\n",
    "       }\n",
    "\n",
    "head = {\"Content-Type\": \"application/json\"}\n",
    "\n",
    "url = url1 + \"/ozonperformance/activate\"\n",
    "request = requests.post(url, headers=head, data=json.dumps(body))\n",
    "request"
   ]
  },
  {
   "cell_type": "code",
   "execution_count": 23,
   "id": "aef88962-d61a-4e6f-882b-7414b8778a37",
   "metadata": {},
   "outputs": [
    {
     "data": {
      "text/plain": [
       "{'message': 'Кампания активирована',\n",
       " 'result': {'advObjectType': 'SKU',\n",
       "  'autopilot': {'categoryId': '0', 'maxBid': '0'},\n",
       "  'budget': '0',\n",
       "  'createdAt': '2022-10-01T19:41:43.032813Z',\n",
       "  'dailyBudget': '500000000',\n",
       "  'fromDate': '2022-10-01',\n",
       "  'id': '1646823',\n",
       "  'placement': ['PLACEMENT_SEARCH_AND_CATEGORY'],\n",
       "  'productAutopilotStrategy': 'NO_AUTO_STRATEGY',\n",
       "  'productCampaignMode': 'PRODUCT_CAMPAIGN_MODE_AUTO',\n",
       "  'state': 'CAMPAIGN_STATE_RUNNING',\n",
       "  'title': 'тестовая api 1',\n",
       "  'toDate': '',\n",
       "  'updatedAt': '2022-10-08T22:05:33.973102Z'}}"
      ]
     },
     "execution_count": 23,
     "metadata": {},
     "output_type": "execute_result"
    }
   ],
   "source": [
    "request.json()"
   ]
  },
  {
   "cell_type": "code",
   "execution_count": null,
   "id": "dd809fa5-00c6-4c53-9acc-e7431dca053a",
   "metadata": {},
   "outputs": [],
   "source": []
  },
  {
   "cell_type": "markdown",
   "id": "f8e4f984-1a4e-49c8-93d8-82fef23cb6b4",
   "metadata": {},
   "source": [
    "### Деактивация кампании\n",
    "\n",
    "POST\n",
    "\n",
    "/ozonperformance/deactivate"
   ]
  },
  {
   "cell_type": "code",
   "execution_count": 24,
   "id": "7d258772-ee17-4526-8fa7-3ee6d5fd501a",
   "metadata": {},
   "outputs": [
    {
     "data": {
      "text/plain": [
       "<Response [200]>"
      ]
     },
     "execution_count": 24,
     "metadata": {},
     "output_type": "execute_result"
    }
   ],
   "source": [
    "body = {\"client_id\": client_id, \n",
    "        \"client_secret\": client_secret,\n",
    "        \"campaign_id\": '1646823'\n",
    "       }\n",
    "\n",
    "head = {\"Content-Type\": \"application/json\"}\n",
    "\n",
    "url = url1 + \"/ozonperformance/deactivate\"\n",
    "request = requests.post(url, headers=head, \n",
    "                        data=json.dumps(body)\n",
    "                       )\n",
    "request"
   ]
  },
  {
   "cell_type": "code",
   "execution_count": 25,
   "id": "e89456d7-ec4b-4218-a690-c99518f3d271",
   "metadata": {},
   "outputs": [
    {
     "data": {
      "text/plain": [
       "{'message': 'Кампания деактивирована',\n",
       " 'result': {'advObjectType': 'SKU',\n",
       "  'autopilot': {'categoryId': '0', 'maxBid': '0'},\n",
       "  'budget': '0',\n",
       "  'createdAt': '2022-10-01T19:41:43.032813Z',\n",
       "  'dailyBudget': '500000000',\n",
       "  'fromDate': '2022-10-01',\n",
       "  'id': '1646823',\n",
       "  'placement': ['PLACEMENT_SEARCH_AND_CATEGORY'],\n",
       "  'productAutopilotStrategy': 'NO_AUTO_STRATEGY',\n",
       "  'productCampaignMode': 'PRODUCT_CAMPAIGN_MODE_AUTO',\n",
       "  'state': 'CAMPAIGN_STATE_INACTIVE',\n",
       "  'title': 'тестовая api 1',\n",
       "  'toDate': '',\n",
       "  'updatedAt': '2022-10-08T22:11:11.617964Z'}}"
      ]
     },
     "execution_count": 25,
     "metadata": {},
     "output_type": "execute_result"
    }
   ],
   "source": [
    "request.json()"
   ]
  },
  {
   "cell_type": "code",
   "execution_count": null,
   "id": "b600805c-9c09-4bd3-bffb-888b00f708b2",
   "metadata": {},
   "outputs": [],
   "source": []
  },
  {
   "cell_type": "markdown",
   "id": "f571f267-69dd-477a-acae-ce7f309a3807",
   "metadata": {},
   "source": [
    "### Изменение сроков проведения кампании\n",
    "\n",
    "POST\n",
    "\n",
    "/ozonperformance/period"
   ]
  },
  {
   "cell_type": "code",
   "execution_count": 32,
   "id": "f20c8d83-a3e1-4412-bbae-b77d6a8e9c84",
   "metadata": {},
   "outputs": [
    {
     "data": {
      "text/plain": [
       "<Response [200]>"
      ]
     },
     "execution_count": 32,
     "metadata": {},
     "output_type": "execute_result"
    }
   ],
   "source": [
    "body = {\"client_id\": client_id, \n",
    "        \"client_secret\": client_secret,\n",
    "        \"campaign_id\": '1639751',\n",
    "        \"date_from\": '2022-10-15',\n",
    "        \"date_to\": '2022-10-20'}\n",
    "\n",
    "head = {\"Content-Type\": \"application/json\"}\n",
    "\n",
    "url = url1 + \"/ozonperformance/period\"\n",
    "request = requests.post(url, headers=head, data=json.dumps(body))\n",
    "# request = requests.post(url, body)\n",
    "request"
   ]
  },
  {
   "cell_type": "code",
   "execution_count": 33,
   "id": "3f690bfb-00ce-40e1-8034-a3aacd47c28a",
   "metadata": {},
   "outputs": [
    {
     "data": {
      "text/plain": [
       "{'error': '{\"error\":\"завершенная кампания не может быть изменена\"}',\n",
       " 'message': 'Ошибка запроса',\n",
       " 'status_code': 400}"
      ]
     },
     "execution_count": 33,
     "metadata": {},
     "output_type": "execute_result"
    }
   ],
   "source": [
    "request.json()"
   ]
  },
  {
   "cell_type": "code",
   "execution_count": null,
   "id": "d56b1dd8-4ed1-41f6-b378-c8173ed67ea3",
   "metadata": {},
   "outputs": [],
   "source": []
  },
  {
   "cell_type": "markdown",
   "id": "1b85c1c5-a866-4ba5-8ccb-aaf49dc8bfa3",
   "metadata": {},
   "source": [
    "### Изменение дневного бюджета кампании\n",
    "\n",
    "POST\n",
    "\n",
    "/ozonperformance/budget"
   ]
  },
  {
   "cell_type": "code",
   "execution_count": 39,
   "id": "7c431094-a854-490c-a2a5-274672995224",
   "metadata": {},
   "outputs": [
    {
     "data": {
      "text/plain": [
       "<Response [200]>"
      ]
     },
     "execution_count": 39,
     "metadata": {},
     "output_type": "execute_result"
    }
   ],
   "source": [
    "body = {\"client_id\": client_id, \n",
    "        \"client_secret\": client_secret,\n",
    "        \"campaign_id\": '1639751',\n",
    "        \"daily_budget\": 500,\n",
    "        \"exp_str\": \"DAILY_BUDGET\"}\n",
    "\n",
    "head = {\"Content-Type\": \"application/json\"}\n",
    "\n",
    "url = url1 + \"/ozonperformance/budget\"\n",
    "request = requests.post(url, headers=head, data=json.dumps(body))\n",
    "# request = requests.post(url, body)\n",
    "request"
   ]
  },
  {
   "cell_type": "code",
   "execution_count": 40,
   "id": "f9776a87-ae51-4539-a993-6a87142f133d",
   "metadata": {},
   "outputs": [
    {
     "data": {
      "text/plain": [
       "{'error': '{\"error\":\"завершенная кампания не может быть изменена\"}',\n",
       " 'message': 'Ошибка запроса',\n",
       " 'status_code': 400}"
      ]
     },
     "execution_count": 40,
     "metadata": {},
     "output_type": "execute_result"
    }
   ],
   "source": [
    "request.json()"
   ]
  },
  {
   "cell_type": "code",
   "execution_count": null,
   "id": "27e10eba-431a-484b-9b90-c367c829c0c6",
   "metadata": {},
   "outputs": [],
   "source": []
  },
  {
   "cell_type": "markdown",
   "id": "de0d101f-2ce2-42e4-aef6-0440ab8db52a",
   "metadata": {},
   "source": [
    "### Создание группы\n",
    "\n",
    "POST\n",
    "\n",
    "/ozonperformance/addgroup"
   ]
  },
  {
   "cell_type": "code",
   "execution_count": 41,
   "id": "4fb94223-78d6-4148-9698-e434b7058cdf",
   "metadata": {},
   "outputs": [
    {
     "data": {
      "text/plain": [
       "<Response [200]>"
      ]
     },
     "execution_count": 41,
     "metadata": {},
     "output_type": "execute_result"
    }
   ],
   "source": [
    "body = {\"client_id\": client_id, \n",
    "        \"client_secret\": client_secret,\n",
    "        \"campaign_id\": '130561',\n",
    "        \"title\": 'тестовая api группа 2',\n",
    "        \"stopwords\": ['яндекс'],\n",
    "        \"phrases\": ['купить диван'],\n",
    "        \"bids_list\": [100]\n",
    "       }\n",
    "\n",
    "head = {\"Content-Type\": \"application/json\"}\n",
    "\n",
    "url = url1 + \"/ozonperformance/addgroup\"\n",
    "request = requests.post(url, headers=head, data=json.dumps(body))\n",
    "request"
   ]
  },
  {
   "cell_type": "code",
   "execution_count": 42,
   "id": "25f68e8b-7b17-4ca0-9ac0-692411e0a32d",
   "metadata": {},
   "outputs": [
    {
     "data": {
      "text/plain": [
       "{'error': '{\"error\":\"invalid campaign\"}',\n",
       " 'message': 'Ошибка запроса',\n",
       " 'status_code': 400}"
      ]
     },
     "execution_count": 42,
     "metadata": {},
     "output_type": "execute_result"
    }
   ],
   "source": [
    "request.json()"
   ]
  },
  {
   "cell_type": "code",
   "execution_count": null,
   "id": "687dca94-6726-4327-b169-a0189d9a65e4",
   "metadata": {},
   "outputs": [],
   "source": []
  },
  {
   "cell_type": "markdown",
   "id": "44aa9e79-4f37-4ee5-ba86-c9c02533c588",
   "metadata": {},
   "source": [
    "### Редактирование группы\n",
    "\n",
    "POST\n",
    "\n",
    "/ozonperformance/editgroup"
   ]
  },
  {
   "cell_type": "code",
   "execution_count": 44,
   "id": "280be136-489f-4a9f-9ed3-1318f3b901c1",
   "metadata": {},
   "outputs": [
    {
     "data": {
      "text/plain": [
       "<Response [200]>"
      ]
     },
     "execution_count": 44,
     "metadata": {},
     "output_type": "execute_result"
    }
   ],
   "source": [
    "body = {\"client_id\": client_id, \n",
    "        \"client_secret\": client_secret,\n",
    "        \"campaign_id\": '130561',\n",
    "        \"group_id\": '',\n",
    "        \"title\": 'тестовая api группа',\n",
    "        \"stopwords\": ['яндекс'],\n",
    "        \"phrases\": ['купить диван'],\n",
    "        \"bids_list\": [100]\n",
    "       }\n",
    "\n",
    "head = {\"Content-Type\": \"application/json\"}\n",
    "\n",
    "url = url1 + \"/ozonperformance/editgroup\"\n",
    "request = requests.post(url, headers=head, data=json.dumps(body))\n",
    "request"
   ]
  },
  {
   "cell_type": "code",
   "execution_count": 46,
   "id": "5f790a08-2484-4da0-8713-2ac50839ea1c",
   "metadata": {},
   "outputs": [
    {
     "data": {
      "text/plain": [
       "{'error': '404 page not found\\n',\n",
       " 'message': 'Ошибка запроса',\n",
       " 'status_code': 404}"
      ]
     },
     "execution_count": 46,
     "metadata": {},
     "output_type": "execute_result"
    }
   ],
   "source": [
    "request.json()"
   ]
  },
  {
   "cell_type": "code",
   "execution_count": null,
   "id": "73444e8c-e470-4fa3-acbc-e7fcb2dd3841",
   "metadata": {},
   "outputs": [],
   "source": []
  },
  {
   "cell_type": "markdown",
   "id": "5b4a8239-f4d0-48a8-9636-5689d1df3c55",
   "metadata": {},
   "source": [
    "### Добавление товаров с размещением в карточке товара\n",
    "\n",
    "POST\n",
    "\n",
    "/ozonperformance/addcardproducts"
   ]
  },
  {
   "cell_type": "code",
   "execution_count": 47,
   "id": "efbc7e84-4cc5-4d06-8523-ec4cd0155c8a",
   "metadata": {},
   "outputs": [
    {
     "data": {
      "text/plain": [
       "<Response [200]>"
      ]
     },
     "execution_count": 47,
     "metadata": {},
     "output_type": "execute_result"
    }
   ],
   "source": [
    "body = {\"client_id\": client_id, \n",
    "        \"client_secret\": client_secret,\n",
    "        \"campaign_id\": '1639751',\n",
    "        \"sku_list\": ['172471703'],\n",
    "        \"bids_list\": [10]}\n",
    "\n",
    "head = {\"Content-Type\": \"application/json\"}\n",
    "\n",
    "url = url1 + \"/ozonperformance/addcardproducts\"\n",
    "request = requests.post(url, headers=head, data=json.dumps(body))\n",
    "request"
   ]
  },
  {
   "cell_type": "code",
   "execution_count": 48,
   "id": "1aeece4f-3c56-4e07-8ff1-20e45dd9cd58",
   "metadata": {},
   "outputs": [
    {
     "data": {
      "text/plain": [
       "{'message': 'Добавлено', 'result': {}}"
      ]
     },
     "execution_count": 48,
     "metadata": {},
     "output_type": "execute_result"
    }
   ],
   "source": [
    "request.json()"
   ]
  },
  {
   "cell_type": "code",
   "execution_count": null,
   "id": "d9a2e329-a543-4fc4-a3e0-abc82d871018",
   "metadata": {},
   "outputs": [],
   "source": []
  },
  {
   "cell_type": "markdown",
   "id": "f608b396-11bb-44d7-a3ff-ddb200ec9111",
   "metadata": {},
   "source": [
    "### Добавление в кампанию товаров в ранее созданные группы с размещением на страницах каталога и поиска\n",
    "\n",
    "POST\n",
    "\n",
    "/ozonperformance/addgroupproducts"
   ]
  },
  {
   "cell_type": "code",
   "execution_count": 15,
   "id": "10914851-6a06-4581-b1ad-53999c80f8a5",
   "metadata": {},
   "outputs": [
    {
     "data": {
      "text/plain": [
       "<Response [200]>"
      ]
     },
     "execution_count": 15,
     "metadata": {},
     "output_type": "execute_result"
    }
   ],
   "source": [
    "body = {\"client_id\": client_id, \n",
    "        \"client_secret\": client_secret,\n",
    "        \"campaign_id\": '1639751',\n",
    "        \"sku_list\": ['172471703'],\n",
    "        \"bids_list\": [10],\n",
    "        \"groups_list\": ['abc']}\n",
    "\n",
    "head = {\"Content-Type\": \"application/json\"}\n",
    "\n",
    "url = url1 + \"/ozonperformance/addgroupproducts\"\n",
    "request = requests.post(url, headers=head, data=json.dumps(body))\n",
    "request"
   ]
  },
  {
   "cell_type": "code",
   "execution_count": 16,
   "id": "cfb7c8db-fcbe-4eb5-8a20-10d652ae331e",
   "metadata": {},
   "outputs": [
    {
     "data": {
      "text/plain": [
       "{'error': '{\"error\":\"proto: (line 1:62): invalid value for uint64 type: \\\\\"abc\\\\\"\"}',\n",
       " 'message': 'Ошибка при обращении к серверу OZON',\n",
       " 'status_code': 400}"
      ]
     },
     "execution_count": 16,
     "metadata": {},
     "output_type": "execute_result"
    }
   ],
   "source": [
    "request.json()"
   ]
  },
  {
   "cell_type": "code",
   "execution_count": null,
   "id": "602afcc1-15ad-428f-969d-9d5f996626cd",
   "metadata": {},
   "outputs": [],
   "source": []
  },
  {
   "cell_type": "markdown",
   "id": "99a582ae-051b-496d-95ec-8a2aa075806d",
   "metadata": {},
   "source": [
    "### Добавление товара на страницах каталога и поиска — добавление без группы\n",
    "\n",
    "POST\n",
    "\n",
    "/ozonperformance/addproduct"
   ]
  },
  {
   "cell_type": "code",
   "execution_count": 17,
   "id": "1cf553ad-3af0-4dc8-b3a5-018c00a7cba3",
   "metadata": {},
   "outputs": [
    {
     "data": {
      "text/plain": [
       "<Response [200]>"
      ]
     },
     "execution_count": 17,
     "metadata": {},
     "output_type": "execute_result"
    }
   ],
   "source": [
    "body = {\"client_id\": client_id, \n",
    "        \"client_secret\": client_secret,\n",
    "        \"campaign_id\": '1639751',\n",
    "        \"sku\": '172471703',\n",
    "        \"stopwords\": ['яндекс', 'маркет'],\n",
    "        \"phrases\": ['купить платье'],\n",
    "        \"bids_list\": [100]\n",
    "       }\n",
    "\n",
    "head = {\"Content-Type\": \"application/json\"}\n",
    "\n",
    "url = url1 + \"/ozonperformance/addproduct\"\n",
    "request = requests.post(url, headers=head, data=json.dumps(body))\n",
    "request"
   ]
  },
  {
   "cell_type": "code",
   "execution_count": 18,
   "id": "e82c00b5-f05a-415e-b553-36a9fb24e490",
   "metadata": {},
   "outputs": [
    {
     "data": {
      "text/plain": [
       "{'message': 'Добавлено', 'result': {}}"
      ]
     },
     "execution_count": 18,
     "metadata": {},
     "output_type": "execute_result"
    }
   ],
   "source": [
    "request.json()"
   ]
  },
  {
   "cell_type": "code",
   "execution_count": null,
   "id": "fc7cf964-f153-4248-9544-251f90df250d",
   "metadata": {},
   "outputs": [],
   "source": []
  },
  {
   "cell_type": "markdown",
   "id": "c1dbf0ea-d3ef-46d8-9eaf-193e1e6b3d5d",
   "metadata": {},
   "source": [
    "### Обновление ставок товаров с размещением в карточке товара\n",
    "\n",
    "POST\n",
    "\n",
    "\n",
    "/ozonperformance/updbidscardproducts"
   ]
  },
  {
   "cell_type": "code",
   "execution_count": 20,
   "id": "3447a441-0250-4d15-8eda-c06cd18a61d0",
   "metadata": {},
   "outputs": [
    {
     "data": {
      "text/plain": [
       "<Response [200]>"
      ]
     },
     "execution_count": 20,
     "metadata": {},
     "output_type": "execute_result"
    }
   ],
   "source": [
    "body = {\"client_id\": client_id, \n",
    "        \"client_secret\": client_secret,\n",
    "        \"campaign_id\": '1639751',\n",
    "        \"sku_list\": ['172471703'],\n",
    "        \"bids_list\": [50]}\n",
    "\n",
    "head = {\"Content-Type\": \"application/json\"}\n",
    "\n",
    "url = url1 + \"/ozonperformance/updbidscardproducts\"\n",
    "request = requests.post(url, headers=head, data=json.dumps(body))\n",
    "request"
   ]
  },
  {
   "cell_type": "code",
   "execution_count": 21,
   "id": "09f12300-5632-4324-b142-b4b0598272bf",
   "metadata": {},
   "outputs": [
    {
     "data": {
      "text/plain": [
       "{'message': 'Обновлено', 'result': {}}"
      ]
     },
     "execution_count": 21,
     "metadata": {},
     "output_type": "execute_result"
    }
   ],
   "source": [
    "request.json()"
   ]
  },
  {
   "cell_type": "code",
   "execution_count": null,
   "id": "c2112d34-a4e7-41ec-b352-f5e918db7297",
   "metadata": {},
   "outputs": [],
   "source": []
  },
  {
   "cell_type": "markdown",
   "id": "ec8d6190-c330-47df-9a31-355cf869ccb7",
   "metadata": {},
   "source": [
    "### Обновление ставок товара на страницах каталога и поиска — без группы\n",
    "\n",
    "POST\n",
    "\n",
    "/ozonperformance/updbidsproducts"
   ]
  },
  {
   "cell_type": "code",
   "execution_count": 22,
   "id": "78ae5abc-5976-4ad5-aadc-2e9b649f233b",
   "metadata": {},
   "outputs": [
    {
     "data": {
      "text/plain": [
       "<Response [200]>"
      ]
     },
     "execution_count": 22,
     "metadata": {},
     "output_type": "execute_result"
    }
   ],
   "source": [
    "body = {\"client_id\": client_id, \n",
    "        \"client_secret\": client_secret,\n",
    "        \"campaign_id\": '1639751',\n",
    "        \"sku\": '172471703',\n",
    "        \"stopwords\": ['яндекс', 'маркет'],\n",
    "        \"phrases\": ['купить платье'],\n",
    "        \"bids_list\": [110]\n",
    "       }\n",
    "\n",
    "head = {\"Content-Type\": \"application/json\"}\n",
    "\n",
    "url = url1 + \"/ozonperformance/updbidsproducts\"\n",
    "request = requests.post(url, headers=head, data=json.dumps(body))\n",
    "request"
   ]
  },
  {
   "cell_type": "code",
   "execution_count": 23,
   "id": "c972df2a-13ac-44ed-99da-c4bfdf1f0d72",
   "metadata": {},
   "outputs": [
    {
     "data": {
      "text/plain": [
       "{'error': '{\"error\":\"bid must be \\\\u003e 0 for campaign with product_campaign_mode=auto\"}',\n",
       " 'message': 'Ошибка при обращении к серверу OZON',\n",
       " 'status_code': 400}"
      ]
     },
     "execution_count": 23,
     "metadata": {},
     "output_type": "execute_result"
    }
   ],
   "source": [
    "request.json()"
   ]
  },
  {
   "cell_type": "code",
   "execution_count": null,
   "id": "1e815052-7c1c-49c1-ae7f-925ae0091ac0",
   "metadata": {},
   "outputs": [],
   "source": []
  },
  {
   "cell_type": "markdown",
   "id": "f248e33f-1430-42d2-b382-b09b92b3e480",
   "metadata": {},
   "source": [
    "### Список товаров кампании\n",
    "\n",
    "POST\n",
    "\n",
    "\n",
    "/ozonperformance/prodlist"
   ]
  },
  {
   "cell_type": "code",
   "execution_count": 24,
   "id": "3105a6dd-b085-4346-98e6-68637c8a0709",
   "metadata": {},
   "outputs": [
    {
     "data": {
      "text/plain": [
       "<Response [200]>"
      ]
     },
     "execution_count": 24,
     "metadata": {},
     "output_type": "execute_result"
    }
   ],
   "source": [
    "body = {\"client_id\": client_id, \n",
    "        \"client_secret\": client_secret,\n",
    "        \"campaign_id\": '1639751',\n",
    "       }\n",
    "\n",
    "head = {\"Content-Type\": \"application/json\"}\n",
    "\n",
    "url = url1 + \"/ozonperformance/prodlist\"\n",
    "request = requests.post(url, headers=head, data=json.dumps(body))\n",
    "request"
   ]
  },
  {
   "cell_type": "code",
   "execution_count": 25,
   "id": "d3e2e17d-8ac3-4422-8244-720adef1a423",
   "metadata": {},
   "outputs": [
    {
     "data": {
      "text/plain": [
       "{'result': {'products': [{'auctionStatus': [3, 4],\n",
       "    'bid': '50000000',\n",
       "    'categories': [],\n",
       "    'groupId': '0',\n",
       "    'phrases': [],\n",
       "    'sku': '172471703',\n",
       "    'stopWords': [],\n",
       "    'title': 'Многоцелнвое антисептическое средство для рук Pro-Brite CLF, 5 л в канистре'}]}}"
      ]
     },
     "execution_count": 25,
     "metadata": {},
     "output_type": "execute_result"
    }
   ],
   "source": [
    "request.json()"
   ]
  },
  {
   "cell_type": "code",
   "execution_count": null,
   "id": "d30a68fd-31fb-4ba1-adf0-12f425c902fb",
   "metadata": {},
   "outputs": [],
   "source": []
  },
  {
   "cell_type": "markdown",
   "id": "db987f6d-8630-4d54-ac5b-1e50b0129a56",
   "metadata": {},
   "source": [
    "### Удалить товары из кампании\n",
    "\n",
    "POST\n",
    "\n",
    "/ozonperformance/delproducts"
   ]
  },
  {
   "cell_type": "code",
   "execution_count": 26,
   "id": "a67a5b6e-bd08-45c7-89f0-c0aea5f8d671",
   "metadata": {},
   "outputs": [
    {
     "data": {
      "text/plain": [
       "<Response [200]>"
      ]
     },
     "execution_count": 26,
     "metadata": {},
     "output_type": "execute_result"
    }
   ],
   "source": [
    "body = {\"client_id\": client_id, \n",
    "        \"client_secret\": client_secret,\n",
    "        \"campaign_id\": '1639751',\n",
    "        \"sku_list\": ['172471703']\n",
    "       }\n",
    "\n",
    "head = {\"Content-Type\": \"application/json\"}\n",
    "\n",
    "url = url1 + \"/ozonperformance/delproducts\"\n",
    "request = requests.post(url, headers=head, data=json.dumps(body))\n",
    "request"
   ]
  },
  {
   "cell_type": "code",
   "execution_count": 27,
   "id": "38cc51d5-123e-40b0-8675-5e72f3183cf2",
   "metadata": {},
   "outputs": [
    {
     "data": {
      "text/plain": [
       "{'message': 'Удалено', 'result': {}}"
      ]
     },
     "execution_count": 27,
     "metadata": {},
     "output_type": "execute_result"
    }
   ],
   "source": [
    "request.json()"
   ]
  },
  {
   "cell_type": "code",
   "execution_count": null,
   "id": "5111ba8d-da45-49a2-ad43-b21a48e604bf",
   "metadata": {},
   "outputs": [],
   "source": []
  }
 ],
 "metadata": {
  "kernelspec": {
   "display_name": "Python 3 (ipykernel)",
   "language": "python",
   "name": "python3"
  },
  "language_info": {
   "codemirror_mode": {
    "name": "ipython",
    "version": 3
   },
   "file_extension": ".py",
   "mimetype": "text/x-python",
   "name": "python",
   "nbconvert_exporter": "python",
   "pygments_lexer": "ipython3",
   "version": "3.9.12"
  }
 },
 "nbformat": 4,
 "nbformat_minor": 5
}
