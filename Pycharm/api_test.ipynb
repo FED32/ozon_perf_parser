{
 "cells": [
  {
   "cell_type": "markdown",
   "id": "8d686c47",
   "metadata": {},
   "source": [
    "### Полезные ссылки:\n",
    "\n",
    "https://python-scripts.com/build-rest-api\n",
    "\n",
    "https://habr.com/ru/company/skillbox/blog/464705/\n",
    "\n",
    "https://habr.com/ru/post/246699/\n",
    "\n",
    "https://habr.com/ru/post/541592/?ysclid=l7i68f2556658554831\n",
    "\n",
    "https://www.youtube.com/watch?v=VfkTcR4J3Y4\n",
    "\n",
    "https://docs.ozon.ru/api/performance/\n",
    "\n",
    "https://flask-restful.readthedocs.io/en/latest/quickstart.html\n",
    "\n",
    "https://pypi.org/project/flasgger/\n",
    "\n",
    "https://kanoki.org/2020/07/18/python-api-documentation-using-flask-swagger/\n",
    "\n",
    "Про OpenAPI\n",
    "\n",
    "https://starkovden.github.io/step4-paths-object.html\n",
    "\n",
    "https://github.com/docops-hq/learnapidoc-ru/blob/master/openAPI-specification/openapi-tutorial-overview.md\n",
    "\n",
    "https://github.com/docops-hq/learnapidoc-ru\n",
    "\n",
    "Пример:\n",
    "\n",
    "https://editor.swagger.io/"
   ]
  },
  {
   "cell_type": "code",
   "execution_count": 5,
   "id": "9472d5ae",
   "metadata": {},
   "outputs": [],
   "source": [
    "import requests\n",
    "import json"
   ]
  },
  {
   "cell_type": "code",
   "execution_count": 6,
   "id": "3218599e",
   "metadata": {},
   "outputs": [],
   "source": [
    "account_id = '163'\n",
    "client_id = '2566935-1658915426925@advertising.performance.ozon.ru'\n",
    "client_secret = 'pJ83birNdgT_oglv1pYjE-IEwqxJMBN7lTITeT5gv_rRXKnELCwGrwZcSBV-Fc2VipUMciLLue9iLhudow'"
   ]
  },
  {
   "cell_type": "code",
   "execution_count": 7,
   "id": "d91d28f9",
   "metadata": {},
   "outputs": [],
   "source": [
    "url1 = \"http://127.0.0.1:3000\"\n",
    "url2 = \"http://'api.ecomru.ru':5000\""
   ]
  },
  {
   "cell_type": "markdown",
   "id": "24392d5a",
   "metadata": {
    "tags": []
   },
   "source": [
    "### Запрос кампаний\n",
    "\n",
    "POST\n",
    "\n",
    "/ozonperformance/campaigns"
   ]
  },
  {
   "cell_type": "code",
   "execution_count": 8,
   "id": "b9ce8538-97ff-4b0c-9af9-87fcb8f73259",
   "metadata": {},
   "outputs": [],
   "source": [
    "\n",
    "# head = {\"Content-Type\": \"application/json\",\n",
    "#         \"client_id\": client_id,\n",
    "#         \"client_secret\": client_secret}\n",
    "# body = {}\n",
    "\n",
    "# url = url1 + \"/ozonperformance/campaigns\"\n",
    "# request = requests.post(url, headers=head, \n",
    "#                         data=json.dumps(body)\n",
    "#                        )\n",
    "# request"
   ]
  },
  {
   "cell_type": "code",
   "execution_count": 9,
   "id": "e690e81e-314b-439b-af9f-7ce336a212a3",
   "metadata": {},
   "outputs": [],
   "source": [
    "# request.json()"
   ]
  },
  {
   "cell_type": "code",
   "execution_count": 10,
   "id": "c5deb4b3",
   "metadata": {},
   "outputs": [
    {
     "data": {
      "text/plain": [
       "<Response [200]>"
      ]
     },
     "execution_count": 10,
     "metadata": {},
     "output_type": "execute_result"
    }
   ],
   "source": [
    "body = {\"client_id\": client_id, \n",
    "        \"client_secret\": client_secret}\n",
    "\n",
    "head = {\"Content-Type\": \"application/json\"}\n",
    "\n",
    "url = url1 + \"/ozonperformance/campaigns\"\n",
    "request = requests.post(url, headers=head, \n",
    "                        data=json.dumps(body)\n",
    "                       )\n",
    "request"
   ]
  },
  {
   "cell_type": "code",
   "execution_count": 11,
   "id": "4c209cf1",
   "metadata": {},
   "outputs": [
    {
     "data": {
      "text/plain": [
       "{'result': [{'advObjectType': 'SKU',\n",
       "   'autopilot': {'categoryId': '0', 'maxBid': '0'},\n",
       "   'budget': '0',\n",
       "   'createdAt': '2022-10-08T21:53:22.404332Z',\n",
       "   'dailyBudget': '500000000',\n",
       "   'fromDate': '2022-10-09',\n",
       "   'id': '1674651',\n",
       "   'placement': ['PLACEMENT_SEARCH_AND_CATEGORY'],\n",
       "   'productAutopilotStrategy': 'NO_AUTO_STRATEGY',\n",
       "   'productCampaignMode': 'PRODUCT_CAMPAIGN_MODE_AUTO',\n",
       "   'state': 'CAMPAIGN_STATE_INACTIVE',\n",
       "   'title': 'тестовая api 6',\n",
       "   'toDate': '',\n",
       "   'updatedAt': '2022-10-08T21:53:22.404332Z'},\n",
       "  {'advObjectType': 'SKU',\n",
       "   'autopilot': {'categoryId': '0', 'maxBid': '0'},\n",
       "   'budget': '0',\n",
       "   'createdAt': '2022-10-04T21:30:23.390420Z',\n",
       "   'dailyBudget': '500000000',\n",
       "   'fromDate': '2022-10-05',\n",
       "   'id': '1658881',\n",
       "   'placement': ['PLACEMENT_SEARCH_AND_CATEGORY'],\n",
       "   'productAutopilotStrategy': 'NO_AUTO_STRATEGY',\n",
       "   'productCampaignMode': 'PRODUCT_CAMPAIGN_MODE_AUTO',\n",
       "   'state': 'CAMPAIGN_STATE_INACTIVE',\n",
       "   'title': 'тестовая api 6',\n",
       "   'toDate': '',\n",
       "   'updatedAt': '2022-10-04T21:30:23.390420Z'},\n",
       "  {'advObjectType': 'SKU',\n",
       "   'autopilot': {'categoryId': '0', 'maxBid': '0'},\n",
       "   'budget': '0',\n",
       "   'createdAt': '2022-10-02T19:31:27.056771Z',\n",
       "   'dailyBudget': '500000000',\n",
       "   'fromDate': '2022-10-02',\n",
       "   'id': '1649220',\n",
       "   'placement': ['PLACEMENT_SEARCH_AND_CATEGORY'],\n",
       "   'productAutopilotStrategy': 'NO_AUTO_STRATEGY',\n",
       "   'productCampaignMode': 'PRODUCT_CAMPAIGN_MODE_AUTO',\n",
       "   'state': 'CAMPAIGN_STATE_INACTIVE',\n",
       "   'title': 'тестовая api 5',\n",
       "   'toDate': '',\n",
       "   'updatedAt': '2022-10-02T19:31:27.056771Z'},\n",
       "  {'advObjectType': 'SKU',\n",
       "   'autopilot': {'categoryId': '0', 'maxBid': '0'},\n",
       "   'budget': '0',\n",
       "   'createdAt': '2022-10-01T22:11:11.204940Z',\n",
       "   'dailyBudget': '500000000',\n",
       "   'fromDate': '2022-10-02',\n",
       "   'id': '1647020',\n",
       "   'placement': ['PLACEMENT_SEARCH_AND_CATEGORY'],\n",
       "   'productAutopilotStrategy': 'NO_AUTO_STRATEGY',\n",
       "   'productCampaignMode': 'PRODUCT_CAMPAIGN_MODE_AUTO',\n",
       "   'state': 'CAMPAIGN_STATE_INACTIVE',\n",
       "   'title': 'тестовая api 5',\n",
       "   'toDate': '',\n",
       "   'updatedAt': '2022-10-01T22:11:11.204940Z'},\n",
       "  {'advObjectType': 'SKU',\n",
       "   'autopilot': {'categoryId': '0', 'maxBid': '0'},\n",
       "   'budget': '0',\n",
       "   'createdAt': '2022-10-01T22:08:37.022533Z',\n",
       "   'dailyBudget': '500000000',\n",
       "   'fromDate': '2022-10-02',\n",
       "   'id': '1647014',\n",
       "   'placement': ['PLACEMENT_SEARCH_AND_CATEGORY'],\n",
       "   'productAutopilotStrategy': 'NO_AUTO_STRATEGY',\n",
       "   'productCampaignMode': 'PRODUCT_CAMPAIGN_MODE_AUTO',\n",
       "   'state': 'CAMPAIGN_STATE_INACTIVE',\n",
       "   'title': 'тестовая api 4',\n",
       "   'toDate': '',\n",
       "   'updatedAt': '2022-10-01T22:08:37.022533Z'},\n",
       "  {'advObjectType': 'SKU',\n",
       "   'autopilot': {'categoryId': '0', 'maxBid': '0'},\n",
       "   'budget': '0',\n",
       "   'createdAt': '2022-10-01T22:08:26.832464Z',\n",
       "   'dailyBudget': '500000000',\n",
       "   'fromDate': '2022-10-02',\n",
       "   'id': '1647013',\n",
       "   'placement': ['PLACEMENT_SEARCH_AND_CATEGORY'],\n",
       "   'productAutopilotStrategy': 'NO_AUTO_STRATEGY',\n",
       "   'productCampaignMode': 'PRODUCT_CAMPAIGN_MODE_AUTO',\n",
       "   'state': 'CAMPAIGN_STATE_INACTIVE',\n",
       "   'title': 'тестовая api 3',\n",
       "   'toDate': '',\n",
       "   'updatedAt': '2022-10-01T22:08:26.832464Z'},\n",
       "  {'advObjectType': 'SKU',\n",
       "   'autopilot': {'categoryId': '0', 'maxBid': '0'},\n",
       "   'budget': '0',\n",
       "   'createdAt': '2022-10-01T21:45:43.758558Z',\n",
       "   'dailyBudget': '500000000',\n",
       "   'fromDate': '2022-10-02',\n",
       "   'id': '1646987',\n",
       "   'placement': ['PLACEMENT_SEARCH_AND_CATEGORY'],\n",
       "   'productAutopilotStrategy': 'NO_AUTO_STRATEGY',\n",
       "   'productCampaignMode': 'PRODUCT_CAMPAIGN_MODE_AUTO',\n",
       "   'state': 'CAMPAIGN_STATE_INACTIVE',\n",
       "   'title': 'тестовая api 3',\n",
       "   'toDate': '',\n",
       "   'updatedAt': '2022-10-01T21:45:43.758558Z'},\n",
       "  {'advObjectType': 'SKU',\n",
       "   'autopilot': {'categoryId': '0', 'maxBid': '0'},\n",
       "   'budget': '0',\n",
       "   'createdAt': '2022-10-01T21:44:16.803205Z',\n",
       "   'dailyBudget': '500000000',\n",
       "   'fromDate': '2022-10-02',\n",
       "   'id': '1646986',\n",
       "   'placement': ['PLACEMENT_SEARCH_AND_CATEGORY'],\n",
       "   'productAutopilotStrategy': 'NO_AUTO_STRATEGY',\n",
       "   'productCampaignMode': 'PRODUCT_CAMPAIGN_MODE_AUTO',\n",
       "   'state': 'CAMPAIGN_STATE_INACTIVE',\n",
       "   'title': 'тестовая api 3',\n",
       "   'toDate': '',\n",
       "   'updatedAt': '2022-10-01T21:44:16.803205Z'},\n",
       "  {'advObjectType': 'SKU',\n",
       "   'autopilot': {'categoryId': '0', 'maxBid': '0'},\n",
       "   'budget': '0',\n",
       "   'createdAt': '2022-10-01T21:44:03.578410Z',\n",
       "   'dailyBudget': '500000000',\n",
       "   'fromDate': '2022-10-02',\n",
       "   'id': '1646985',\n",
       "   'placement': ['PLACEMENT_SEARCH_AND_CATEGORY'],\n",
       "   'productAutopilotStrategy': 'NO_AUTO_STRATEGY',\n",
       "   'productCampaignMode': 'PRODUCT_CAMPAIGN_MODE_AUTO',\n",
       "   'state': 'CAMPAIGN_STATE_INACTIVE',\n",
       "   'title': 'тестовая api 1',\n",
       "   'toDate': '',\n",
       "   'updatedAt': '2022-10-01T21:44:03.578410Z'},\n",
       "  {'advObjectType': 'SKU',\n",
       "   'autopilot': {'categoryId': '0', 'maxBid': '0'},\n",
       "   'budget': '0',\n",
       "   'createdAt': '2022-10-01T19:41:43.032813Z',\n",
       "   'dailyBudget': '500000000',\n",
       "   'fromDate': '2022-10-01',\n",
       "   'id': '1646823',\n",
       "   'placement': ['PLACEMENT_SEARCH_AND_CATEGORY'],\n",
       "   'productAutopilotStrategy': 'NO_AUTO_STRATEGY',\n",
       "   'productCampaignMode': 'PRODUCT_CAMPAIGN_MODE_AUTO',\n",
       "   'state': 'CAMPAIGN_STATE_INACTIVE',\n",
       "   'title': 'тестовая api 1',\n",
       "   'toDate': '',\n",
       "   'updatedAt': '2022-10-08T22:11:11.617964Z'},\n",
       "  {'advObjectType': 'SKU',\n",
       "   'autopilot': {'categoryId': '0', 'maxBid': '0'},\n",
       "   'budget': '0',\n",
       "   'createdAt': '2022-09-29T18:56:10.153790Z',\n",
       "   'dailyBudget': '1000000000',\n",
       "   'fromDate': '2022-10-01',\n",
       "   'id': '1639751',\n",
       "   'placement': ['PLACEMENT_SEARCH_AND_CATEGORY'],\n",
       "   'productAutopilotStrategy': 'NO_AUTO_STRATEGY',\n",
       "   'productCampaignMode': 'PRODUCT_CAMPAIGN_MODE_AUTO',\n",
       "   'state': 'CAMPAIGN_STATE_FINISHED',\n",
       "   'title': 'тестовая api 1',\n",
       "   'toDate': '2022-10-05',\n",
       "   'updatedAt': '2022-10-01T22:25:57.720946Z'},\n",
       "  {'advObjectType': 'SKU',\n",
       "   'autopilot': {'categoryId': '0', 'maxBid': '0'},\n",
       "   'budget': '0',\n",
       "   'createdAt': '2022-07-27T20:45:02.439420Z',\n",
       "   'dailyBudget': '500000000',\n",
       "   'fromDate': '2022-07-30',\n",
       "   'id': '1368475',\n",
       "   'placement': ['PLACEMENT_SEARCH_AND_CATEGORY'],\n",
       "   'productAutopilotStrategy': 'NO_AUTO_STRATEGY',\n",
       "   'productCampaignMode': 'PRODUCT_CAMPAIGN_MODE_AUTO',\n",
       "   'state': 'CAMPAIGN_STATE_FINISHED',\n",
       "   'title': 'Моя новая кампания',\n",
       "   'toDate': '2022-08-10',\n",
       "   'updatedAt': '2022-07-27T21:00:28.353155Z'},\n",
       "  {'advObjectType': 'SKU',\n",
       "   'autopilot': {'categoryId': '0', 'maxBid': '0'},\n",
       "   'budget': '0',\n",
       "   'createdAt': '2022-07-27T20:30:53.129355Z',\n",
       "   'dailyBudget': '0',\n",
       "   'fromDate': '2022-07-30',\n",
       "   'id': '1368450',\n",
       "   'placement': ['PLACEMENT_SEARCH_AND_CATEGORY'],\n",
       "   'productAutopilotStrategy': 'NO_AUTO_STRATEGY',\n",
       "   'productCampaignMode': 'PRODUCT_CAMPAIGN_MODE_AUTO',\n",
       "   'state': 'CAMPAIGN_STATE_FINISHED',\n",
       "   'title': 'Моя новая кампания',\n",
       "   'toDate': '2022-08-10',\n",
       "   'updatedAt': '2022-07-27T20:45:50.039581Z'},\n",
       "  {'advObjectType': 'SEARCH_PROMO',\n",
       "   'autopilot': {'categoryId': '0', 'maxBid': '0'},\n",
       "   'budget': '0',\n",
       "   'createdAt': '2022-05-31T08:44:56.486175Z',\n",
       "   'dailyBudget': '0',\n",
       "   'fromDate': '',\n",
       "   'id': '1124262',\n",
       "   'placement': [],\n",
       "   'productAutopilotStrategy': 'NO_AUTO_STRATEGY',\n",
       "   'productCampaignMode': 'PRODUCT_CAMPAIGN_MODE_MANUAL',\n",
       "   'state': 'CAMPAIGN_STATE_RUNNING',\n",
       "   'title': '2',\n",
       "   'toDate': '',\n",
       "   'updatedAt': '2022-05-31T08:44:56.486175Z'},\n",
       "  {'advObjectType': 'SEARCH_PROMO',\n",
       "   'autopilot': {'categoryId': '0', 'maxBid': '0'},\n",
       "   'budget': '0',\n",
       "   'createdAt': '2021-03-02T21:43:11.620339Z',\n",
       "   'dailyBudget': '0',\n",
       "   'fromDate': '2021-07-26',\n",
       "   'id': '166386',\n",
       "   'placement': [],\n",
       "   'productAutopilotStrategy': 'NO_AUTO_STRATEGY',\n",
       "   'productCampaignMode': 'PRODUCT_CAMPAIGN_MODE_MANUAL',\n",
       "   'state': 'CAMPAIGN_STATE_RUNNING',\n",
       "   'title': 'Продвижение в поиске',\n",
       "   'toDate': '',\n",
       "   'updatedAt': '2021-03-02T21:43:11.620339Z'},\n",
       "  {'advObjectType': 'SKU',\n",
       "   'autopilot': {'categoryId': '0', 'maxBid': '0'},\n",
       "   'budget': '0',\n",
       "   'createdAt': '2021-01-22T12:30:58.222536Z',\n",
       "   'dailyBudget': '0',\n",
       "   'fromDate': '2021-01-22',\n",
       "   'id': '130561',\n",
       "   'placement': ['PLACEMENT_SEARCH_AND_CATEGORY'],\n",
       "   'productAutopilotStrategy': 'NO_AUTO_STRATEGY',\n",
       "   'productCampaignMode': 'PRODUCT_CAMPAIGN_MODE_AUTO',\n",
       "   'state': 'CAMPAIGN_STATE_INACTIVE',\n",
       "   'title': 'Реклама товаров - Поиск',\n",
       "   'toDate': '',\n",
       "   'updatedAt': '2021-02-26T17:33:27.190413Z'}]}"
      ]
     },
     "execution_count": 11,
     "metadata": {},
     "output_type": "execute_result"
    }
   ],
   "source": [
    "request.json()"
   ]
  },
  {
   "cell_type": "code",
   "execution_count": 12,
   "id": "da3d40a1-bc47-44f9-9886-d172f68a673f",
   "metadata": {},
   "outputs": [
    {
     "data": {
      "text/plain": [
       "<Response [400]>"
      ]
     },
     "execution_count": 12,
     "metadata": {},
     "output_type": "execute_result"
    }
   ],
   "source": [
    "request = requests.post(url, \n",
    "                        headers=head, \n",
    "                        # data=json.dumps(body)\n",
    "                       )\n",
    "request"
   ]
  },
  {
   "cell_type": "code",
   "execution_count": 16,
   "id": "517836e1-6330-43a1-91b7-0bbb6052224b",
   "metadata": {},
   "outputs": [
    {
     "data": {
      "text/plain": [
       "'<!doctype html>\\n<html lang=en>\\n<title>400 Bad Request</title>\\n<h1>Bad Request</h1>\\n<p>Failed to decode JSON object: Expecting value: line 1 column 1 (char 0)</p>\\n'"
      ]
     },
     "execution_count": 16,
     "metadata": {},
     "output_type": "execute_result"
    }
   ],
   "source": [
    "request.text"
   ]
  },
  {
   "cell_type": "markdown",
   "id": "4c706523",
   "metadata": {},
   "source": [
    "### Запрос объектов\n",
    "\n",
    "POST\n",
    "\n",
    "/ozonperformance/objects"
   ]
  },
  {
   "cell_type": "code",
   "execution_count": 32,
   "id": "ceb8f1eb",
   "metadata": {},
   "outputs": [
    {
     "data": {
      "text/plain": [
       "<Response [200]>"
      ]
     },
     "execution_count": 32,
     "metadata": {},
     "output_type": "execute_result"
    }
   ],
   "source": [
    "body = {\"client_id\": client_id, \n",
    "        \"client_secret\": client_secret,\n",
    "        \"campaign_id\": '1639751'}\n",
    "\n",
    "head = {\"Content-Type\": \"application/json\"}\n",
    "\n",
    "# head = {\"client_id\": client_id, \n",
    "#         \"client_secret\": client_secret,\n",
    "#         \"Content-Type\": \"application/json\"\n",
    "#         }\n",
    "\n",
    "# body = {\"campaign_id\": '1639751'}\n",
    "\n",
    "url = url1 + \"/ozonperformance/objects\"\n",
    "request = requests.post(url, headers=head, data=json.dumps(body))\n",
    "request"
   ]
  },
  {
   "cell_type": "code",
   "execution_count": 33,
   "id": "09e37d71",
   "metadata": {},
   "outputs": [
    {
     "data": {
      "text/plain": [
       "{'result': []}"
      ]
     },
     "execution_count": 33,
     "metadata": {},
     "output_type": "execute_result"
    }
   ],
   "source": [
    "request.json()"
   ]
  },
  {
   "cell_type": "code",
   "execution_count": 19,
   "id": "fa71f84f-d3f4-4489-93ec-a707ad6d6a85",
   "metadata": {},
   "outputs": [
    {
     "data": {
      "text/plain": [
       "<Response [400]>"
      ]
     },
     "execution_count": 19,
     "metadata": {},
     "output_type": "execute_result"
    }
   ],
   "source": [
    "url = url1 + \"/ozonperformance/objects\"\n",
    "request = requests.post(url, \n",
    "                        headers=head, \n",
    "                        # data=json.dumps(body)\n",
    "                       )\n",
    "request"
   ]
  },
  {
   "cell_type": "code",
   "execution_count": 21,
   "id": "a9667433-2dfa-42c3-af65-d92cdb1ffc54",
   "metadata": {},
   "outputs": [
    {
     "data": {
      "text/plain": [
       "'<!doctype html>\\n<html lang=en>\\n<title>400 Bad Request</title>\\n<h1>Bad Request</h1>\\n<p>Failed to decode JSON object: Expecting value: line 1 column 1 (char 0)</p>\\n'"
      ]
     },
     "execution_count": 21,
     "metadata": {},
     "output_type": "execute_result"
    }
   ],
   "source": [
    "request.text"
   ]
  },
  {
   "cell_type": "code",
   "execution_count": 37,
   "id": "a70d7f6f-25d7-4e64-bcd8-2db1dbdddd92",
   "metadata": {},
   "outputs": [
    {
     "data": {
      "text/plain": [
       "<Response [400]>"
      ]
     },
     "execution_count": 37,
     "metadata": {},
     "output_type": "execute_result"
    }
   ],
   "source": [
    "body = {\"client_id\": client_id, \n",
    "        \"client_secret\": client_secret,\n",
    "#         \"campaign_id\": None\n",
    "       }\n",
    "\n",
    "head = {\"Content-Type\": \"application/json\"}\n",
    "\n",
    "url = url1 + \"/ozonperformance/objects\"\n",
    "request = requests.post(url, headers=head, data=json.dumps(body))\n",
    "request"
   ]
  },
  {
   "cell_type": "code",
   "execution_count": 39,
   "id": "cb2b4636-932a-4307-925a-a05b6acc987d",
   "metadata": {},
   "outputs": [
    {
     "data": {
      "text/plain": [
       "'Пустое значение'"
      ]
     },
     "execution_count": 39,
     "metadata": {},
     "output_type": "execute_result"
    }
   ],
   "source": [
    "request.text"
   ]
  },
  {
   "cell_type": "markdown",
   "id": "21512160",
   "metadata": {},
   "source": [
    "### Доступные режимы создания рекламных кампаний\n",
    "\n",
    "POST\n",
    "\n",
    "/ozonperformance/available"
   ]
  },
  {
   "cell_type": "code",
   "execution_count": 42,
   "id": "7beb4e4d",
   "metadata": {},
   "outputs": [
    {
     "data": {
      "text/plain": [
       "<Response [200]>"
      ]
     },
     "execution_count": 42,
     "metadata": {},
     "output_type": "execute_result"
    }
   ],
   "source": [
    "body = {\"client_id\": client_id, \n",
    "        \"client_secret\": client_secret}\n",
    "\n",
    "head = {\"Content-Type\": \"application/json\"}\n",
    "\n",
    "url = url1 + \"/ozonperformance/available\"\n",
    "request = requests.post(url, headers=head, data=json.dumps(body))\n",
    "request"
   ]
  },
  {
   "cell_type": "code",
   "execution_count": 43,
   "id": "dbf7e9f3",
   "metadata": {},
   "outputs": [
    {
     "data": {
      "text/plain": [
       "{'result': {'productCampaignMode': ['PRODUCT_CAMPAIGN_MODE_AUTO']}}"
      ]
     },
     "execution_count": 43,
     "metadata": {},
     "output_type": "execute_result"
    }
   ],
   "source": [
    "request.json()"
   ]
  },
  {
   "cell_type": "markdown",
   "id": "c10d06ff",
   "metadata": {},
   "source": [
    "### Создание кампании\n",
    "\n",
    "POST\n",
    "\n",
    "/ozonperformance/addcamp"
   ]
  },
  {
   "cell_type": "code",
   "execution_count": 66,
   "id": "5e46ec44",
   "metadata": {},
   "outputs": [
    {
     "data": {
      "text/plain": [
       "<Response [200]>"
      ]
     },
     "execution_count": 66,
     "metadata": {},
     "output_type": "execute_result"
    }
   ],
   "source": [
    "body = {\"client_id\": client_id, \n",
    "        \"client_secret\": client_secret,\n",
    "        \"title\": \"тестовая api 6\",\n",
    "        \"from_date\": None,\n",
    "        \"to_date\": None,\n",
    "        \"daily_budget\": str(500*1e6),\n",
    "        \"exp_strategy\": None,\n",
    "        # \"placement\": 'PLACEMENT_SEARCH_AND_CATEGORY',\n",
    "        \"placement\": 'PLACEMENT_PDP',\n",
    "        \"product_autopilot_strategy\": None,\n",
    "        \"autopilot\": None,\n",
    "        \"pcm\": None\n",
    "       }\n",
    "\n",
    "head = {\"Content-Type\": \"application/json\"}\n",
    "\n",
    "url = url1 + \"/ozonperformance/addcamp\"\n",
    "request = requests.post(url, headers=head, data=json.dumps(body))\n",
    "request"
   ]
  },
  {
   "cell_type": "code",
   "execution_count": 67,
   "id": "a7cc967a",
   "metadata": {},
   "outputs": [
    {
     "data": {
      "text/plain": [
       "{'error': '{\"error\":\"only search-and-category placement available\"}',\n",
       " 'message': 'Ошибка запроса',\n",
       " 'status_code': 400}"
      ]
     },
     "execution_count": 67,
     "metadata": {},
     "output_type": "execute_result"
    }
   ],
   "source": [
    "request.json()"
   ]
  },
  {
   "cell_type": "markdown",
   "id": "4c43baa4",
   "metadata": {},
   "source": [
    "### Активировать кампанию\n",
    "\n",
    "POST\n",
    "\n",
    "/ozonperformance/activate"
   ]
  },
  {
   "cell_type": "code",
   "execution_count": 52,
   "id": "9bac2b44",
   "metadata": {},
   "outputs": [
    {
     "data": {
      "text/plain": [
       "<Response [200]>"
      ]
     },
     "execution_count": 52,
     "metadata": {},
     "output_type": "execute_result"
    }
   ],
   "source": [
    "body = {\"client_id\": client_id, \n",
    "        \"client_secret\": client_secret,\n",
    "        \"campaign_id\": '1646823'\n",
    "       }\n",
    "\n",
    "head = {\"Content-Type\": \"application/json\"}\n",
    "\n",
    "url = url1 + \"/ozonperformance/activate\"\n",
    "request = requests.post(url, headers=head, data=json.dumps(body))\n",
    "request"
   ]
  },
  {
   "cell_type": "code",
   "execution_count": 53,
   "id": "a878f6ed",
   "metadata": {},
   "outputs": [
    {
     "data": {
      "text/plain": [
       "{'result': {'id': '1646823',\n",
       "  'title': 'тестовая api 1',\n",
       "  'state': 'CAMPAIGN_STATE_RUNNING',\n",
       "  'advObjectType': 'SKU',\n",
       "  'fromDate': '2022-10-01',\n",
       "  'toDate': '',\n",
       "  'dailyBudget': '500000000',\n",
       "  'placement': ['PLACEMENT_SEARCH_AND_CATEGORY'],\n",
       "  'budget': '0',\n",
       "  'createdAt': '2022-10-01T19:41:43.032813Z',\n",
       "  'updatedAt': '2022-10-04T21:33:56.826679Z',\n",
       "  'productCampaignMode': 'PRODUCT_CAMPAIGN_MODE_AUTO',\n",
       "  'productAutopilotStrategy': 'NO_AUTO_STRATEGY',\n",
       "  'autopilot': {'maxBid': '0', 'categoryId': '0'}},\n",
       " 'message': 'Кампания активирована'}"
      ]
     },
     "execution_count": 53,
     "metadata": {},
     "output_type": "execute_result"
    }
   ],
   "source": [
    "request.json()"
   ]
  },
  {
   "cell_type": "markdown",
   "id": "c7f6f5b7",
   "metadata": {},
   "source": [
    "### Деактивация кампании\n",
    "\n",
    "POST\n",
    "\n",
    "/ozonperformance/deactivate"
   ]
  },
  {
   "cell_type": "code",
   "execution_count": 58,
   "id": "aea97f96",
   "metadata": {},
   "outputs": [
    {
     "data": {
      "text/plain": [
       "<Response [200]>"
      ]
     },
     "execution_count": 58,
     "metadata": {},
     "output_type": "execute_result"
    }
   ],
   "source": [
    "body = {\"client_id\": client_id, \n",
    "        \"client_secret\": client_secret,\n",
    "        \"campaign_id\": '1646823'\n",
    "       }\n",
    "\n",
    "head = {\"Content-Type\": \"application/json\"}\n",
    "\n",
    "url = url1 + \"/ozonperformance/deactivate\"\n",
    "request = requests.post(url, headers=head, \n",
    "                        data=json.dumps(body)\n",
    "                       )\n",
    "request"
   ]
  },
  {
   "cell_type": "code",
   "execution_count": 59,
   "id": "cfcae059",
   "metadata": {},
   "outputs": [
    {
     "data": {
      "text/plain": [
       "{'result': {'id': '1646823',\n",
       "  'title': 'тестовая api 1',\n",
       "  'state': 'CAMPAIGN_STATE_INACTIVE',\n",
       "  'advObjectType': 'SKU',\n",
       "  'fromDate': '2022-10-01',\n",
       "  'toDate': '',\n",
       "  'dailyBudget': '500000000',\n",
       "  'placement': ['PLACEMENT_SEARCH_AND_CATEGORY'],\n",
       "  'budget': '0',\n",
       "  'createdAt': '2022-10-01T19:41:43.032813Z',\n",
       "  'updatedAt': '2022-10-04T21:35:55.456871Z',\n",
       "  'productCampaignMode': 'PRODUCT_CAMPAIGN_MODE_AUTO',\n",
       "  'productAutopilotStrategy': 'NO_AUTO_STRATEGY',\n",
       "  'autopilot': {'maxBid': '0', 'categoryId': '0'}},\n",
       " 'message': 'Кампания деактивирована'}"
      ]
     },
     "execution_count": 59,
     "metadata": {},
     "output_type": "execute_result"
    }
   ],
   "source": [
    "request.json()"
   ]
  },
  {
   "cell_type": "code",
   "execution_count": null,
   "id": "4518ac6f",
   "metadata": {},
   "outputs": [],
   "source": []
  },
  {
   "cell_type": "markdown",
   "id": "696dfdd4",
   "metadata": {},
   "source": [
    "### Изменение сроков проведения кампании\n",
    "\n",
    "POST\n",
    "\n",
    "/ozonperformance/period"
   ]
  },
  {
   "cell_type": "code",
   "execution_count": 30,
   "id": "535bc844",
   "metadata": {},
   "outputs": [
    {
     "data": {
      "text/plain": [
       "<Response [200]>"
      ]
     },
     "execution_count": 30,
     "metadata": {},
     "output_type": "execute_result"
    }
   ],
   "source": [
    "body = {\"client_id\": client_id, \n",
    "        \"client_secret\": client_secret,\n",
    "        \"campaign_id\": '1639751',\n",
    "        \"date_from\": '2022-10-01',\n",
    "        \"date_to\": '2022-10-05'}\n",
    "\n",
    "head = {\"Content-Type\": \"application/json\"}\n",
    "\n",
    "url = url1 + \"/ozonperformance/period\"\n",
    "request = requests.post(url, headers=head, data=json.dumps(body))\n",
    "# request = requests.post(url, body)\n",
    "request"
   ]
  },
  {
   "cell_type": "code",
   "execution_count": 31,
   "id": "40c5f26a",
   "metadata": {},
   "outputs": [
    {
     "data": {
      "text/plain": [
       "{'result': {'campaignId': '1639751'}, 'message': 'Сроки изменены'}"
      ]
     },
     "execution_count": 31,
     "metadata": {},
     "output_type": "execute_result"
    }
   ],
   "source": [
    "request.json()"
   ]
  },
  {
   "cell_type": "code",
   "execution_count": null,
   "id": "06fd960a",
   "metadata": {},
   "outputs": [],
   "source": []
  },
  {
   "cell_type": "markdown",
   "id": "6014aa13",
   "metadata": {},
   "source": [
    "### Изменение дневного бюджета кампании\n",
    "\n",
    "POST\n",
    "\n",
    "/ozonperformance/budget"
   ]
  },
  {
   "cell_type": "code",
   "execution_count": 10,
   "id": "f1534076",
   "metadata": {},
   "outputs": [
    {
     "data": {
      "text/plain": [
       "<Response [200]>"
      ]
     },
     "execution_count": 10,
     "metadata": {},
     "output_type": "execute_result"
    }
   ],
   "source": [
    "body = {\"client_id\": client_id, \n",
    "        \"client_secret\": client_secret,\n",
    "        \"campaign_id\": '1639751',\n",
    "        \"daily_budget\": '100',\n",
    "        \"exp_str\": \"DAILY_BUDGET\"}\n",
    "\n",
    "head = {\"Content-Type\": \"application/json\"}\n",
    "\n",
    "url = url1 + \"/ozonperformance/budget\"\n",
    "request = requests.post(url, headers=head, data=json.dumps(body))\n",
    "# request = requests.post(url, body)\n",
    "request"
   ]
  },
  {
   "cell_type": "code",
   "execution_count": 11,
   "id": "3c506f35",
   "metadata": {},
   "outputs": [
    {
     "data": {
      "text/plain": [
       "{'error': '{\"error\":\"Дневной бюджет обязателен\"}',\n",
       " 'message': 'Ошибка запроса',\n",
       " 'status_code': 400}"
      ]
     },
     "execution_count": 11,
     "metadata": {},
     "output_type": "execute_result"
    }
   ],
   "source": [
    "request.json()"
   ]
  },
  {
   "cell_type": "code",
   "execution_count": null,
   "id": "7d40e6b2",
   "metadata": {},
   "outputs": [],
   "source": []
  },
  {
   "cell_type": "markdown",
   "id": "aa18b136",
   "metadata": {},
   "source": [
    "### Создание группы\n",
    "\n",
    "POST\n",
    "\n",
    "/ozonperformance/addgroup"
   ]
  },
  {
   "cell_type": "code",
   "execution_count": 64,
   "id": "27c12add",
   "metadata": {},
   "outputs": [
    {
     "data": {
      "text/plain": [
       "<Response [200]>"
      ]
     },
     "execution_count": 64,
     "metadata": {},
     "output_type": "execute_result"
    }
   ],
   "source": [
    "body = {\"client_id\": client_id, \n",
    "        \"client_secret\": client_secret,\n",
    "        \"campaign_id\": '130561',\n",
    "        \"title\": 'тестовая api группа 2',\n",
    "        \"stopwords\": ['яндекс'],\n",
    "        \"phrases\": ['купить диван'],\n",
    "        \"bids_list\": [100]\n",
    "       }\n",
    "\n",
    "head = {\"Content-Type\": \"application/json\"}\n",
    "\n",
    "url = url1 + \"/ozonperformance/addgroup\"\n",
    "request = requests.post(url, headers=head, data=json.dumps(body))\n",
    "# request = requests.post(url, body)\n",
    "request"
   ]
  },
  {
   "cell_type": "code",
   "execution_count": 65,
   "id": "ed7e712b",
   "metadata": {},
   "outputs": [
    {
     "data": {
      "text/plain": [
       "{'error': '{\"error\":\"invalid campaign\"}',\n",
       " 'message': 'Ошибка запроса',\n",
       " 'status_code': 400}"
      ]
     },
     "execution_count": 65,
     "metadata": {},
     "output_type": "execute_result"
    }
   ],
   "source": [
    "request.json()"
   ]
  },
  {
   "cell_type": "code",
   "execution_count": null,
   "id": "1f77ee61",
   "metadata": {},
   "outputs": [],
   "source": []
  },
  {
   "cell_type": "markdown",
   "id": "1a2fec66",
   "metadata": {},
   "source": [
    "### Редактирование группы\n",
    "\n",
    "POST\n",
    "\n",
    "/ozonperformance/editgroup"
   ]
  },
  {
   "cell_type": "code",
   "execution_count": 46,
   "id": "9a4e2c8c",
   "metadata": {},
   "outputs": [
    {
     "data": {
      "text/plain": [
       "<Response [200]>"
      ]
     },
     "execution_count": 46,
     "metadata": {},
     "output_type": "execute_result"
    }
   ],
   "source": [
    "body = {\"client_id\": client_id, \n",
    "        \"client_secret\": client_secret,\n",
    "        \"campaign_id\": '130561',\n",
    "        \"group_id\": '',\n",
    "        \"title\": 'тестовая api группа',\n",
    "        \"stopwords\": None,\n",
    "        \"phrases\": None\n",
    "       }\n",
    "\n",
    "head = {\"Content-Type\": \"application/json\"}\n",
    "\n",
    "url = url1 + \"/ozonperformance/editgroup\"\n",
    "request = requests.post(url, headers=head, data=json.dumps(body))\n",
    "# request = requests.post(url, body)\n",
    "request"
   ]
  },
  {
   "cell_type": "code",
   "execution_count": 47,
   "id": "69693f0d",
   "metadata": {},
   "outputs": [
    {
     "data": {
      "text/plain": [
       "{'error': '404 page not found\\n',\n",
       " 'message': 'Ошибка запроса',\n",
       " 'status_code': 404}"
      ]
     },
     "execution_count": 47,
     "metadata": {},
     "output_type": "execute_result"
    }
   ],
   "source": [
    "request.json()"
   ]
  },
  {
   "cell_type": "code",
   "execution_count": null,
   "id": "937c75d8",
   "metadata": {},
   "outputs": [],
   "source": []
  },
  {
   "cell_type": "markdown",
   "id": "b27e69b5",
   "metadata": {},
   "source": [
    "### Добавление товаров с размещением в карточке товара\n",
    "\n",
    "POST\n",
    "\n",
    "/ozonperformance/addcardproducts"
   ]
  },
  {
   "cell_type": "code",
   "execution_count": 48,
   "id": "963eb256",
   "metadata": {},
   "outputs": [
    {
     "data": {
      "text/plain": [
       "<Response [200]>"
      ]
     },
     "execution_count": 48,
     "metadata": {},
     "output_type": "execute_result"
    }
   ],
   "source": [
    "body = {\"client_id\": client_id, \n",
    "        \"client_secret\": client_secret,\n",
    "        \"campaign_id\": '1639751',\n",
    "        \"sku_list\": ['172471703'],\n",
    "        \"bids_list\": [10]}\n",
    "\n",
    "head = {\"Content-Type\": \"application/json\"}\n",
    "\n",
    "url = url1 + \"/ozonperformance/addcardproducts\"\n",
    "request = requests.post(url, headers=head, data=json.dumps(body))\n",
    "# request = requests.post(url, body)\n",
    "request"
   ]
  },
  {
   "cell_type": "code",
   "execution_count": 49,
   "id": "1f1479d1",
   "metadata": {},
   "outputs": [
    {
     "data": {
      "text/plain": [
       "{'result': {}, 'message': 'Добавлено'}"
      ]
     },
     "execution_count": 49,
     "metadata": {},
     "output_type": "execute_result"
    }
   ],
   "source": [
    "request.json()"
   ]
  },
  {
   "cell_type": "code",
   "execution_count": 50,
   "id": "3cb97fac",
   "metadata": {},
   "outputs": [
    {
     "data": {
      "text/plain": [
       "'{\\n    \"result\": {},\\n    \"message\": \"\\\\u0414\\\\u043e\\\\u0431\\\\u0430\\\\u0432\\\\u043b\\\\u0435\\\\u043d\\\\u043e\"\\n}\\n'"
      ]
     },
     "execution_count": 50,
     "metadata": {},
     "output_type": "execute_result"
    }
   ],
   "source": [
    "request.text"
   ]
  },
  {
   "cell_type": "code",
   "execution_count": null,
   "id": "2bf9cb8d",
   "metadata": {},
   "outputs": [],
   "source": []
  },
  {
   "cell_type": "markdown",
   "id": "24a21999",
   "metadata": {},
   "source": [
    "### Добавление в кампанию товаров в ранее созданные группы с размещением на страницах каталога и поиска\n",
    "\n",
    "POST\n",
    "\n",
    "/ozonperformance/addgroupproducts"
   ]
  },
  {
   "cell_type": "code",
   "execution_count": 51,
   "id": "6e135531",
   "metadata": {},
   "outputs": [
    {
     "data": {
      "text/plain": [
       "<Response [200]>"
      ]
     },
     "execution_count": 51,
     "metadata": {},
     "output_type": "execute_result"
    }
   ],
   "source": [
    "body = {\"client_id\": client_id, \n",
    "        \"client_secret\": client_secret,\n",
    "        \"campaign_id\": '1639751',\n",
    "        \"sku_list\": ['172471703'],\n",
    "        \"bids_list\": ['10'],\n",
    "        \"groups_list\": ['abc']}\n",
    "\n",
    "head = {\"Content-Type\": \"application/json\"}\n",
    "\n",
    "url = url1 + \"/ozonperformance/addgroupproducts\"\n",
    "request = requests.post(url, headers=head, data=json.dumps(body))\n",
    "# request = requests.post(url, body)\n",
    "request"
   ]
  },
  {
   "cell_type": "code",
   "execution_count": 52,
   "id": "427d739a",
   "metadata": {},
   "outputs": [
    {
     "data": {
      "text/plain": [
       "{'error': '{\"error\":\"proto:\\xa0(line 1:62): invalid value for uint64 type: \\\\\"abc\\\\\"\"}',\n",
       " 'message': 'Ошибка при обращении к серверу OZON',\n",
       " 'status_code': 400}"
      ]
     },
     "execution_count": 52,
     "metadata": {},
     "output_type": "execute_result"
    }
   ],
   "source": [
    "request.json()"
   ]
  },
  {
   "cell_type": "code",
   "execution_count": null,
   "id": "33d0efcf",
   "metadata": {},
   "outputs": [],
   "source": []
  },
  {
   "cell_type": "markdown",
   "id": "9e82a579",
   "metadata": {},
   "source": [
    "### Добавление товара на страницах каталога и поиска — добавление без группы\n",
    "\n",
    "POST\n",
    "\n",
    "/ozonperformance/addproduct"
   ]
  },
  {
   "cell_type": "code",
   "execution_count": 53,
   "id": "5976d691",
   "metadata": {},
   "outputs": [
    {
     "data": {
      "text/plain": [
       "<Response [200]>"
      ]
     },
     "execution_count": 53,
     "metadata": {},
     "output_type": "execute_result"
    }
   ],
   "source": [
    "body = {\"client_id\": client_id, \n",
    "        \"client_secret\": client_secret,\n",
    "        \"campaign_id\": '1639751',\n",
    "        \"sku\": '172471703',\n",
    "        \"stopwords\": ['яндекс', 'маркет'],\n",
    "        \"phrases\": ['купить платье'],\n",
    "        \"bids_list\": [100]\n",
    "       }\n",
    "\n",
    "head = {\"Content-Type\": \"application/json\"}\n",
    "\n",
    "url = url1 + \"/ozonperformance/addproduct\"\n",
    "request = requests.post(url, headers=head, data=json.dumps(body))\n",
    "# request = requests.post(url, body)\n",
    "request"
   ]
  },
  {
   "cell_type": "code",
   "execution_count": 54,
   "id": "6c767255",
   "metadata": {},
   "outputs": [
    {
     "data": {
      "text/plain": [
       "{'result': {}, 'message': 'Добавлено'}"
      ]
     },
     "execution_count": 54,
     "metadata": {},
     "output_type": "execute_result"
    }
   ],
   "source": [
    "request.json()"
   ]
  },
  {
   "cell_type": "code",
   "execution_count": null,
   "id": "e562491f",
   "metadata": {},
   "outputs": [],
   "source": []
  },
  {
   "cell_type": "markdown",
   "id": "61137b1a",
   "metadata": {},
   "source": [
    "### Обновление ставок товаров с размещением в карточке товара\n",
    "\n",
    "POST\n",
    "\n",
    "\n",
    "/ozonperformance/updbidscardproducts"
   ]
  },
  {
   "cell_type": "code",
   "execution_count": 55,
   "id": "eef3c736",
   "metadata": {},
   "outputs": [
    {
     "data": {
      "text/plain": [
       "<Response [200]>"
      ]
     },
     "execution_count": 55,
     "metadata": {},
     "output_type": "execute_result"
    }
   ],
   "source": [
    "body = {\"client_id\": client_id, \n",
    "        \"client_secret\": client_secret,\n",
    "        \"campaign_id\": '1639751',\n",
    "        \"sku_list\": ['172471703'],\n",
    "        \"bids_list\": [50]}\n",
    "\n",
    "head = {\"Content-Type\": \"application/json\"}\n",
    "\n",
    "url = url1 + \"/ozonperformance/updbidscardproducts\"\n",
    "request = requests.post(url, headers=head, data=json.dumps(body))\n",
    "# request = requests.post(url, body)\n",
    "request"
   ]
  },
  {
   "cell_type": "code",
   "execution_count": 56,
   "id": "7b92a020",
   "metadata": {},
   "outputs": [
    {
     "data": {
      "text/plain": [
       "{'result': {}, 'message': 'Обновлено'}"
      ]
     },
     "execution_count": 56,
     "metadata": {},
     "output_type": "execute_result"
    }
   ],
   "source": [
    "request.json()"
   ]
  },
  {
   "cell_type": "code",
   "execution_count": null,
   "id": "7ea83867",
   "metadata": {},
   "outputs": [],
   "source": []
  },
  {
   "cell_type": "markdown",
   "id": "2950b32f",
   "metadata": {},
   "source": [
    "### Обновление ставок товара на страницах каталога и поиска — без группы\n",
    "\n",
    "POST\n",
    "\n",
    "/ozonperformance/updbidsproducts"
   ]
  },
  {
   "cell_type": "code",
   "execution_count": 57,
   "id": "dc8544af",
   "metadata": {},
   "outputs": [
    {
     "data": {
      "text/plain": [
       "<Response [200]>"
      ]
     },
     "execution_count": 57,
     "metadata": {},
     "output_type": "execute_result"
    }
   ],
   "source": [
    "body = {\"client_id\": client_id, \n",
    "        \"client_secret\": client_secret,\n",
    "        \"campaign_id\": '1639751',\n",
    "        \"sku\": '172471703',\n",
    "        \"stopwords\": ['яндекс', 'маркет'],\n",
    "        \"phrases\": ['купить платье'],\n",
    "        \"bids_list\": [110]\n",
    "       }\n",
    "\n",
    "head = {\"Content-Type\": \"application/json\"}\n",
    "\n",
    "url = url1 + \"/ozonperformance/updbidsproducts\"\n",
    "request = requests.post(url, headers=head, data=json.dumps(body))\n",
    "request"
   ]
  },
  {
   "cell_type": "code",
   "execution_count": 58,
   "id": "2bfdfdc1",
   "metadata": {},
   "outputs": [
    {
     "data": {
      "text/plain": [
       "{'error': '{\"error\":\"bid must be \\\\u003e 0 for campaign with product_campaign_mode=auto\"}',\n",
       " 'message': 'Ошибка при обращении к серверу OZON',\n",
       " 'status_code': 400}"
      ]
     },
     "execution_count": 58,
     "metadata": {},
     "output_type": "execute_result"
    }
   ],
   "source": [
    "request.json()"
   ]
  },
  {
   "cell_type": "code",
   "execution_count": null,
   "id": "6cdfa841",
   "metadata": {},
   "outputs": [],
   "source": []
  },
  {
   "cell_type": "markdown",
   "id": "a773056d",
   "metadata": {},
   "source": [
    "### Список товаров кампании\n",
    "\n",
    "POST\n",
    "\n",
    "\n",
    "/ozonperformance/prodlist"
   ]
  },
  {
   "cell_type": "code",
   "execution_count": 59,
   "id": "2ca98462",
   "metadata": {},
   "outputs": [
    {
     "data": {
      "text/plain": [
       "<Response [200]>"
      ]
     },
     "execution_count": 59,
     "metadata": {},
     "output_type": "execute_result"
    }
   ],
   "source": [
    "body = {\"client_id\": client_id, \n",
    "        \"client_secret\": client_secret,\n",
    "        \"campaign_id\": '1639751',\n",
    "       }\n",
    "\n",
    "head = {\"Content-Type\": \"application/json\"}\n",
    "\n",
    "url = url1 + \"/ozonperformance/prodlist\"\n",
    "request = requests.post(url, headers=head, data=json.dumps(body))\n",
    "request"
   ]
  },
  {
   "cell_type": "code",
   "execution_count": 60,
   "id": "051474ba",
   "metadata": {},
   "outputs": [
    {
     "data": {
      "text/plain": [
       "{'result': {'products': [{'sku': '172471703',\n",
       "    'bid': '50000000',\n",
       "    'groupId': '0',\n",
       "    'stopWords': [],\n",
       "    'phrases': [],\n",
       "    'auctionStatus': [3, 4],\n",
       "    'categories': [],\n",
       "    'title': 'Многоцелнвое антисептическое средство для рук Pro-Brite CLF, 5 л в канистре'}]}}"
      ]
     },
     "execution_count": 60,
     "metadata": {},
     "output_type": "execute_result"
    }
   ],
   "source": [
    "request.json()"
   ]
  },
  {
   "cell_type": "code",
   "execution_count": null,
   "id": "3966ec1f",
   "metadata": {},
   "outputs": [],
   "source": []
  },
  {
   "cell_type": "markdown",
   "id": "5d13c367",
   "metadata": {},
   "source": [
    "### Удалить товары из кампании\n",
    "\n",
    "POST\n",
    "\n",
    "/ozonperformance/delproducts"
   ]
  },
  {
   "cell_type": "code",
   "execution_count": 61,
   "id": "3d9591c4",
   "metadata": {},
   "outputs": [
    {
     "data": {
      "text/plain": [
       "<Response [200]>"
      ]
     },
     "execution_count": 61,
     "metadata": {},
     "output_type": "execute_result"
    }
   ],
   "source": [
    "body = {\"client_id\": client_id, \n",
    "        \"client_secret\": client_secret,\n",
    "        \"campaign_id\": '1639751',\n",
    "        \"sku_list\": ['172471703']\n",
    "       }\n",
    "\n",
    "head = {\"Content-Type\": \"application/json\"}\n",
    "\n",
    "url = url1 + \"/ozonperformance/delproducts\"\n",
    "request = requests.post(url, headers=head, data=json.dumps(body))\n",
    "request"
   ]
  },
  {
   "cell_type": "code",
   "execution_count": 62,
   "id": "cdcbf60b",
   "metadata": {},
   "outputs": [
    {
     "data": {
      "text/plain": [
       "{'result': {}, 'message': 'Удалено'}"
      ]
     },
     "execution_count": 62,
     "metadata": {},
     "output_type": "execute_result"
    }
   ],
   "source": [
    "request.json()"
   ]
  },
  {
   "cell_type": "code",
   "execution_count": null,
   "id": "7968703c",
   "metadata": {},
   "outputs": [],
   "source": []
  },
  {
   "cell_type": "code",
   "execution_count": null,
   "id": "af939abf",
   "metadata": {},
   "outputs": [],
   "source": []
  }
 ],
 "metadata": {
  "kernelspec": {
   "display_name": "Python 3 (ipykernel)",
   "language": "python",
   "name": "python3"
  },
  "language_info": {
   "codemirror_mode": {
    "name": "ipython",
    "version": 3
   },
   "file_extension": ".py",
   "mimetype": "text/x-python",
   "name": "python",
   "nbconvert_exporter": "python",
   "pygments_lexer": "ipython3",
   "version": "3.9.12"
  }
 },
 "nbformat": 4,
 "nbformat_minor": 5
}
