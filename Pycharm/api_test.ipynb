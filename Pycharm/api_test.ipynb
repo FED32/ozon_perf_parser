{
 "cells": [
  {
   "cell_type": "markdown",
   "id": "8d686c47",
   "metadata": {},
   "source": [
    "Полезные ссылки:\n",
    "\n",
    "https://python-scripts.com/build-rest-api\n",
    "\n",
    "https://habr.com/ru/company/skillbox/blog/464705/\n",
    "\n",
    "https://habr.com/ru/post/246699/\n",
    "\n",
    "https://habr.com/ru/post/541592/?ysclid=l7i68f2556658554831\n",
    "\n",
    "https://www.youtube.com/watch?v=VfkTcR4J3Y4\n",
    "\n",
    "https://docs.ozon.ru/api/performance/\n",
    "\n",
    "https://flask-restful.readthedocs.io/en/latest/quickstart.html\n",
    "\n",
    "https://pypi.org/project/flasgger/\n",
    "\n",
    "https://kanoki.org/2020/07/18/python-api-documentation-using-flask-swagger/"
   ]
  },
  {
   "cell_type": "code",
   "execution_count": 1,
   "id": "9472d5ae",
   "metadata": {},
   "outputs": [],
   "source": [
    "import requests\n",
    "import json"
   ]
  },
  {
   "cell_type": "code",
   "execution_count": 2,
   "id": "3218599e",
   "metadata": {},
   "outputs": [],
   "source": [
    "account_id = '163'\n",
    "client_id = '2566935-1658915426925@advertising.performance.ozon.ru'\n",
    "client_secret = 'pJ83birNdgT_oglv1pYjE-IEwqxJMBN7lTITeT5gv_rRXKnELCwGrwZcSBV-Fc2VipUMciLLue9iLhudow'"
   ]
  },
  {
   "cell_type": "code",
   "execution_count": 3,
   "id": "d91d28f9",
   "metadata": {},
   "outputs": [],
   "source": [
    "url1 = \"http://127.0.0.1:3000\"\n",
    "url2 = \"http://'api.ecomru.ru':5000\""
   ]
  },
  {
   "cell_type": "markdown",
   "id": "24392d5a",
   "metadata": {
    "tags": []
   },
   "source": [
    "### Запрос кампаний\n",
    "\n",
    "POST\n",
    "\n",
    "/ozonperformance/campaigns"
   ]
  },
  {
   "cell_type": "code",
   "execution_count": 4,
   "id": "b9ce8538-97ff-4b0c-9af9-87fcb8f73259",
   "metadata": {},
   "outputs": [
    {
     "data": {
      "text/plain": [
       "<Response [500]>"
      ]
     },
     "execution_count": 4,
     "metadata": {},
     "output_type": "execute_result"
    }
   ],
   "source": [
    "\n",
    "head = {\"Content-Type\": \"application/json\",\n",
    "        \"client_id\": client_id,\n",
    "        \"client_secret\": client_secret}\n",
    "body = {}\n",
    "\n",
    "url = url1 + \"/ozonperformance/campaigns\"\n",
    "request = requests.post(url, headers=head, \n",
    "                        data=json.dumps(body)\n",
    "                       )\n",
    "request"
   ]
  },
  {
   "cell_type": "code",
   "execution_count": 5,
   "id": "e690e81e-314b-439b-af9f-7ce336a212a3",
   "metadata": {},
   "outputs": [
    {
     "ename": "JSONDecodeError",
     "evalue": "[Errno Expecting value] <!doctype html>\n<html lang=en>\n  <head>\n    <title>KeyError: 'client_id'\n // Werkzeug Debugger</title>\n    <link rel=\"stylesheet\" href=\"?__debugger__=yes&amp;cmd=resource&amp;f=style.css\">\n    <link rel=\"shortcut icon\"\n        href=\"?__debugger__=yes&amp;cmd=resource&amp;f=console.png\">\n    <script src=\"?__debugger__=yes&amp;cmd=resource&amp;f=debugger.js\"></script>\n    <script>\n      var CONSOLE_MODE = false,\n          EVALEX = true,\n          EVALEX_TRUSTED = false,\n          SECRET = \"qWaWV5Qc6nlUZuIsjmO6\";\n    </script>\n  </head>\n  <body style=\"background-color: #fff\">\n    <div class=\"debugger\">\n<h1>KeyError</h1>\n<div class=\"detail\">\n  <p class=\"errormsg\">KeyError: &#x27;client_id&#x27;\n</p>\n</div>\n<h2 class=\"traceback\">Traceback <em>(most recent call last)</em></h2>\n<div class=\"traceback\">\n  <h3></h3>\n  <ul><li><div class=\"frame\" id=\"frame-2539628194592\">\n  <h4>File <cite class=\"filename\">\"D:\\IT\\Стажировка\\ecomru\\Ozon\\Pycharm\\venv\\lib\\site-packages\\flask\\app.py\"</cite>,\n      line <em class=\"line\">2095</em>,\n      in <code class=\"function\">__call__</code></h4>\n  <div class=\"source library\"><pre class=\"line before\"><span class=\"ws\">    </span>def __call__(self, environ: dict, start_response: t.Callable) -&gt; t.Any:</pre>\n<pre class=\"line before\"><span class=\"ws\">        </span>&quot;&quot;&quot;The WSGI server calls the Flask application object as the</pre>\n<pre class=\"line before\"><span class=\"ws\">        </span>WSGI application. This calls :meth:`wsgi_app`, which can be</pre>\n<pre class=\"line before\"><span class=\"ws\">        </span>wrapped to apply middleware.</pre>\n<pre class=\"line before\"><span class=\"ws\">        </span>&quot;&quot;&quot;</pre>\n<pre class=\"line current\"><span class=\"ws\">        </span>return self.wsgi_app(environ, start_response)</pre></div>\n</div>\n\n<li><div class=\"frame\" id=\"frame-2539628947472\">\n  <h4>File <cite class=\"filename\">\"D:\\IT\\Стажировка\\ecomru\\Ozon\\Pycharm\\venv\\lib\\site-packages\\flask\\app.py\"</cite>,\n      line <em class=\"line\">2080</em>,\n      in <code class=\"function\">wsgi_app</code></h4>\n  <div class=\"source library\"><pre class=\"line before\"><span class=\"ws\">            </span>try:</pre>\n<pre class=\"line before\"><span class=\"ws\">                </span>ctx.push()</pre>\n<pre class=\"line before\"><span class=\"ws\">                </span>response = self.full_dispatch_request()</pre>\n<pre class=\"line before\"><span class=\"ws\">            </span>except Exception as e:</pre>\n<pre class=\"line before\"><span class=\"ws\">                </span>error = e</pre>\n<pre class=\"line current\"><span class=\"ws\">                </span>response = self.handle_exception(e)</pre>\n<pre class=\"line after\"><span class=\"ws\">            </span>except:  # noqa: B001</pre>\n<pre class=\"line after\"><span class=\"ws\">                </span>error = sys.exc_info()[1]</pre>\n<pre class=\"line after\"><span class=\"ws\">                </span>raise</pre>\n<pre class=\"line after\"><span class=\"ws\">            </span>return response(environ, start_response)</pre>\n<pre class=\"line after\"><span class=\"ws\">        </span>finally:</pre></div>\n</div>\n\n<li><div class=\"frame\" id=\"frame-2539628947584\">\n  <h4>File <cite class=\"filename\">\"D:\\IT\\Стажировка\\ecomru\\Ozon\\Pycharm\\venv\\lib\\site-packages\\flask\\app.py\"</cite>,\n      line <em class=\"line\">2077</em>,\n      in <code class=\"function\">wsgi_app</code></h4>\n  <div class=\"source library\"><pre class=\"line before\"><span class=\"ws\">        </span>ctx = self.request_context(environ)</pre>\n<pre class=\"line before\"><span class=\"ws\">        </span>error: t.Optional[BaseException] = None</pre>\n<pre class=\"line before\"><span class=\"ws\">        </span>try:</pre>\n<pre class=\"line before\"><span class=\"ws\">            </span>try:</pre>\n<pre class=\"line before\"><span class=\"ws\">                </span>ctx.push()</pre>\n<pre class=\"line current\"><span class=\"ws\">                </span>response = self.full_dispatch_request()</pre>\n<pre class=\"line after\"><span class=\"ws\">            </span>except Exception as e:</pre>\n<pre class=\"line after\"><span class=\"ws\">                </span>error = e</pre>\n<pre class=\"line after\"><span class=\"ws\">                </span>response = self.handle_exception(e)</pre>\n<pre class=\"line after\"><span class=\"ws\">            </span>except:  # noqa: B001</pre>\n<pre class=\"line after\"><span class=\"ws\">                </span>error = sys.exc_info()[1]</pre></div>\n</div>\n\n<li><div class=\"frame\" id=\"frame-2539628947696\">\n  <h4>File <cite class=\"filename\">\"D:\\IT\\Стажировка\\ecomru\\Ozon\\Pycharm\\venv\\lib\\site-packages\\flask\\app.py\"</cite>,\n      line <em class=\"line\">1525</em>,\n      in <code class=\"function\">full_dispatch_request</code></h4>\n  <div class=\"source library\"><pre class=\"line before\"><span class=\"ws\">            </span>request_started.send(self)</pre>\n<pre class=\"line before\"><span class=\"ws\">            </span>rv = self.preprocess_request()</pre>\n<pre class=\"line before\"><span class=\"ws\">            </span>if rv is None:</pre>\n<pre class=\"line before\"><span class=\"ws\">                </span>rv = self.dispatch_request()</pre>\n<pre class=\"line before\"><span class=\"ws\">        </span>except Exception as e:</pre>\n<pre class=\"line current\"><span class=\"ws\">            </span>rv = self.handle_user_exception(e)</pre>\n<pre class=\"line after\"><span class=\"ws\">        </span>return self.finalize_request(rv)</pre>\n<pre class=\"line after\"><span class=\"ws\"></span> </pre>\n<pre class=\"line after\"><span class=\"ws\">    </span>def finalize_request(</pre>\n<pre class=\"line after\"><span class=\"ws\">        </span>self,</pre>\n<pre class=\"line after\"><span class=\"ws\">        </span>rv: t.Union[ResponseReturnValue, HTTPException],</pre></div>\n</div>\n\n<li><div class=\"frame\" id=\"frame-2539628947808\">\n  <h4>File <cite class=\"filename\">\"D:\\IT\\Стажировка\\ecomru\\Ozon\\Pycharm\\venv\\lib\\site-packages\\flask\\app.py\"</cite>,\n      line <em class=\"line\">1523</em>,\n      in <code class=\"function\">full_dispatch_request</code></h4>\n  <div class=\"source library\"><pre class=\"line before\"><span class=\"ws\">        </span>self.try_trigger_before_first_request_functions()</pre>\n<pre class=\"line before\"><span class=\"ws\">        </span>try:</pre>\n<pre class=\"line before\"><span class=\"ws\">            </span>request_started.send(self)</pre>\n<pre class=\"line before\"><span class=\"ws\">            </span>rv = self.preprocess_request()</pre>\n<pre class=\"line before\"><span class=\"ws\">            </span>if rv is None:</pre>\n<pre class=\"line current\"><span class=\"ws\">                </span>rv = self.dispatch_request()</pre>\n<pre class=\"line after\"><span class=\"ws\">        </span>except Exception as e:</pre>\n<pre class=\"line after\"><span class=\"ws\">            </span>rv = self.handle_user_exception(e)</pre>\n<pre class=\"line after\"><span class=\"ws\">        </span>return self.finalize_request(rv)</pre>\n<pre class=\"line after\"><span class=\"ws\"></span> </pre>\n<pre class=\"line after\"><span class=\"ws\">    </span>def finalize_request(</pre></div>\n</div>\n\n<li><div class=\"frame\" id=\"frame-2539628947920\">\n  <h4>File <cite class=\"filename\">\"D:\\IT\\Стажировка\\ecomru\\Ozon\\Pycharm\\venv\\lib\\site-packages\\flask\\app.py\"</cite>,\n      line <em class=\"line\">1509</em>,\n      in <code class=\"function\">dispatch_request</code></h4>\n  <div class=\"source library\"><pre class=\"line before\"><span class=\"ws\">            </span>getattr(rule, &quot;provide_automatic_options&quot;, False)</pre>\n<pre class=\"line before\"><span class=\"ws\">            </span>and req.method == &quot;OPTIONS&quot;</pre>\n<pre class=\"line before\"><span class=\"ws\">        </span>):</pre>\n<pre class=\"line before\"><span class=\"ws\">            </span>return self.make_default_options_response()</pre>\n<pre class=\"line before\"><span class=\"ws\">        </span># otherwise dispatch to the handler for that endpoint</pre>\n<pre class=\"line current\"><span class=\"ws\">        </span>return self.ensure_sync(self.view_functions[rule.endpoint])(**req.view_args)</pre>\n<pre class=\"line after\"><span class=\"ws\"></span> </pre>\n<pre class=\"line after\"><span class=\"ws\">    </span>def full_dispatch_request(self) -&gt; Response:</pre>\n<pre class=\"line after\"><span class=\"ws\">        </span>&quot;&quot;&quot;Dispatches the request and on top of that performs request</pre>\n<pre class=\"line after\"><span class=\"ws\">        </span>pre and postprocessing as well as HTTP exception catching and</pre>\n<pre class=\"line after\"><span class=\"ws\">        </span>error handling.</pre></div>\n</div>\n\n<li><div class=\"frame\" id=\"frame-2539628948032\">\n  <h4>File <cite class=\"filename\">\"D:\\IT\\Стажировка\\ecomru\\Ozon\\Pycharm\\api_2.py\"</cite>,\n      line <em class=\"line\">71</em>,\n      in <code class=\"function\">get_campaigns</code></h4>\n  <div class=\"source \"><pre class=\"line before\"><span class=\"ws\">            </span>examples:</pre>\n<pre class=\"line before\"><span class=\"ws\">              </span>rgb: [&#x27;red&#x27;, &#x27;green&#x27;, &#x27;blue&#x27;]</pre>\n<pre class=\"line before\"><span class=\"ws\">    </span>&quot;&quot;&quot;</pre>\n<pre class=\"line before\"><span class=\"ws\">    </span>try:</pre>\n<pre class=\"line before\"><span class=\"ws\">        </span>json_file = request.get_json(force=False)</pre>\n<pre class=\"line current\"><span class=\"ws\">        </span>ozon = OzonPerformance(client_id=json_file[&quot;client_id&quot;],</pre>\n<pre class=\"line after\"><span class=\"ws\">                               </span>client_secret=json_file[&quot;client_secret&quot;])</pre>\n<pre class=\"line after\"><span class=\"ws\">        </span>if ozon.auth is None:</pre>\n<pre class=\"line after\"><span class=\"ws\">            </span>return jsonify({&#x27;error&#x27;: &#x27;Ошибка авторизации&#x27;})</pre>\n<pre class=\"line after\"><span class=\"ws\">        </span>else:</pre>\n<pre class=\"line after\"><span class=\"ws\">            </span>return jsonify({&#x27;result&#x27;: ozon.get_campaigns()})</pre></div>\n</div>\n</ul>\n  <blockquote>KeyError: &#x27;client_id&#x27;\n</blockquote>\n</div>\n\n<div class=\"plain\">\n    <p>\n      This is the Copy/Paste friendly version of the traceback.\n    </p>\n    <textarea cols=\"50\" rows=\"10\" name=\"code\" readonly>Traceback (most recent call last):\n  File &quot;D:\\IT\\Стажировка\\ecomru\\Ozon\\Pycharm\\venv\\lib\\site-packages\\flask\\app.py&quot;, line 2095, in __call__\n    return self.wsgi_app(environ, start_response)\n  File &quot;D:\\IT\\Стажировка\\ecomru\\Ozon\\Pycharm\\venv\\lib\\site-packages\\flask\\app.py&quot;, line 2080, in wsgi_app\n    response = self.handle_exception(e)\n  File &quot;D:\\IT\\Стажировка\\ecomru\\Ozon\\Pycharm\\venv\\lib\\site-packages\\flask\\app.py&quot;, line 2077, in wsgi_app\n    response = self.full_dispatch_request()\n  File &quot;D:\\IT\\Стажировка\\ecomru\\Ozon\\Pycharm\\venv\\lib\\site-packages\\flask\\app.py&quot;, line 1525, in full_dispatch_request\n    rv = self.handle_user_exception(e)\n  File &quot;D:\\IT\\Стажировка\\ecomru\\Ozon\\Pycharm\\venv\\lib\\site-packages\\flask\\app.py&quot;, line 1523, in full_dispatch_request\n    rv = self.dispatch_request()\n  File &quot;D:\\IT\\Стажировка\\ecomru\\Ozon\\Pycharm\\venv\\lib\\site-packages\\flask\\app.py&quot;, line 1509, in dispatch_request\n    return self.ensure_sync(self.view_functions[rule.endpoint])(**req.view_args)\n  File &quot;D:\\IT\\Стажировка\\ecomru\\Ozon\\Pycharm\\api_2.py&quot;, line 71, in get_campaigns\n    ozon = OzonPerformance(client_id=json_file[&quot;client_id&quot;],\nKeyError: &#x27;client_id&#x27;\n</textarea>\n</div>\n<div class=\"explanation\">\n  The debugger caught an exception in your WSGI application.  You can now\n  look at the traceback which led to the error.  <span class=\"nojavascript\">\n  If you enable JavaScript you can also use additional features such as code\n  execution (if the evalex feature is enabled), automatic pasting of the\n  exceptions and much more.</span>\n</div>\n      <div class=\"footer\">\n        Brought to you by <strong class=\"arthur\">DON'T PANIC</strong>, your\n        friendly Werkzeug powered traceback interpreter.\n      </div>\n    </div>\n\n    <div class=\"pin-prompt\">\n      <div class=\"inner\">\n        <h3>Console Locked</h3>\n        <p>\n          The console is locked and needs to be unlocked by entering the PIN.\n          You can find the PIN printed out on the standard output of your\n          shell that runs the server.\n        <form>\n          <p>PIN:\n            <input type=text name=pin size=14>\n            <input type=submit name=btn value=\"Confirm Pin\">\n        </form>\n      </div>\n    </div>\n  </body>\n</html>\n\n<!--\n\nTraceback (most recent call last):\n  File \"D:\\IT\\Стажировка\\ecomru\\Ozon\\Pycharm\\venv\\lib\\site-packages\\flask\\app.py\", line 2095, in __call__\n    return self.wsgi_app(environ, start_response)\n  File \"D:\\IT\\Стажировка\\ecomru\\Ozon\\Pycharm\\venv\\lib\\site-packages\\flask\\app.py\", line 2080, in wsgi_app\n    response = self.handle_exception(e)\n  File \"D:\\IT\\Стажировка\\ecomru\\Ozon\\Pycharm\\venv\\lib\\site-packages\\flask\\app.py\", line 2077, in wsgi_app\n    response = self.full_dispatch_request()\n  File \"D:\\IT\\Стажировка\\ecomru\\Ozon\\Pycharm\\venv\\lib\\site-packages\\flask\\app.py\", line 1525, in full_dispatch_request\n    rv = self.handle_user_exception(e)\n  File \"D:\\IT\\Стажировка\\ecomru\\Ozon\\Pycharm\\venv\\lib\\site-packages\\flask\\app.py\", line 1523, in full_dispatch_request\n    rv = self.dispatch_request()\n  File \"D:\\IT\\Стажировка\\ecomru\\Ozon\\Pycharm\\venv\\lib\\site-packages\\flask\\app.py\", line 1509, in dispatch_request\n    return self.ensure_sync(self.view_functions[rule.endpoint])(**req.view_args)\n  File \"D:\\IT\\Стажировка\\ecomru\\Ozon\\Pycharm\\api_2.py\", line 71, in get_campaigns\n    ozon = OzonPerformance(client_id=json_file[\"client_id\"],\nKeyError: 'client_id'\n\n\n-->\n: 0",
     "output_type": "error",
     "traceback": [
      "\u001b[1;31m---------------------------------------------------------------------------\u001b[0m",
      "\u001b[1;31mJSONDecodeError\u001b[0m                           Traceback (most recent call last)",
      "File \u001b[1;32m~\\anaconda3\\lib\\site-packages\\requests\\models.py:910\u001b[0m, in \u001b[0;36mResponse.json\u001b[1;34m(self, **kwargs)\u001b[0m\n\u001b[0;32m    909\u001b[0m \u001b[38;5;28;01mtry\u001b[39;00m:\n\u001b[1;32m--> 910\u001b[0m     \u001b[38;5;28;01mreturn\u001b[39;00m complexjson\u001b[38;5;241m.\u001b[39mloads(\u001b[38;5;28mself\u001b[39m\u001b[38;5;241m.\u001b[39mtext, \u001b[38;5;241m*\u001b[39m\u001b[38;5;241m*\u001b[39mkwargs)\n\u001b[0;32m    911\u001b[0m \u001b[38;5;28;01mexcept\u001b[39;00m JSONDecodeError \u001b[38;5;28;01mas\u001b[39;00m e:\n\u001b[0;32m    912\u001b[0m     \u001b[38;5;66;03m# Catch JSON-related errors and raise as requests.JSONDecodeError\u001b[39;00m\n\u001b[0;32m    913\u001b[0m     \u001b[38;5;66;03m# This aliases json.JSONDecodeError and simplejson.JSONDecodeError\u001b[39;00m\n",
      "File \u001b[1;32m~\\anaconda3\\lib\\json\\__init__.py:346\u001b[0m, in \u001b[0;36mloads\u001b[1;34m(s, cls, object_hook, parse_float, parse_int, parse_constant, object_pairs_hook, **kw)\u001b[0m\n\u001b[0;32m    343\u001b[0m \u001b[38;5;28;01mif\u001b[39;00m (\u001b[38;5;28mcls\u001b[39m \u001b[38;5;129;01mis\u001b[39;00m \u001b[38;5;28;01mNone\u001b[39;00m \u001b[38;5;129;01mand\u001b[39;00m object_hook \u001b[38;5;129;01mis\u001b[39;00m \u001b[38;5;28;01mNone\u001b[39;00m \u001b[38;5;129;01mand\u001b[39;00m\n\u001b[0;32m    344\u001b[0m         parse_int \u001b[38;5;129;01mis\u001b[39;00m \u001b[38;5;28;01mNone\u001b[39;00m \u001b[38;5;129;01mand\u001b[39;00m parse_float \u001b[38;5;129;01mis\u001b[39;00m \u001b[38;5;28;01mNone\u001b[39;00m \u001b[38;5;129;01mand\u001b[39;00m\n\u001b[0;32m    345\u001b[0m         parse_constant \u001b[38;5;129;01mis\u001b[39;00m \u001b[38;5;28;01mNone\u001b[39;00m \u001b[38;5;129;01mand\u001b[39;00m object_pairs_hook \u001b[38;5;129;01mis\u001b[39;00m \u001b[38;5;28;01mNone\u001b[39;00m \u001b[38;5;129;01mand\u001b[39;00m \u001b[38;5;129;01mnot\u001b[39;00m kw):\n\u001b[1;32m--> 346\u001b[0m     \u001b[38;5;28;01mreturn\u001b[39;00m \u001b[43m_default_decoder\u001b[49m\u001b[38;5;241;43m.\u001b[39;49m\u001b[43mdecode\u001b[49m\u001b[43m(\u001b[49m\u001b[43ms\u001b[49m\u001b[43m)\u001b[49m\n\u001b[0;32m    347\u001b[0m \u001b[38;5;28;01mif\u001b[39;00m \u001b[38;5;28mcls\u001b[39m \u001b[38;5;129;01mis\u001b[39;00m \u001b[38;5;28;01mNone\u001b[39;00m:\n",
      "File \u001b[1;32m~\\anaconda3\\lib\\json\\decoder.py:337\u001b[0m, in \u001b[0;36mJSONDecoder.decode\u001b[1;34m(self, s, _w)\u001b[0m\n\u001b[0;32m    333\u001b[0m \u001b[38;5;124;03m\"\"\"Return the Python representation of ``s`` (a ``str`` instance\u001b[39;00m\n\u001b[0;32m    334\u001b[0m \u001b[38;5;124;03mcontaining a JSON document).\u001b[39;00m\n\u001b[0;32m    335\u001b[0m \n\u001b[0;32m    336\u001b[0m \u001b[38;5;124;03m\"\"\"\u001b[39;00m\n\u001b[1;32m--> 337\u001b[0m obj, end \u001b[38;5;241m=\u001b[39m \u001b[38;5;28;43mself\u001b[39;49m\u001b[38;5;241;43m.\u001b[39;49m\u001b[43mraw_decode\u001b[49m\u001b[43m(\u001b[49m\u001b[43ms\u001b[49m\u001b[43m,\u001b[49m\u001b[43m \u001b[49m\u001b[43midx\u001b[49m\u001b[38;5;241;43m=\u001b[39;49m\u001b[43m_w\u001b[49m\u001b[43m(\u001b[49m\u001b[43ms\u001b[49m\u001b[43m,\u001b[49m\u001b[43m \u001b[49m\u001b[38;5;241;43m0\u001b[39;49m\u001b[43m)\u001b[49m\u001b[38;5;241;43m.\u001b[39;49m\u001b[43mend\u001b[49m\u001b[43m(\u001b[49m\u001b[43m)\u001b[49m\u001b[43m)\u001b[49m\n\u001b[0;32m    338\u001b[0m end \u001b[38;5;241m=\u001b[39m _w(s, end)\u001b[38;5;241m.\u001b[39mend()\n",
      "File \u001b[1;32m~\\anaconda3\\lib\\json\\decoder.py:355\u001b[0m, in \u001b[0;36mJSONDecoder.raw_decode\u001b[1;34m(self, s, idx)\u001b[0m\n\u001b[0;32m    354\u001b[0m \u001b[38;5;28;01mexcept\u001b[39;00m \u001b[38;5;167;01mStopIteration\u001b[39;00m \u001b[38;5;28;01mas\u001b[39;00m err:\n\u001b[1;32m--> 355\u001b[0m     \u001b[38;5;28;01mraise\u001b[39;00m JSONDecodeError(\u001b[38;5;124m\"\u001b[39m\u001b[38;5;124mExpecting value\u001b[39m\u001b[38;5;124m\"\u001b[39m, s, err\u001b[38;5;241m.\u001b[39mvalue) \u001b[38;5;28;01mfrom\u001b[39;00m \u001b[38;5;28mNone\u001b[39m\n\u001b[0;32m    356\u001b[0m \u001b[38;5;28;01mreturn\u001b[39;00m obj, end\n",
      "\u001b[1;31mJSONDecodeError\u001b[0m: Expecting value: line 1 column 1 (char 0)",
      "\nDuring handling of the above exception, another exception occurred:\n",
      "\u001b[1;31mJSONDecodeError\u001b[0m                           Traceback (most recent call last)",
      "Input \u001b[1;32mIn [5]\u001b[0m, in \u001b[0;36m<cell line: 1>\u001b[1;34m()\u001b[0m\n\u001b[1;32m----> 1\u001b[0m \u001b[43mrequest\u001b[49m\u001b[38;5;241;43m.\u001b[39;49m\u001b[43mjson\u001b[49m\u001b[43m(\u001b[49m\u001b[43m)\u001b[49m\n",
      "File \u001b[1;32m~\\anaconda3\\lib\\site-packages\\requests\\models.py:917\u001b[0m, in \u001b[0;36mResponse.json\u001b[1;34m(self, **kwargs)\u001b[0m\n\u001b[0;32m    915\u001b[0m     \u001b[38;5;28;01mraise\u001b[39;00m RequestsJSONDecodeError(e\u001b[38;5;241m.\u001b[39mmessage)\n\u001b[0;32m    916\u001b[0m \u001b[38;5;28;01melse\u001b[39;00m:\n\u001b[1;32m--> 917\u001b[0m     \u001b[38;5;28;01mraise\u001b[39;00m RequestsJSONDecodeError(e\u001b[38;5;241m.\u001b[39mmsg, e\u001b[38;5;241m.\u001b[39mdoc, e\u001b[38;5;241m.\u001b[39mpos)\n",
      "\u001b[1;31mJSONDecodeError\u001b[0m: [Errno Expecting value] <!doctype html>\n<html lang=en>\n  <head>\n    <title>KeyError: 'client_id'\n // Werkzeug Debugger</title>\n    <link rel=\"stylesheet\" href=\"?__debugger__=yes&amp;cmd=resource&amp;f=style.css\">\n    <link rel=\"shortcut icon\"\n        href=\"?__debugger__=yes&amp;cmd=resource&amp;f=console.png\">\n    <script src=\"?__debugger__=yes&amp;cmd=resource&amp;f=debugger.js\"></script>\n    <script>\n      var CONSOLE_MODE = false,\n          EVALEX = true,\n          EVALEX_TRUSTED = false,\n          SECRET = \"qWaWV5Qc6nlUZuIsjmO6\";\n    </script>\n  </head>\n  <body style=\"background-color: #fff\">\n    <div class=\"debugger\">\n<h1>KeyError</h1>\n<div class=\"detail\">\n  <p class=\"errormsg\">KeyError: &#x27;client_id&#x27;\n</p>\n</div>\n<h2 class=\"traceback\">Traceback <em>(most recent call last)</em></h2>\n<div class=\"traceback\">\n  <h3></h3>\n  <ul><li><div class=\"frame\" id=\"frame-2539628194592\">\n  <h4>File <cite class=\"filename\">\"D:\\IT\\Стажировка\\ecomru\\Ozon\\Pycharm\\venv\\lib\\site-packages\\flask\\app.py\"</cite>,\n      line <em class=\"line\">2095</em>,\n      in <code class=\"function\">__call__</code></h4>\n  <div class=\"source library\"><pre class=\"line before\"><span class=\"ws\">    </span>def __call__(self, environ: dict, start_response: t.Callable) -&gt; t.Any:</pre>\n<pre class=\"line before\"><span class=\"ws\">        </span>&quot;&quot;&quot;The WSGI server calls the Flask application object as the</pre>\n<pre class=\"line before\"><span class=\"ws\">        </span>WSGI application. This calls :meth:`wsgi_app`, which can be</pre>\n<pre class=\"line before\"><span class=\"ws\">        </span>wrapped to apply middleware.</pre>\n<pre class=\"line before\"><span class=\"ws\">        </span>&quot;&quot;&quot;</pre>\n<pre class=\"line current\"><span class=\"ws\">        </span>return self.wsgi_app(environ, start_response)</pre></div>\n</div>\n\n<li><div class=\"frame\" id=\"frame-2539628947472\">\n  <h4>File <cite class=\"filename\">\"D:\\IT\\Стажировка\\ecomru\\Ozon\\Pycharm\\venv\\lib\\site-packages\\flask\\app.py\"</cite>,\n      line <em class=\"line\">2080</em>,\n      in <code class=\"function\">wsgi_app</code></h4>\n  <div class=\"source library\"><pre class=\"line before\"><span class=\"ws\">            </span>try:</pre>\n<pre class=\"line before\"><span class=\"ws\">                </span>ctx.push()</pre>\n<pre class=\"line before\"><span class=\"ws\">                </span>response = self.full_dispatch_request()</pre>\n<pre class=\"line before\"><span class=\"ws\">            </span>except Exception as e:</pre>\n<pre class=\"line before\"><span class=\"ws\">                </span>error = e</pre>\n<pre class=\"line current\"><span class=\"ws\">                </span>response = self.handle_exception(e)</pre>\n<pre class=\"line after\"><span class=\"ws\">            </span>except:  # noqa: B001</pre>\n<pre class=\"line after\"><span class=\"ws\">                </span>error = sys.exc_info()[1]</pre>\n<pre class=\"line after\"><span class=\"ws\">                </span>raise</pre>\n<pre class=\"line after\"><span class=\"ws\">            </span>return response(environ, start_response)</pre>\n<pre class=\"line after\"><span class=\"ws\">        </span>finally:</pre></div>\n</div>\n\n<li><div class=\"frame\" id=\"frame-2539628947584\">\n  <h4>File <cite class=\"filename\">\"D:\\IT\\Стажировка\\ecomru\\Ozon\\Pycharm\\venv\\lib\\site-packages\\flask\\app.py\"</cite>,\n      line <em class=\"line\">2077</em>,\n      in <code class=\"function\">wsgi_app</code></h4>\n  <div class=\"source library\"><pre class=\"line before\"><span class=\"ws\">        </span>ctx = self.request_context(environ)</pre>\n<pre class=\"line before\"><span class=\"ws\">        </span>error: t.Optional[BaseException] = None</pre>\n<pre class=\"line before\"><span class=\"ws\">        </span>try:</pre>\n<pre class=\"line before\"><span class=\"ws\">            </span>try:</pre>\n<pre class=\"line before\"><span class=\"ws\">                </span>ctx.push()</pre>\n<pre class=\"line current\"><span class=\"ws\">                </span>response = self.full_dispatch_request()</pre>\n<pre class=\"line after\"><span class=\"ws\">            </span>except Exception as e:</pre>\n<pre class=\"line after\"><span class=\"ws\">                </span>error = e</pre>\n<pre class=\"line after\"><span class=\"ws\">                </span>response = self.handle_exception(e)</pre>\n<pre class=\"line after\"><span class=\"ws\">            </span>except:  # noqa: B001</pre>\n<pre class=\"line after\"><span class=\"ws\">                </span>error = sys.exc_info()[1]</pre></div>\n</div>\n\n<li><div class=\"frame\" id=\"frame-2539628947696\">\n  <h4>File <cite class=\"filename\">\"D:\\IT\\Стажировка\\ecomru\\Ozon\\Pycharm\\venv\\lib\\site-packages\\flask\\app.py\"</cite>,\n      line <em class=\"line\">1525</em>,\n      in <code class=\"function\">full_dispatch_request</code></h4>\n  <div class=\"source library\"><pre class=\"line before\"><span class=\"ws\">            </span>request_started.send(self)</pre>\n<pre class=\"line before\"><span class=\"ws\">            </span>rv = self.preprocess_request()</pre>\n<pre class=\"line before\"><span class=\"ws\">            </span>if rv is None:</pre>\n<pre class=\"line before\"><span class=\"ws\">                </span>rv = self.dispatch_request()</pre>\n<pre class=\"line before\"><span class=\"ws\">        </span>except Exception as e:</pre>\n<pre class=\"line current\"><span class=\"ws\">            </span>rv = self.handle_user_exception(e)</pre>\n<pre class=\"line after\"><span class=\"ws\">        </span>return self.finalize_request(rv)</pre>\n<pre class=\"line after\"><span class=\"ws\"></span> </pre>\n<pre class=\"line after\"><span class=\"ws\">    </span>def finalize_request(</pre>\n<pre class=\"line after\"><span class=\"ws\">        </span>self,</pre>\n<pre class=\"line after\"><span class=\"ws\">        </span>rv: t.Union[ResponseReturnValue, HTTPException],</pre></div>\n</div>\n\n<li><div class=\"frame\" id=\"frame-2539628947808\">\n  <h4>File <cite class=\"filename\">\"D:\\IT\\Стажировка\\ecomru\\Ozon\\Pycharm\\venv\\lib\\site-packages\\flask\\app.py\"</cite>,\n      line <em class=\"line\">1523</em>,\n      in <code class=\"function\">full_dispatch_request</code></h4>\n  <div class=\"source library\"><pre class=\"line before\"><span class=\"ws\">        </span>self.try_trigger_before_first_request_functions()</pre>\n<pre class=\"line before\"><span class=\"ws\">        </span>try:</pre>\n<pre class=\"line before\"><span class=\"ws\">            </span>request_started.send(self)</pre>\n<pre class=\"line before\"><span class=\"ws\">            </span>rv = self.preprocess_request()</pre>\n<pre class=\"line before\"><span class=\"ws\">            </span>if rv is None:</pre>\n<pre class=\"line current\"><span class=\"ws\">                </span>rv = self.dispatch_request()</pre>\n<pre class=\"line after\"><span class=\"ws\">        </span>except Exception as e:</pre>\n<pre class=\"line after\"><span class=\"ws\">            </span>rv = self.handle_user_exception(e)</pre>\n<pre class=\"line after\"><span class=\"ws\">        </span>return self.finalize_request(rv)</pre>\n<pre class=\"line after\"><span class=\"ws\"></span> </pre>\n<pre class=\"line after\"><span class=\"ws\">    </span>def finalize_request(</pre></div>\n</div>\n\n<li><div class=\"frame\" id=\"frame-2539628947920\">\n  <h4>File <cite class=\"filename\">\"D:\\IT\\Стажировка\\ecomru\\Ozon\\Pycharm\\venv\\lib\\site-packages\\flask\\app.py\"</cite>,\n      line <em class=\"line\">1509</em>,\n      in <code class=\"function\">dispatch_request</code></h4>\n  <div class=\"source library\"><pre class=\"line before\"><span class=\"ws\">            </span>getattr(rule, &quot;provide_automatic_options&quot;, False)</pre>\n<pre class=\"line before\"><span class=\"ws\">            </span>and req.method == &quot;OPTIONS&quot;</pre>\n<pre class=\"line before\"><span class=\"ws\">        </span>):</pre>\n<pre class=\"line before\"><span class=\"ws\">            </span>return self.make_default_options_response()</pre>\n<pre class=\"line before\"><span class=\"ws\">        </span># otherwise dispatch to the handler for that endpoint</pre>\n<pre class=\"line current\"><span class=\"ws\">        </span>return self.ensure_sync(self.view_functions[rule.endpoint])(**req.view_args)</pre>\n<pre class=\"line after\"><span class=\"ws\"></span> </pre>\n<pre class=\"line after\"><span class=\"ws\">    </span>def full_dispatch_request(self) -&gt; Response:</pre>\n<pre class=\"line after\"><span class=\"ws\">        </span>&quot;&quot;&quot;Dispatches the request and on top of that performs request</pre>\n<pre class=\"line after\"><span class=\"ws\">        </span>pre and postprocessing as well as HTTP exception catching and</pre>\n<pre class=\"line after\"><span class=\"ws\">        </span>error handling.</pre></div>\n</div>\n\n<li><div class=\"frame\" id=\"frame-2539628948032\">\n  <h4>File <cite class=\"filename\">\"D:\\IT\\Стажировка\\ecomru\\Ozon\\Pycharm\\api_2.py\"</cite>,\n      line <em class=\"line\">71</em>,\n      in <code class=\"function\">get_campaigns</code></h4>\n  <div class=\"source \"><pre class=\"line before\"><span class=\"ws\">            </span>examples:</pre>\n<pre class=\"line before\"><span class=\"ws\">              </span>rgb: [&#x27;red&#x27;, &#x27;green&#x27;, &#x27;blue&#x27;]</pre>\n<pre class=\"line before\"><span class=\"ws\">    </span>&quot;&quot;&quot;</pre>\n<pre class=\"line before\"><span class=\"ws\">    </span>try:</pre>\n<pre class=\"line before\"><span class=\"ws\">        </span>json_file = request.get_json(force=False)</pre>\n<pre class=\"line current\"><span class=\"ws\">        </span>ozon = OzonPerformance(client_id=json_file[&quot;client_id&quot;],</pre>\n<pre class=\"line after\"><span class=\"ws\">                               </span>client_secret=json_file[&quot;client_secret&quot;])</pre>\n<pre class=\"line after\"><span class=\"ws\">        </span>if ozon.auth is None:</pre>\n<pre class=\"line after\"><span class=\"ws\">            </span>return jsonify({&#x27;error&#x27;: &#x27;Ошибка авторизации&#x27;})</pre>\n<pre class=\"line after\"><span class=\"ws\">        </span>else:</pre>\n<pre class=\"line after\"><span class=\"ws\">            </span>return jsonify({&#x27;result&#x27;: ozon.get_campaigns()})</pre></div>\n</div>\n</ul>\n  <blockquote>KeyError: &#x27;client_id&#x27;\n</blockquote>\n</div>\n\n<div class=\"plain\">\n    <p>\n      This is the Copy/Paste friendly version of the traceback.\n    </p>\n    <textarea cols=\"50\" rows=\"10\" name=\"code\" readonly>Traceback (most recent call last):\n  File &quot;D:\\IT\\Стажировка\\ecomru\\Ozon\\Pycharm\\venv\\lib\\site-packages\\flask\\app.py&quot;, line 2095, in __call__\n    return self.wsgi_app(environ, start_response)\n  File &quot;D:\\IT\\Стажировка\\ecomru\\Ozon\\Pycharm\\venv\\lib\\site-packages\\flask\\app.py&quot;, line 2080, in wsgi_app\n    response = self.handle_exception(e)\n  File &quot;D:\\IT\\Стажировка\\ecomru\\Ozon\\Pycharm\\venv\\lib\\site-packages\\flask\\app.py&quot;, line 2077, in wsgi_app\n    response = self.full_dispatch_request()\n  File &quot;D:\\IT\\Стажировка\\ecomru\\Ozon\\Pycharm\\venv\\lib\\site-packages\\flask\\app.py&quot;, line 1525, in full_dispatch_request\n    rv = self.handle_user_exception(e)\n  File &quot;D:\\IT\\Стажировка\\ecomru\\Ozon\\Pycharm\\venv\\lib\\site-packages\\flask\\app.py&quot;, line 1523, in full_dispatch_request\n    rv = self.dispatch_request()\n  File &quot;D:\\IT\\Стажировка\\ecomru\\Ozon\\Pycharm\\venv\\lib\\site-packages\\flask\\app.py&quot;, line 1509, in dispatch_request\n    return self.ensure_sync(self.view_functions[rule.endpoint])(**req.view_args)\n  File &quot;D:\\IT\\Стажировка\\ecomru\\Ozon\\Pycharm\\api_2.py&quot;, line 71, in get_campaigns\n    ozon = OzonPerformance(client_id=json_file[&quot;client_id&quot;],\nKeyError: &#x27;client_id&#x27;\n</textarea>\n</div>\n<div class=\"explanation\">\n  The debugger caught an exception in your WSGI application.  You can now\n  look at the traceback which led to the error.  <span class=\"nojavascript\">\n  If you enable JavaScript you can also use additional features such as code\n  execution (if the evalex feature is enabled), automatic pasting of the\n  exceptions and much more.</span>\n</div>\n      <div class=\"footer\">\n        Brought to you by <strong class=\"arthur\">DON'T PANIC</strong>, your\n        friendly Werkzeug powered traceback interpreter.\n      </div>\n    </div>\n\n    <div class=\"pin-prompt\">\n      <div class=\"inner\">\n        <h3>Console Locked</h3>\n        <p>\n          The console is locked and needs to be unlocked by entering the PIN.\n          You can find the PIN printed out on the standard output of your\n          shell that runs the server.\n        <form>\n          <p>PIN:\n            <input type=text name=pin size=14>\n            <input type=submit name=btn value=\"Confirm Pin\">\n        </form>\n      </div>\n    </div>\n  </body>\n</html>\n\n<!--\n\nTraceback (most recent call last):\n  File \"D:\\IT\\Стажировка\\ecomru\\Ozon\\Pycharm\\venv\\lib\\site-packages\\flask\\app.py\", line 2095, in __call__\n    return self.wsgi_app(environ, start_response)\n  File \"D:\\IT\\Стажировка\\ecomru\\Ozon\\Pycharm\\venv\\lib\\site-packages\\flask\\app.py\", line 2080, in wsgi_app\n    response = self.handle_exception(e)\n  File \"D:\\IT\\Стажировка\\ecomru\\Ozon\\Pycharm\\venv\\lib\\site-packages\\flask\\app.py\", line 2077, in wsgi_app\n    response = self.full_dispatch_request()\n  File \"D:\\IT\\Стажировка\\ecomru\\Ozon\\Pycharm\\venv\\lib\\site-packages\\flask\\app.py\", line 1525, in full_dispatch_request\n    rv = self.handle_user_exception(e)\n  File \"D:\\IT\\Стажировка\\ecomru\\Ozon\\Pycharm\\venv\\lib\\site-packages\\flask\\app.py\", line 1523, in full_dispatch_request\n    rv = self.dispatch_request()\n  File \"D:\\IT\\Стажировка\\ecomru\\Ozon\\Pycharm\\venv\\lib\\site-packages\\flask\\app.py\", line 1509, in dispatch_request\n    return self.ensure_sync(self.view_functions[rule.endpoint])(**req.view_args)\n  File \"D:\\IT\\Стажировка\\ecomru\\Ozon\\Pycharm\\api_2.py\", line 71, in get_campaigns\n    ozon = OzonPerformance(client_id=json_file[\"client_id\"],\nKeyError: 'client_id'\n\n\n-->\n: 0"
     ]
    }
   ],
   "source": [
    "request.json()"
   ]
  },
  {
   "cell_type": "code",
   "execution_count": 6,
   "id": "c5deb4b3",
   "metadata": {},
   "outputs": [
    {
     "data": {
      "text/plain": [
       "<Response [200]>"
      ]
     },
     "execution_count": 6,
     "metadata": {},
     "output_type": "execute_result"
    }
   ],
   "source": [
    "body = {\"client_id\": client_id, \n",
    "        \"client_secret\": client_secret}\n",
    "\n",
    "head = {\"Content-Type\": \"application/json\"}\n",
    "\n",
    "url = url1 + \"/ozonperformance/campaigns\"\n",
    "request = requests.post(url, headers=head, \n",
    "                        data=json.dumps(body)\n",
    "                       )\n",
    "request"
   ]
  },
  {
   "cell_type": "code",
   "execution_count": 7,
   "id": "4c209cf1",
   "metadata": {},
   "outputs": [
    {
     "data": {
      "text/plain": [
       "{'result': [{'id': '1658881',\n",
       "   'title': 'тестовая api 6',\n",
       "   'state': 'CAMPAIGN_STATE_INACTIVE',\n",
       "   'advObjectType': 'SKU',\n",
       "   'fromDate': '2022-10-05',\n",
       "   'toDate': '',\n",
       "   'dailyBudget': '500000000',\n",
       "   'placement': ['PLACEMENT_SEARCH_AND_CATEGORY'],\n",
       "   'budget': '0',\n",
       "   'createdAt': '2022-10-04T21:30:23.390420Z',\n",
       "   'updatedAt': '2022-10-04T21:30:23.390420Z',\n",
       "   'productCampaignMode': 'PRODUCT_CAMPAIGN_MODE_AUTO',\n",
       "   'productAutopilotStrategy': 'NO_AUTO_STRATEGY',\n",
       "   'autopilot': {'maxBid': '0', 'categoryId': '0'}},\n",
       "  {'id': '1649220',\n",
       "   'title': 'тестовая api 5',\n",
       "   'state': 'CAMPAIGN_STATE_INACTIVE',\n",
       "   'advObjectType': 'SKU',\n",
       "   'fromDate': '2022-10-02',\n",
       "   'toDate': '',\n",
       "   'dailyBudget': '500000000',\n",
       "   'placement': ['PLACEMENT_SEARCH_AND_CATEGORY'],\n",
       "   'budget': '0',\n",
       "   'createdAt': '2022-10-02T19:31:27.056771Z',\n",
       "   'updatedAt': '2022-10-02T19:31:27.056771Z',\n",
       "   'productCampaignMode': 'PRODUCT_CAMPAIGN_MODE_AUTO',\n",
       "   'productAutopilotStrategy': 'NO_AUTO_STRATEGY',\n",
       "   'autopilot': {'maxBid': '0', 'categoryId': '0'}},\n",
       "  {'id': '1647020',\n",
       "   'title': 'тестовая api 5',\n",
       "   'state': 'CAMPAIGN_STATE_INACTIVE',\n",
       "   'advObjectType': 'SKU',\n",
       "   'fromDate': '2022-10-02',\n",
       "   'toDate': '',\n",
       "   'dailyBudget': '500000000',\n",
       "   'placement': ['PLACEMENT_SEARCH_AND_CATEGORY'],\n",
       "   'budget': '0',\n",
       "   'createdAt': '2022-10-01T22:11:11.204940Z',\n",
       "   'updatedAt': '2022-10-01T22:11:11.204940Z',\n",
       "   'productCampaignMode': 'PRODUCT_CAMPAIGN_MODE_AUTO',\n",
       "   'productAutopilotStrategy': 'NO_AUTO_STRATEGY',\n",
       "   'autopilot': {'maxBid': '0', 'categoryId': '0'}},\n",
       "  {'id': '1647014',\n",
       "   'title': 'тестовая api 4',\n",
       "   'state': 'CAMPAIGN_STATE_INACTIVE',\n",
       "   'advObjectType': 'SKU',\n",
       "   'fromDate': '2022-10-02',\n",
       "   'toDate': '',\n",
       "   'dailyBudget': '500000000',\n",
       "   'placement': ['PLACEMENT_SEARCH_AND_CATEGORY'],\n",
       "   'budget': '0',\n",
       "   'createdAt': '2022-10-01T22:08:37.022533Z',\n",
       "   'updatedAt': '2022-10-01T22:08:37.022533Z',\n",
       "   'productCampaignMode': 'PRODUCT_CAMPAIGN_MODE_AUTO',\n",
       "   'productAutopilotStrategy': 'NO_AUTO_STRATEGY',\n",
       "   'autopilot': {'maxBid': '0', 'categoryId': '0'}},\n",
       "  {'id': '1647013',\n",
       "   'title': 'тестовая api 3',\n",
       "   'state': 'CAMPAIGN_STATE_INACTIVE',\n",
       "   'advObjectType': 'SKU',\n",
       "   'fromDate': '2022-10-02',\n",
       "   'toDate': '',\n",
       "   'dailyBudget': '500000000',\n",
       "   'placement': ['PLACEMENT_SEARCH_AND_CATEGORY'],\n",
       "   'budget': '0',\n",
       "   'createdAt': '2022-10-01T22:08:26.832464Z',\n",
       "   'updatedAt': '2022-10-01T22:08:26.832464Z',\n",
       "   'productCampaignMode': 'PRODUCT_CAMPAIGN_MODE_AUTO',\n",
       "   'productAutopilotStrategy': 'NO_AUTO_STRATEGY',\n",
       "   'autopilot': {'maxBid': '0', 'categoryId': '0'}},\n",
       "  {'id': '1646987',\n",
       "   'title': 'тестовая api 3',\n",
       "   'state': 'CAMPAIGN_STATE_INACTIVE',\n",
       "   'advObjectType': 'SKU',\n",
       "   'fromDate': '2022-10-02',\n",
       "   'toDate': '',\n",
       "   'dailyBudget': '500000000',\n",
       "   'placement': ['PLACEMENT_SEARCH_AND_CATEGORY'],\n",
       "   'budget': '0',\n",
       "   'createdAt': '2022-10-01T21:45:43.758558Z',\n",
       "   'updatedAt': '2022-10-01T21:45:43.758558Z',\n",
       "   'productCampaignMode': 'PRODUCT_CAMPAIGN_MODE_AUTO',\n",
       "   'productAutopilotStrategy': 'NO_AUTO_STRATEGY',\n",
       "   'autopilot': {'maxBid': '0', 'categoryId': '0'}},\n",
       "  {'id': '1646986',\n",
       "   'title': 'тестовая api 3',\n",
       "   'state': 'CAMPAIGN_STATE_INACTIVE',\n",
       "   'advObjectType': 'SKU',\n",
       "   'fromDate': '2022-10-02',\n",
       "   'toDate': '',\n",
       "   'dailyBudget': '500000000',\n",
       "   'placement': ['PLACEMENT_SEARCH_AND_CATEGORY'],\n",
       "   'budget': '0',\n",
       "   'createdAt': '2022-10-01T21:44:16.803205Z',\n",
       "   'updatedAt': '2022-10-01T21:44:16.803205Z',\n",
       "   'productCampaignMode': 'PRODUCT_CAMPAIGN_MODE_AUTO',\n",
       "   'productAutopilotStrategy': 'NO_AUTO_STRATEGY',\n",
       "   'autopilot': {'maxBid': '0', 'categoryId': '0'}},\n",
       "  {'id': '1646985',\n",
       "   'title': 'тестовая api 1',\n",
       "   'state': 'CAMPAIGN_STATE_INACTIVE',\n",
       "   'advObjectType': 'SKU',\n",
       "   'fromDate': '2022-10-02',\n",
       "   'toDate': '',\n",
       "   'dailyBudget': '500000000',\n",
       "   'placement': ['PLACEMENT_SEARCH_AND_CATEGORY'],\n",
       "   'budget': '0',\n",
       "   'createdAt': '2022-10-01T21:44:03.578410Z',\n",
       "   'updatedAt': '2022-10-01T21:44:03.578410Z',\n",
       "   'productCampaignMode': 'PRODUCT_CAMPAIGN_MODE_AUTO',\n",
       "   'productAutopilotStrategy': 'NO_AUTO_STRATEGY',\n",
       "   'autopilot': {'maxBid': '0', 'categoryId': '0'}},\n",
       "  {'id': '1646823',\n",
       "   'title': 'тестовая api 1',\n",
       "   'state': 'CAMPAIGN_STATE_INACTIVE',\n",
       "   'advObjectType': 'SKU',\n",
       "   'fromDate': '2022-10-01',\n",
       "   'toDate': '',\n",
       "   'dailyBudget': '500000000',\n",
       "   'placement': ['PLACEMENT_SEARCH_AND_CATEGORY'],\n",
       "   'budget': '0',\n",
       "   'createdAt': '2022-10-01T19:41:43.032813Z',\n",
       "   'updatedAt': '2022-10-04T21:35:55.456871Z',\n",
       "   'productCampaignMode': 'PRODUCT_CAMPAIGN_MODE_AUTO',\n",
       "   'productAutopilotStrategy': 'NO_AUTO_STRATEGY',\n",
       "   'autopilot': {'maxBid': '0', 'categoryId': '0'}},\n",
       "  {'id': '1639751',\n",
       "   'title': 'тестовая api 1',\n",
       "   'state': 'CAMPAIGN_STATE_FINISHED',\n",
       "   'advObjectType': 'SKU',\n",
       "   'fromDate': '2022-10-01',\n",
       "   'toDate': '2022-10-05',\n",
       "   'dailyBudget': '1000000000',\n",
       "   'placement': ['PLACEMENT_SEARCH_AND_CATEGORY'],\n",
       "   'budget': '0',\n",
       "   'createdAt': '2022-09-29T18:56:10.153790Z',\n",
       "   'updatedAt': '2022-10-01T22:25:57.720946Z',\n",
       "   'productCampaignMode': 'PRODUCT_CAMPAIGN_MODE_AUTO',\n",
       "   'productAutopilotStrategy': 'NO_AUTO_STRATEGY',\n",
       "   'autopilot': {'maxBid': '0', 'categoryId': '0'}},\n",
       "  {'id': '1368475',\n",
       "   'title': 'Моя новая кампания',\n",
       "   'state': 'CAMPAIGN_STATE_FINISHED',\n",
       "   'advObjectType': 'SKU',\n",
       "   'fromDate': '2022-07-30',\n",
       "   'toDate': '2022-08-10',\n",
       "   'dailyBudget': '500000000',\n",
       "   'placement': ['PLACEMENT_SEARCH_AND_CATEGORY'],\n",
       "   'budget': '0',\n",
       "   'createdAt': '2022-07-27T20:45:02.439420Z',\n",
       "   'updatedAt': '2022-07-27T21:00:28.353155Z',\n",
       "   'productCampaignMode': 'PRODUCT_CAMPAIGN_MODE_AUTO',\n",
       "   'productAutopilotStrategy': 'NO_AUTO_STRATEGY',\n",
       "   'autopilot': {'maxBid': '0', 'categoryId': '0'}},\n",
       "  {'id': '1368450',\n",
       "   'title': 'Моя новая кампания',\n",
       "   'state': 'CAMPAIGN_STATE_FINISHED',\n",
       "   'advObjectType': 'SKU',\n",
       "   'fromDate': '2022-07-30',\n",
       "   'toDate': '2022-08-10',\n",
       "   'dailyBudget': '0',\n",
       "   'placement': ['PLACEMENT_SEARCH_AND_CATEGORY'],\n",
       "   'budget': '0',\n",
       "   'createdAt': '2022-07-27T20:30:53.129355Z',\n",
       "   'updatedAt': '2022-07-27T20:45:50.039581Z',\n",
       "   'productCampaignMode': 'PRODUCT_CAMPAIGN_MODE_AUTO',\n",
       "   'productAutopilotStrategy': 'NO_AUTO_STRATEGY',\n",
       "   'autopilot': {'maxBid': '0', 'categoryId': '0'}},\n",
       "  {'id': '1124262',\n",
       "   'title': '2',\n",
       "   'state': 'CAMPAIGN_STATE_RUNNING',\n",
       "   'advObjectType': 'SEARCH_PROMO',\n",
       "   'fromDate': '',\n",
       "   'toDate': '',\n",
       "   'dailyBudget': '0',\n",
       "   'placement': [],\n",
       "   'budget': '0',\n",
       "   'createdAt': '2022-05-31T08:44:56.486175Z',\n",
       "   'updatedAt': '2022-05-31T08:44:56.486175Z',\n",
       "   'productCampaignMode': 'PRODUCT_CAMPAIGN_MODE_MANUAL',\n",
       "   'productAutopilotStrategy': 'NO_AUTO_STRATEGY',\n",
       "   'autopilot': {'maxBid': '0', 'categoryId': '0'}},\n",
       "  {'id': '166386',\n",
       "   'title': 'Продвижение в поиске',\n",
       "   'state': 'CAMPAIGN_STATE_RUNNING',\n",
       "   'advObjectType': 'SEARCH_PROMO',\n",
       "   'fromDate': '2021-07-26',\n",
       "   'toDate': '',\n",
       "   'dailyBudget': '0',\n",
       "   'placement': [],\n",
       "   'budget': '0',\n",
       "   'createdAt': '2021-03-02T21:43:11.620339Z',\n",
       "   'updatedAt': '2021-03-02T21:43:11.620339Z',\n",
       "   'productCampaignMode': 'PRODUCT_CAMPAIGN_MODE_MANUAL',\n",
       "   'productAutopilotStrategy': 'NO_AUTO_STRATEGY',\n",
       "   'autopilot': {'maxBid': '0', 'categoryId': '0'}},\n",
       "  {'id': '130561',\n",
       "   'title': 'Реклама товаров - Поиск',\n",
       "   'state': 'CAMPAIGN_STATE_INACTIVE',\n",
       "   'advObjectType': 'SKU',\n",
       "   'fromDate': '2021-01-22',\n",
       "   'toDate': '',\n",
       "   'dailyBudget': '0',\n",
       "   'placement': ['PLACEMENT_SEARCH_AND_CATEGORY'],\n",
       "   'budget': '0',\n",
       "   'createdAt': '2021-01-22T12:30:58.222536Z',\n",
       "   'updatedAt': '2021-02-26T17:33:27.190413Z',\n",
       "   'productCampaignMode': 'PRODUCT_CAMPAIGN_MODE_AUTO',\n",
       "   'productAutopilotStrategy': 'NO_AUTO_STRATEGY',\n",
       "   'autopilot': {'maxBid': '0', 'categoryId': '0'}}]}"
      ]
     },
     "execution_count": 7,
     "metadata": {},
     "output_type": "execute_result"
    }
   ],
   "source": [
    "request.json()"
   ]
  },
  {
   "cell_type": "code",
   "execution_count": 67,
   "id": "da3d40a1-bc47-44f9-9886-d172f68a673f",
   "metadata": {},
   "outputs": [
    {
     "data": {
      "text/plain": [
       "<Response [200]>"
      ]
     },
     "execution_count": 67,
     "metadata": {},
     "output_type": "execute_result"
    }
   ],
   "source": [
    "request = requests.post(url, \n",
    "                        headers=head, \n",
    "                        # data=json.dumps(body)\n",
    "                       )\n",
    "request"
   ]
  },
  {
   "cell_type": "code",
   "execution_count": 68,
   "id": "517836e1-6330-43a1-91b7-0bbb6052224b",
   "metadata": {},
   "outputs": [
    {
     "data": {
      "text/plain": [
       "{'error': 'Ошибка авторизации'}"
      ]
     },
     "execution_count": 68,
     "metadata": {},
     "output_type": "execute_result"
    }
   ],
   "source": [
    "request.json()"
   ]
  },
  {
   "cell_type": "markdown",
   "id": "4c706523",
   "metadata": {},
   "source": [
    "### Запрос объектов\n",
    "\n",
    "POST\n",
    "\n",
    "/ozonperformance/objects"
   ]
  },
  {
   "cell_type": "code",
   "execution_count": 73,
   "id": "ceb8f1eb",
   "metadata": {},
   "outputs": [
    {
     "data": {
      "text/plain": [
       "<Response [200]>"
      ]
     },
     "execution_count": 73,
     "metadata": {},
     "output_type": "execute_result"
    }
   ],
   "source": [
    "body = {\"client_id\": client_id, \n",
    "        \"client_secret\": client_secret,\n",
    "        \"campaign_id\": '1639751'}\n",
    "\n",
    "head = {\"Content-Type\": \"application/json\"}\n",
    "\n",
    "# head = {\"client_id\": client_id, \n",
    "#         \"client_secret\": client_secret,\n",
    "#         \"Content-Type\": \"application/json\"\n",
    "#         }\n",
    "\n",
    "# body = {\"campaign_id\": '1639751'}\n",
    "\n",
    "url = url1 + \"/ozonperformance/objects\"\n",
    "request = requests.post(url, headers=head, data=json.dumps(body))\n",
    "request"
   ]
  },
  {
   "cell_type": "code",
   "execution_count": 74,
   "id": "09e37d71",
   "metadata": {},
   "outputs": [
    {
     "data": {
      "text/plain": [
       "{'result': []}"
      ]
     },
     "execution_count": 74,
     "metadata": {},
     "output_type": "execute_result"
    }
   ],
   "source": [
    "request.json()"
   ]
  },
  {
   "cell_type": "code",
   "execution_count": 38,
   "id": "fa71f84f-d3f4-4489-93ec-a707ad6d6a85",
   "metadata": {},
   "outputs": [
    {
     "data": {
      "text/plain": [
       "<Response [400]>"
      ]
     },
     "execution_count": 38,
     "metadata": {},
     "output_type": "execute_result"
    }
   ],
   "source": [
    "url = url1 + \"/ozonperformance/objects\"\n",
    "request = requests.post(url, \n",
    "                        headers=head, \n",
    "                        # data=json.dumps(body)\n",
    "                       )\n",
    "request"
   ]
  },
  {
   "cell_type": "code",
   "execution_count": 39,
   "id": "a9667433-2dfa-42c3-af65-d92cdb1ffc54",
   "metadata": {},
   "outputs": [
    {
     "data": {
      "text/plain": [
       "{'message': 'The browser (or proxy) sent a request that this server could not understand.'}"
      ]
     },
     "execution_count": 39,
     "metadata": {},
     "output_type": "execute_result"
    }
   ],
   "source": [
    "request.json()"
   ]
  },
  {
   "cell_type": "code",
   "execution_count": 40,
   "id": "a70d7f6f-25d7-4e64-bcd8-2db1dbdddd92",
   "metadata": {},
   "outputs": [
    {
     "data": {
      "text/plain": [
       "<Response [200]>"
      ]
     },
     "execution_count": 40,
     "metadata": {},
     "output_type": "execute_result"
    }
   ],
   "source": [
    "body = {\"client_id\": client_id, \n",
    "        \"client_secret\": client_secret,\n",
    "        # \"campaign_id\": None\n",
    "       }\n",
    "\n",
    "head = {\"Content-Type\": \"application/json\"}\n",
    "\n",
    "url = url1 + \"/ozonperformance/objects\"\n",
    "request = requests.post(url, headers=head, data=json.dumps(body))\n",
    "request"
   ]
  },
  {
   "cell_type": "code",
   "execution_count": 41,
   "id": "cb2b4636-932a-4307-925a-a05b6acc987d",
   "metadata": {},
   "outputs": [
    {
     "data": {
      "text/plain": [
       "{'error': 'Не задан параметр campaign_id'}"
      ]
     },
     "execution_count": 41,
     "metadata": {},
     "output_type": "execute_result"
    }
   ],
   "source": [
    "request.json()"
   ]
  },
  {
   "cell_type": "markdown",
   "id": "21512160",
   "metadata": {},
   "source": [
    "### Доступные режимы создания рекламных кампаний\n",
    "\n",
    "POST\n",
    "\n",
    "/ozonperformance/available"
   ]
  },
  {
   "cell_type": "code",
   "execution_count": 42,
   "id": "7beb4e4d",
   "metadata": {},
   "outputs": [
    {
     "data": {
      "text/plain": [
       "<Response [200]>"
      ]
     },
     "execution_count": 42,
     "metadata": {},
     "output_type": "execute_result"
    }
   ],
   "source": [
    "body = {\"client_id\": client_id, \n",
    "        \"client_secret\": client_secret}\n",
    "\n",
    "head = {\"Content-Type\": \"application/json\"}\n",
    "\n",
    "url = url1 + \"/ozonperformance/available\"\n",
    "request = requests.post(url, headers=head, data=json.dumps(body))\n",
    "request"
   ]
  },
  {
   "cell_type": "code",
   "execution_count": 43,
   "id": "dbf7e9f3",
   "metadata": {},
   "outputs": [
    {
     "data": {
      "text/plain": [
       "{'result': {'productCampaignMode': ['PRODUCT_CAMPAIGN_MODE_AUTO']}}"
      ]
     },
     "execution_count": 43,
     "metadata": {},
     "output_type": "execute_result"
    }
   ],
   "source": [
    "request.json()"
   ]
  },
  {
   "cell_type": "markdown",
   "id": "c10d06ff",
   "metadata": {},
   "source": [
    "### Создание кампании\n",
    "\n",
    "POST\n",
    "\n",
    "/ozonperformance/addcamp"
   ]
  },
  {
   "cell_type": "code",
   "execution_count": 66,
   "id": "5e46ec44",
   "metadata": {},
   "outputs": [
    {
     "data": {
      "text/plain": [
       "<Response [200]>"
      ]
     },
     "execution_count": 66,
     "metadata": {},
     "output_type": "execute_result"
    }
   ],
   "source": [
    "body = {\"client_id\": client_id, \n",
    "        \"client_secret\": client_secret,\n",
    "        \"title\": \"тестовая api 6\",\n",
    "        \"from_date\": None,\n",
    "        \"to_date\": None,\n",
    "        \"daily_budget\": str(500*1e6),\n",
    "        \"exp_strategy\": None,\n",
    "        # \"placement\": 'PLACEMENT_SEARCH_AND_CATEGORY',\n",
    "        \"placement\": 'PLACEMENT_PDP',\n",
    "        \"product_autopilot_strategy\": None,\n",
    "        \"autopilot\": None,\n",
    "        \"pcm\": None\n",
    "       }\n",
    "\n",
    "head = {\"Content-Type\": \"application/json\"}\n",
    "\n",
    "url = url1 + \"/ozonperformance/addcamp\"\n",
    "request = requests.post(url, headers=head, data=json.dumps(body))\n",
    "request"
   ]
  },
  {
   "cell_type": "code",
   "execution_count": 67,
   "id": "a7cc967a",
   "metadata": {},
   "outputs": [
    {
     "data": {
      "text/plain": [
       "{'error': '{\"error\":\"only search-and-category placement available\"}',\n",
       " 'message': 'Ошибка запроса',\n",
       " 'status_code': 400}"
      ]
     },
     "execution_count": 67,
     "metadata": {},
     "output_type": "execute_result"
    }
   ],
   "source": [
    "request.json()"
   ]
  },
  {
   "cell_type": "markdown",
   "id": "4c43baa4",
   "metadata": {},
   "source": [
    "### Активировать кампанию\n",
    "\n",
    "POST\n",
    "\n",
    "/ozonperformance/activate"
   ]
  },
  {
   "cell_type": "code",
   "execution_count": 52,
   "id": "9bac2b44",
   "metadata": {},
   "outputs": [
    {
     "data": {
      "text/plain": [
       "<Response [200]>"
      ]
     },
     "execution_count": 52,
     "metadata": {},
     "output_type": "execute_result"
    }
   ],
   "source": [
    "body = {\"client_id\": client_id, \n",
    "        \"client_secret\": client_secret,\n",
    "        \"campaign_id\": '1646823'\n",
    "       }\n",
    "\n",
    "head = {\"Content-Type\": \"application/json\"}\n",
    "\n",
    "url = url1 + \"/ozonperformance/activate\"\n",
    "request = requests.post(url, headers=head, data=json.dumps(body))\n",
    "request"
   ]
  },
  {
   "cell_type": "code",
   "execution_count": 53,
   "id": "a878f6ed",
   "metadata": {},
   "outputs": [
    {
     "data": {
      "text/plain": [
       "{'result': {'id': '1646823',\n",
       "  'title': 'тестовая api 1',\n",
       "  'state': 'CAMPAIGN_STATE_RUNNING',\n",
       "  'advObjectType': 'SKU',\n",
       "  'fromDate': '2022-10-01',\n",
       "  'toDate': '',\n",
       "  'dailyBudget': '500000000',\n",
       "  'placement': ['PLACEMENT_SEARCH_AND_CATEGORY'],\n",
       "  'budget': '0',\n",
       "  'createdAt': '2022-10-01T19:41:43.032813Z',\n",
       "  'updatedAt': '2022-10-04T21:33:56.826679Z',\n",
       "  'productCampaignMode': 'PRODUCT_CAMPAIGN_MODE_AUTO',\n",
       "  'productAutopilotStrategy': 'NO_AUTO_STRATEGY',\n",
       "  'autopilot': {'maxBid': '0', 'categoryId': '0'}},\n",
       " 'message': 'Кампания активирована'}"
      ]
     },
     "execution_count": 53,
     "metadata": {},
     "output_type": "execute_result"
    }
   ],
   "source": [
    "request.json()"
   ]
  },
  {
   "cell_type": "markdown",
   "id": "c7f6f5b7",
   "metadata": {},
   "source": [
    "### Деактивация кампании\n",
    "\n",
    "POST\n",
    "\n",
    "/ozonperformance/deactivate"
   ]
  },
  {
   "cell_type": "code",
   "execution_count": 58,
   "id": "aea97f96",
   "metadata": {},
   "outputs": [
    {
     "data": {
      "text/plain": [
       "<Response [200]>"
      ]
     },
     "execution_count": 58,
     "metadata": {},
     "output_type": "execute_result"
    }
   ],
   "source": [
    "body = {\"client_id\": client_id, \n",
    "        \"client_secret\": client_secret,\n",
    "        \"campaign_id\": '1646823'\n",
    "       }\n",
    "\n",
    "head = {\"Content-Type\": \"application/json\"}\n",
    "\n",
    "url = url1 + \"/ozonperformance/deactivate\"\n",
    "request = requests.post(url, headers=head, \n",
    "                        data=json.dumps(body)\n",
    "                       )\n",
    "request"
   ]
  },
  {
   "cell_type": "code",
   "execution_count": 59,
   "id": "cfcae059",
   "metadata": {},
   "outputs": [
    {
     "data": {
      "text/plain": [
       "{'result': {'id': '1646823',\n",
       "  'title': 'тестовая api 1',\n",
       "  'state': 'CAMPAIGN_STATE_INACTIVE',\n",
       "  'advObjectType': 'SKU',\n",
       "  'fromDate': '2022-10-01',\n",
       "  'toDate': '',\n",
       "  'dailyBudget': '500000000',\n",
       "  'placement': ['PLACEMENT_SEARCH_AND_CATEGORY'],\n",
       "  'budget': '0',\n",
       "  'createdAt': '2022-10-01T19:41:43.032813Z',\n",
       "  'updatedAt': '2022-10-04T21:35:55.456871Z',\n",
       "  'productCampaignMode': 'PRODUCT_CAMPAIGN_MODE_AUTO',\n",
       "  'productAutopilotStrategy': 'NO_AUTO_STRATEGY',\n",
       "  'autopilot': {'maxBid': '0', 'categoryId': '0'}},\n",
       " 'message': 'Кампания деактивирована'}"
      ]
     },
     "execution_count": 59,
     "metadata": {},
     "output_type": "execute_result"
    }
   ],
   "source": [
    "request.json()"
   ]
  },
  {
   "cell_type": "code",
   "execution_count": null,
   "id": "4518ac6f",
   "metadata": {},
   "outputs": [],
   "source": []
  },
  {
   "cell_type": "markdown",
   "id": "696dfdd4",
   "metadata": {},
   "source": [
    "### Изменение сроков проведения кампании\n",
    "\n",
    "POST\n",
    "\n",
    "/ozonperformance/period"
   ]
  },
  {
   "cell_type": "code",
   "execution_count": 30,
   "id": "535bc844",
   "metadata": {},
   "outputs": [
    {
     "data": {
      "text/plain": [
       "<Response [200]>"
      ]
     },
     "execution_count": 30,
     "metadata": {},
     "output_type": "execute_result"
    }
   ],
   "source": [
    "body = {\"client_id\": client_id, \n",
    "        \"client_secret\": client_secret,\n",
    "        \"campaign_id\": '1639751',\n",
    "        \"date_from\": '2022-10-01',\n",
    "        \"date_to\": '2022-10-05'}\n",
    "\n",
    "head = {\"Content-Type\": \"application/json\"}\n",
    "\n",
    "url = url1 + \"/ozonperformance/period\"\n",
    "request = requests.post(url, headers=head, data=json.dumps(body))\n",
    "# request = requests.post(url, body)\n",
    "request"
   ]
  },
  {
   "cell_type": "code",
   "execution_count": 31,
   "id": "40c5f26a",
   "metadata": {},
   "outputs": [
    {
     "data": {
      "text/plain": [
       "{'result': {'campaignId': '1639751'}, 'message': 'Сроки изменены'}"
      ]
     },
     "execution_count": 31,
     "metadata": {},
     "output_type": "execute_result"
    }
   ],
   "source": [
    "request.json()"
   ]
  },
  {
   "cell_type": "code",
   "execution_count": null,
   "id": "06fd960a",
   "metadata": {},
   "outputs": [],
   "source": []
  },
  {
   "cell_type": "markdown",
   "id": "6014aa13",
   "metadata": {},
   "source": [
    "### Изменение дневного бюджета кампании\n",
    "\n",
    "POST\n",
    "\n",
    "/ozonperformance/budget"
   ]
  },
  {
   "cell_type": "code",
   "execution_count": 10,
   "id": "f1534076",
   "metadata": {},
   "outputs": [
    {
     "data": {
      "text/plain": [
       "<Response [200]>"
      ]
     },
     "execution_count": 10,
     "metadata": {},
     "output_type": "execute_result"
    }
   ],
   "source": [
    "body = {\"client_id\": client_id, \n",
    "        \"client_secret\": client_secret,\n",
    "        \"campaign_id\": '1639751',\n",
    "        \"daily_budget\": '100',\n",
    "        \"exp_str\": \"DAILY_BUDGET\"}\n",
    "\n",
    "head = {\"Content-Type\": \"application/json\"}\n",
    "\n",
    "url = url1 + \"/ozonperformance/budget\"\n",
    "request = requests.post(url, headers=head, data=json.dumps(body))\n",
    "# request = requests.post(url, body)\n",
    "request"
   ]
  },
  {
   "cell_type": "code",
   "execution_count": 11,
   "id": "3c506f35",
   "metadata": {},
   "outputs": [
    {
     "data": {
      "text/plain": [
       "{'error': '{\"error\":\"Дневной бюджет обязателен\"}',\n",
       " 'message': 'Ошибка запроса',\n",
       " 'status_code': 400}"
      ]
     },
     "execution_count": 11,
     "metadata": {},
     "output_type": "execute_result"
    }
   ],
   "source": [
    "request.json()"
   ]
  },
  {
   "cell_type": "code",
   "execution_count": null,
   "id": "7d40e6b2",
   "metadata": {},
   "outputs": [],
   "source": []
  },
  {
   "cell_type": "markdown",
   "id": "aa18b136",
   "metadata": {},
   "source": [
    "### Создание группы\n",
    "\n",
    "POST\n",
    "\n",
    "/ozonperformance/addgroup"
   ]
  },
  {
   "cell_type": "code",
   "execution_count": 64,
   "id": "27c12add",
   "metadata": {},
   "outputs": [
    {
     "data": {
      "text/plain": [
       "<Response [200]>"
      ]
     },
     "execution_count": 64,
     "metadata": {},
     "output_type": "execute_result"
    }
   ],
   "source": [
    "body = {\"client_id\": client_id, \n",
    "        \"client_secret\": client_secret,\n",
    "        \"campaign_id\": '130561',\n",
    "        \"title\": 'тестовая api группа 2',\n",
    "        \"stopwords\": ['яндекс'],\n",
    "        \"phrases\": ['купить диван'],\n",
    "        \"bids_list\": [100]\n",
    "       }\n",
    "\n",
    "head = {\"Content-Type\": \"application/json\"}\n",
    "\n",
    "url = url1 + \"/ozonperformance/addgroup\"\n",
    "request = requests.post(url, headers=head, data=json.dumps(body))\n",
    "# request = requests.post(url, body)\n",
    "request"
   ]
  },
  {
   "cell_type": "code",
   "execution_count": 65,
   "id": "ed7e712b",
   "metadata": {},
   "outputs": [
    {
     "data": {
      "text/plain": [
       "{'error': '{\"error\":\"invalid campaign\"}',\n",
       " 'message': 'Ошибка запроса',\n",
       " 'status_code': 400}"
      ]
     },
     "execution_count": 65,
     "metadata": {},
     "output_type": "execute_result"
    }
   ],
   "source": [
    "request.json()"
   ]
  },
  {
   "cell_type": "code",
   "execution_count": null,
   "id": "1f77ee61",
   "metadata": {},
   "outputs": [],
   "source": []
  },
  {
   "cell_type": "markdown",
   "id": "1a2fec66",
   "metadata": {},
   "source": [
    "### Редактирование группы\n",
    "\n",
    "POST\n",
    "\n",
    "/ozonperformance/editgroup"
   ]
  },
  {
   "cell_type": "code",
   "execution_count": 46,
   "id": "9a4e2c8c",
   "metadata": {},
   "outputs": [
    {
     "data": {
      "text/plain": [
       "<Response [200]>"
      ]
     },
     "execution_count": 46,
     "metadata": {},
     "output_type": "execute_result"
    }
   ],
   "source": [
    "body = {\"client_id\": client_id, \n",
    "        \"client_secret\": client_secret,\n",
    "        \"campaign_id\": '130561',\n",
    "        \"group_id\": '',\n",
    "        \"title\": 'тестовая api группа',\n",
    "        \"stopwords\": None,\n",
    "        \"phrases\": None\n",
    "       }\n",
    "\n",
    "head = {\"Content-Type\": \"application/json\"}\n",
    "\n",
    "url = url1 + \"/ozonperformance/editgroup\"\n",
    "request = requests.post(url, headers=head, data=json.dumps(body))\n",
    "# request = requests.post(url, body)\n",
    "request"
   ]
  },
  {
   "cell_type": "code",
   "execution_count": 47,
   "id": "69693f0d",
   "metadata": {},
   "outputs": [
    {
     "data": {
      "text/plain": [
       "{'error': '404 page not found\\n',\n",
       " 'message': 'Ошибка запроса',\n",
       " 'status_code': 404}"
      ]
     },
     "execution_count": 47,
     "metadata": {},
     "output_type": "execute_result"
    }
   ],
   "source": [
    "request.json()"
   ]
  },
  {
   "cell_type": "code",
   "execution_count": null,
   "id": "937c75d8",
   "metadata": {},
   "outputs": [],
   "source": []
  },
  {
   "cell_type": "markdown",
   "id": "b27e69b5",
   "metadata": {},
   "source": [
    "### Добавление товаров с размещением в карточке товара\n",
    "\n",
    "POST\n",
    "\n",
    "/ozonperformance/addcardproducts"
   ]
  },
  {
   "cell_type": "code",
   "execution_count": 48,
   "id": "963eb256",
   "metadata": {},
   "outputs": [
    {
     "data": {
      "text/plain": [
       "<Response [200]>"
      ]
     },
     "execution_count": 48,
     "metadata": {},
     "output_type": "execute_result"
    }
   ],
   "source": [
    "body = {\"client_id\": client_id, \n",
    "        \"client_secret\": client_secret,\n",
    "        \"campaign_id\": '1639751',\n",
    "        \"sku_list\": ['172471703'],\n",
    "        \"bids_list\": [10]}\n",
    "\n",
    "head = {\"Content-Type\": \"application/json\"}\n",
    "\n",
    "url = url1 + \"/ozonperformance/addcardproducts\"\n",
    "request = requests.post(url, headers=head, data=json.dumps(body))\n",
    "# request = requests.post(url, body)\n",
    "request"
   ]
  },
  {
   "cell_type": "code",
   "execution_count": 49,
   "id": "1f1479d1",
   "metadata": {},
   "outputs": [
    {
     "data": {
      "text/plain": [
       "{'result': {}, 'message': 'Добавлено'}"
      ]
     },
     "execution_count": 49,
     "metadata": {},
     "output_type": "execute_result"
    }
   ],
   "source": [
    "request.json()"
   ]
  },
  {
   "cell_type": "code",
   "execution_count": 50,
   "id": "3cb97fac",
   "metadata": {},
   "outputs": [
    {
     "data": {
      "text/plain": [
       "'{\\n    \"result\": {},\\n    \"message\": \"\\\\u0414\\\\u043e\\\\u0431\\\\u0430\\\\u0432\\\\u043b\\\\u0435\\\\u043d\\\\u043e\"\\n}\\n'"
      ]
     },
     "execution_count": 50,
     "metadata": {},
     "output_type": "execute_result"
    }
   ],
   "source": [
    "request.text"
   ]
  },
  {
   "cell_type": "code",
   "execution_count": null,
   "id": "2bf9cb8d",
   "metadata": {},
   "outputs": [],
   "source": []
  },
  {
   "cell_type": "markdown",
   "id": "24a21999",
   "metadata": {},
   "source": [
    "### Добавление в кампанию товаров в ранее созданные группы с размещением на страницах каталога и поиска\n",
    "\n",
    "POST\n",
    "\n",
    "/ozonperformance/addgroupproducts"
   ]
  },
  {
   "cell_type": "code",
   "execution_count": 51,
   "id": "6e135531",
   "metadata": {},
   "outputs": [
    {
     "data": {
      "text/plain": [
       "<Response [200]>"
      ]
     },
     "execution_count": 51,
     "metadata": {},
     "output_type": "execute_result"
    }
   ],
   "source": [
    "body = {\"client_id\": client_id, \n",
    "        \"client_secret\": client_secret,\n",
    "        \"campaign_id\": '1639751',\n",
    "        \"sku_list\": ['172471703'],\n",
    "        \"bids_list\": ['10'],\n",
    "        \"groups_list\": ['abc']}\n",
    "\n",
    "head = {\"Content-Type\": \"application/json\"}\n",
    "\n",
    "url = url1 + \"/ozonperformance/addgroupproducts\"\n",
    "request = requests.post(url, headers=head, data=json.dumps(body))\n",
    "# request = requests.post(url, body)\n",
    "request"
   ]
  },
  {
   "cell_type": "code",
   "execution_count": 52,
   "id": "427d739a",
   "metadata": {},
   "outputs": [
    {
     "data": {
      "text/plain": [
       "{'error': '{\"error\":\"proto:\\xa0(line 1:62): invalid value for uint64 type: \\\\\"abc\\\\\"\"}',\n",
       " 'message': 'Ошибка при обращении к серверу OZON',\n",
       " 'status_code': 400}"
      ]
     },
     "execution_count": 52,
     "metadata": {},
     "output_type": "execute_result"
    }
   ],
   "source": [
    "request.json()"
   ]
  },
  {
   "cell_type": "code",
   "execution_count": null,
   "id": "33d0efcf",
   "metadata": {},
   "outputs": [],
   "source": []
  },
  {
   "cell_type": "markdown",
   "id": "9e82a579",
   "metadata": {},
   "source": [
    "### Добавление товара на страницах каталога и поиска — добавление без группы\n",
    "\n",
    "POST\n",
    "\n",
    "/ozonperformance/addproduct"
   ]
  },
  {
   "cell_type": "code",
   "execution_count": 53,
   "id": "5976d691",
   "metadata": {},
   "outputs": [
    {
     "data": {
      "text/plain": [
       "<Response [200]>"
      ]
     },
     "execution_count": 53,
     "metadata": {},
     "output_type": "execute_result"
    }
   ],
   "source": [
    "body = {\"client_id\": client_id, \n",
    "        \"client_secret\": client_secret,\n",
    "        \"campaign_id\": '1639751',\n",
    "        \"sku\": '172471703',\n",
    "        \"stopwords\": ['яндекс', 'маркет'],\n",
    "        \"phrases\": ['купить платье'],\n",
    "        \"bids_list\": [100]\n",
    "       }\n",
    "\n",
    "head = {\"Content-Type\": \"application/json\"}\n",
    "\n",
    "url = url1 + \"/ozonperformance/addproduct\"\n",
    "request = requests.post(url, headers=head, data=json.dumps(body))\n",
    "# request = requests.post(url, body)\n",
    "request"
   ]
  },
  {
   "cell_type": "code",
   "execution_count": 54,
   "id": "6c767255",
   "metadata": {},
   "outputs": [
    {
     "data": {
      "text/plain": [
       "{'result': {}, 'message': 'Добавлено'}"
      ]
     },
     "execution_count": 54,
     "metadata": {},
     "output_type": "execute_result"
    }
   ],
   "source": [
    "request.json()"
   ]
  },
  {
   "cell_type": "code",
   "execution_count": null,
   "id": "e562491f",
   "metadata": {},
   "outputs": [],
   "source": []
  },
  {
   "cell_type": "markdown",
   "id": "61137b1a",
   "metadata": {},
   "source": [
    "### Обновление ставок товаров с размещением в карточке товара\n",
    "\n",
    "POST\n",
    "\n",
    "\n",
    "/ozonperformance/updbidscardproducts"
   ]
  },
  {
   "cell_type": "code",
   "execution_count": 55,
   "id": "eef3c736",
   "metadata": {},
   "outputs": [
    {
     "data": {
      "text/plain": [
       "<Response [200]>"
      ]
     },
     "execution_count": 55,
     "metadata": {},
     "output_type": "execute_result"
    }
   ],
   "source": [
    "body = {\"client_id\": client_id, \n",
    "        \"client_secret\": client_secret,\n",
    "        \"campaign_id\": '1639751',\n",
    "        \"sku_list\": ['172471703'],\n",
    "        \"bids_list\": [50]}\n",
    "\n",
    "head = {\"Content-Type\": \"application/json\"}\n",
    "\n",
    "url = url1 + \"/ozonperformance/updbidscardproducts\"\n",
    "request = requests.post(url, headers=head, data=json.dumps(body))\n",
    "# request = requests.post(url, body)\n",
    "request"
   ]
  },
  {
   "cell_type": "code",
   "execution_count": 56,
   "id": "7b92a020",
   "metadata": {},
   "outputs": [
    {
     "data": {
      "text/plain": [
       "{'result': {}, 'message': 'Обновлено'}"
      ]
     },
     "execution_count": 56,
     "metadata": {},
     "output_type": "execute_result"
    }
   ],
   "source": [
    "request.json()"
   ]
  },
  {
   "cell_type": "code",
   "execution_count": null,
   "id": "7ea83867",
   "metadata": {},
   "outputs": [],
   "source": []
  },
  {
   "cell_type": "markdown",
   "id": "2950b32f",
   "metadata": {},
   "source": [
    "### Обновление ставок товара на страницах каталога и поиска — без группы\n",
    "\n",
    "POST\n",
    "\n",
    "/ozonperformance/updbidsproducts"
   ]
  },
  {
   "cell_type": "code",
   "execution_count": 57,
   "id": "dc8544af",
   "metadata": {},
   "outputs": [
    {
     "data": {
      "text/plain": [
       "<Response [200]>"
      ]
     },
     "execution_count": 57,
     "metadata": {},
     "output_type": "execute_result"
    }
   ],
   "source": [
    "body = {\"client_id\": client_id, \n",
    "        \"client_secret\": client_secret,\n",
    "        \"campaign_id\": '1639751',\n",
    "        \"sku\": '172471703',\n",
    "        \"stopwords\": ['яндекс', 'маркет'],\n",
    "        \"phrases\": ['купить платье'],\n",
    "        \"bids_list\": [110]\n",
    "       }\n",
    "\n",
    "head = {\"Content-Type\": \"application/json\"}\n",
    "\n",
    "url = url1 + \"/ozonperformance/updbidsproducts\"\n",
    "request = requests.post(url, headers=head, data=json.dumps(body))\n",
    "request"
   ]
  },
  {
   "cell_type": "code",
   "execution_count": 58,
   "id": "2bfdfdc1",
   "metadata": {},
   "outputs": [
    {
     "data": {
      "text/plain": [
       "{'error': '{\"error\":\"bid must be \\\\u003e 0 for campaign with product_campaign_mode=auto\"}',\n",
       " 'message': 'Ошибка при обращении к серверу OZON',\n",
       " 'status_code': 400}"
      ]
     },
     "execution_count": 58,
     "metadata": {},
     "output_type": "execute_result"
    }
   ],
   "source": [
    "request.json()"
   ]
  },
  {
   "cell_type": "code",
   "execution_count": null,
   "id": "6cdfa841",
   "metadata": {},
   "outputs": [],
   "source": []
  },
  {
   "cell_type": "markdown",
   "id": "a773056d",
   "metadata": {},
   "source": [
    "### Список товаров кампании\n",
    "\n",
    "POST\n",
    "\n",
    "\n",
    "/ozonperformance/prodlist"
   ]
  },
  {
   "cell_type": "code",
   "execution_count": 59,
   "id": "2ca98462",
   "metadata": {},
   "outputs": [
    {
     "data": {
      "text/plain": [
       "<Response [200]>"
      ]
     },
     "execution_count": 59,
     "metadata": {},
     "output_type": "execute_result"
    }
   ],
   "source": [
    "body = {\"client_id\": client_id, \n",
    "        \"client_secret\": client_secret,\n",
    "        \"campaign_id\": '1639751',\n",
    "       }\n",
    "\n",
    "head = {\"Content-Type\": \"application/json\"}\n",
    "\n",
    "url = url1 + \"/ozonperformance/prodlist\"\n",
    "request = requests.post(url, headers=head, data=json.dumps(body))\n",
    "request"
   ]
  },
  {
   "cell_type": "code",
   "execution_count": 60,
   "id": "051474ba",
   "metadata": {},
   "outputs": [
    {
     "data": {
      "text/plain": [
       "{'result': {'products': [{'sku': '172471703',\n",
       "    'bid': '50000000',\n",
       "    'groupId': '0',\n",
       "    'stopWords': [],\n",
       "    'phrases': [],\n",
       "    'auctionStatus': [3, 4],\n",
       "    'categories': [],\n",
       "    'title': 'Многоцелнвое антисептическое средство для рук Pro-Brite CLF, 5 л в канистре'}]}}"
      ]
     },
     "execution_count": 60,
     "metadata": {},
     "output_type": "execute_result"
    }
   ],
   "source": [
    "request.json()"
   ]
  },
  {
   "cell_type": "code",
   "execution_count": null,
   "id": "3966ec1f",
   "metadata": {},
   "outputs": [],
   "source": []
  },
  {
   "cell_type": "markdown",
   "id": "5d13c367",
   "metadata": {},
   "source": [
    "### Удалить товары из кампании\n",
    "\n",
    "POST\n",
    "\n",
    "/ozonperformance/delproducts"
   ]
  },
  {
   "cell_type": "code",
   "execution_count": 61,
   "id": "3d9591c4",
   "metadata": {},
   "outputs": [
    {
     "data": {
      "text/plain": [
       "<Response [200]>"
      ]
     },
     "execution_count": 61,
     "metadata": {},
     "output_type": "execute_result"
    }
   ],
   "source": [
    "body = {\"client_id\": client_id, \n",
    "        \"client_secret\": client_secret,\n",
    "        \"campaign_id\": '1639751',\n",
    "        \"sku_list\": ['172471703']\n",
    "       }\n",
    "\n",
    "head = {\"Content-Type\": \"application/json\"}\n",
    "\n",
    "url = url1 + \"/ozonperformance/delproducts\"\n",
    "request = requests.post(url, headers=head, data=json.dumps(body))\n",
    "request"
   ]
  },
  {
   "cell_type": "code",
   "execution_count": 62,
   "id": "cdcbf60b",
   "metadata": {},
   "outputs": [
    {
     "data": {
      "text/plain": [
       "{'result': {}, 'message': 'Удалено'}"
      ]
     },
     "execution_count": 62,
     "metadata": {},
     "output_type": "execute_result"
    }
   ],
   "source": [
    "request.json()"
   ]
  },
  {
   "cell_type": "code",
   "execution_count": null,
   "id": "7968703c",
   "metadata": {},
   "outputs": [],
   "source": []
  },
  {
   "cell_type": "code",
   "execution_count": null,
   "id": "af939abf",
   "metadata": {},
   "outputs": [],
   "source": []
  }
 ],
 "metadata": {
  "kernelspec": {
   "display_name": "Python 3 (ipykernel)",
   "language": "python",
   "name": "python3"
  },
  "language_info": {
   "codemirror_mode": {
    "name": "ipython",
    "version": 3
   },
   "file_extension": ".py",
   "mimetype": "text/x-python",
   "name": "python",
   "nbconvert_exporter": "python",
   "pygments_lexer": "ipython3",
   "version": "3.9.12"
  }
 },
 "nbformat": 4,
 "nbformat_minor": 5
}
